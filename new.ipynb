{
 "cells": [
  {
   "cell_type": "code",
   "execution_count": 21,
   "id": "0808e30c",
   "metadata": {},
   "outputs": [
    {
     "name": "stdout",
     "output_type": "stream",
     "text": [
      "C:\\Users\\Taha Gandhi\\Desktop\\Desktop\\ML\\Prj\\input\\sample_submission_data.csv\n",
      "C:\\Users\\Taha Gandhi\\Desktop\\Desktop\\ML\\Prj\\input\\test_data.csv\n",
      "C:\\Users\\Taha Gandhi\\Desktop\\Desktop\\ML\\Prj\\input\\test_labels_data.csv\n",
      "C:\\Users\\Taha Gandhi\\Desktop\\Desktop\\ML\\Prj\\input\\train_data.csv\n",
      "C:\\Users\\Taha Gandhi\\Desktop\\Desktop\\ML\\Prj\\input\\Pretrained\\glove.6B.100d.txt\n",
      "C:\\Users\\Taha Gandhi\\Desktop\\Desktop\\ML\\Prj\\input\\Pretrained\\glove.6B.200d.txt\n",
      "C:\\Users\\Taha Gandhi\\Desktop\\Desktop\\ML\\Prj\\input\\Pretrained\\glove.6B.300d.txt\n",
      "C:\\Users\\Taha Gandhi\\Desktop\\Desktop\\ML\\Prj\\input\\Pretrained\\glove.6B.50d.txt\n",
      "C:\\Users\\Taha Gandhi\\Desktop\\Desktop\\ML\\Prj\\input\\Pretrained\\GoogleNews-vec_neg.bin\n"
     ]
    }
   ],
   "source": [
    "import numpy as np # linear algebra\n",
    "import pandas as pd # data processing, CSV file I/O (e.g. pd.read_csv)\n",
    "import nltk as nltk\n",
    "import seaborn as sns\n",
    "import matplotlib.pyplot as plt\n",
    "from nltk.corpus import stopwords\n",
    "\n",
    "\n",
    "# Input data files are in  read-only \"../input/\" directory\n",
    "\n",
    "import os\n",
    "for dirname, _, filenames in os.walk(r'C:\\Users\\Taha Gandhi\\Desktop\\Desktop\\ML\\Prj\\input'):\n",
    "    for filename in filenames:\n",
    "        print(os.path.join(dirname, filename))"
   ]
  },
  {
   "cell_type": "code",
   "execution_count": 22,
   "id": "2a6f10cf",
   "metadata": {},
   "outputs": [],
   "source": [
    "df = pd.read_csv(r'C:\\Users\\Taha Gandhi\\Desktop\\Desktop\\ML\\Prj\\input\\train_data.csv')\n",
    "rslt_df = df[(df['toxic'] == 0) & (df['severe_toxic'] == 0) & (df['obscene'] == 0) & (df['threat'] == 0) & (df['insult'] == 0) & (df['identity_hate'] == 0)]\n",
    "rslt_df2 = df[(df['toxic'] == 1) & (df['severe_toxic'] == 0) & (df['obscene'] == 0) & (df['threat'] == 0) & (df['insult'] == 0) & (df['identity_hate'] == 0)]\n",
    "new1 = rslt_df[['id', 'comment_text', 'toxic']].iloc[:23000].copy() \n",
    "new2 = rslt_df2[['id', 'comment_text', 'toxic']].iloc[:900].copy()\n",
    "new = pd.concat([new1, new2], ignore_index=True)"
   ]
  },
  {
   "cell_type": "code",
   "execution_count": 23,
   "id": "46ba8689",
   "metadata": {},
   "outputs": [
    {
     "data": {
      "text/html": [
       "<div>\n",
       "<style scoped>\n",
       "    .dataframe tbody tr th:only-of-type {\n",
       "        vertical-align: middle;\n",
       "    }\n",
       "\n",
       "    .dataframe tbody tr th {\n",
       "        vertical-align: top;\n",
       "    }\n",
       "\n",
       "    .dataframe thead th {\n",
       "        text-align: right;\n",
       "    }\n",
       "</style>\n",
       "<table border=\"1\" class=\"dataframe\">\n",
       "  <thead>\n",
       "    <tr style=\"text-align: right;\">\n",
       "      <th></th>\n",
       "      <th>id</th>\n",
       "      <th>comment_text</th>\n",
       "      <th>toxic</th>\n",
       "    </tr>\n",
       "  </thead>\n",
       "  <tbody>\n",
       "    <tr>\n",
       "      <th>0</th>\n",
       "      <td>0000997932d777bf</td>\n",
       "      <td>Explanation\\nWhy the edits made under my usern...</td>\n",
       "      <td>0</td>\n",
       "    </tr>\n",
       "    <tr>\n",
       "      <th>1</th>\n",
       "      <td>000103f0d9cfb60f</td>\n",
       "      <td>D'aww! He matches this background colour I'm s...</td>\n",
       "      <td>0</td>\n",
       "    </tr>\n",
       "    <tr>\n",
       "      <th>2</th>\n",
       "      <td>000113f07ec002fd</td>\n",
       "      <td>Hey man, I'm really not trying to edit war. It...</td>\n",
       "      <td>0</td>\n",
       "    </tr>\n",
       "    <tr>\n",
       "      <th>3</th>\n",
       "      <td>0001b41b1c6bb37e</td>\n",
       "      <td>\"\\nMore\\nI can't make any real suggestions on ...</td>\n",
       "      <td>0</td>\n",
       "    </tr>\n",
       "    <tr>\n",
       "      <th>4</th>\n",
       "      <td>0001d958c54c6e35</td>\n",
       "      <td>You, sir, are my hero. Any chance you remember...</td>\n",
       "      <td>0</td>\n",
       "    </tr>\n",
       "    <tr>\n",
       "      <th>5</th>\n",
       "      <td>00025465d4725e87</td>\n",
       "      <td>\"\\n\\nCongratulations from me as well, use the ...</td>\n",
       "      <td>0</td>\n",
       "    </tr>\n",
       "    <tr>\n",
       "      <th>6</th>\n",
       "      <td>00031b1e95af7921</td>\n",
       "      <td>Your vandalism to the Matt Shirvington article...</td>\n",
       "      <td>0</td>\n",
       "    </tr>\n",
       "    <tr>\n",
       "      <th>7</th>\n",
       "      <td>00037261f536c51d</td>\n",
       "      <td>Sorry if the word 'nonsense' was offensive to ...</td>\n",
       "      <td>0</td>\n",
       "    </tr>\n",
       "    <tr>\n",
       "      <th>8</th>\n",
       "      <td>00040093b2687caa</td>\n",
       "      <td>alignment on this subject and which are contra...</td>\n",
       "      <td>0</td>\n",
       "    </tr>\n",
       "    <tr>\n",
       "      <th>9</th>\n",
       "      <td>0005300084f90edc</td>\n",
       "      <td>\"\\nFair use rationale for Image:Wonju.jpg\\n\\nT...</td>\n",
       "      <td>0</td>\n",
       "    </tr>\n",
       "  </tbody>\n",
       "</table>\n",
       "</div>"
      ],
      "text/plain": [
       "                 id                                       comment_text  toxic\n",
       "0  0000997932d777bf  Explanation\\nWhy the edits made under my usern...      0\n",
       "1  000103f0d9cfb60f  D'aww! He matches this background colour I'm s...      0\n",
       "2  000113f07ec002fd  Hey man, I'm really not trying to edit war. It...      0\n",
       "3  0001b41b1c6bb37e  \"\\nMore\\nI can't make any real suggestions on ...      0\n",
       "4  0001d958c54c6e35  You, sir, are my hero. Any chance you remember...      0\n",
       "5  00025465d4725e87  \"\\n\\nCongratulations from me as well, use the ...      0\n",
       "6  00031b1e95af7921  Your vandalism to the Matt Shirvington article...      0\n",
       "7  00037261f536c51d  Sorry if the word 'nonsense' was offensive to ...      0\n",
       "8  00040093b2687caa  alignment on this subject and which are contra...      0\n",
       "9  0005300084f90edc  \"\\nFair use rationale for Image:Wonju.jpg\\n\\nT...      0"
      ]
     },
     "execution_count": 23,
     "metadata": {},
     "output_type": "execute_result"
    }
   ],
   "source": [
    "new.head(10)"
   ]
  },
  {
   "cell_type": "code",
   "execution_count": 24,
   "id": "caad1e1b",
   "metadata": {},
   "outputs": [],
   "source": [
    "output=['toxic','severe_toxic','obscene','threat','insult','identity_hate']"
   ]
  },
  {
   "cell_type": "code",
   "execution_count": 25,
   "id": "79a793b1",
   "metadata": {},
   "outputs": [
    {
     "data": {
      "text/plain": [
       "Text(0.5, 1.0, 'Count of labels')"
      ]
     },
     "execution_count": 25,
     "metadata": {},
     "output_type": "execute_result"
    },
    {
     "data": {
      "image/png": "[encoded data removed]",
      "text/plain": [
       "<Figure size 640x480 with 1 Axes>"
      ]
     },
     "metadata": {},
     "output_type": "display_data"
    }
   ],
   "source": [
    "sns.countplot(x=new.toxic)\n",
    "plt.xlabel('class')\n",
    "plt.title('Count of labels')"
   ]
  },
  {
   "cell_type": "code",
   "execution_count": 26,
   "id": "d3d5909a",
   "metadata": {},
   "outputs": [],
   "source": [
    "# As we can see data is skewed therefore we will oversample it.\n",
    "tk=nltk.tokenize.TreebankWordTokenizer()\n",
    "comment_tokens = [tk.tokenize(sent) for sent in new['comment_text']]"
   ]
  },
  {
   "cell_type": "code",
   "execution_count": 27,
   "id": "0f6e4342",
   "metadata": {},
   "outputs": [
    {
     "data": {
      "text/plain": [
       "23900"
      ]
     },
     "execution_count": 27,
     "metadata": {},
     "output_type": "execute_result"
    }
   ],
   "source": [
    "len(comment_tokens)"
   ]
  },
  {
   "cell_type": "code",
   "execution_count": 28,
   "id": "50c1b305",
   "metadata": {},
   "outputs": [],
   "source": [
    "from nltk.corpus import stopwords\n",
    "for i in range(len(comment_tokens)):\n",
    "    comment_tokens[i] = [w for w in comment_tokens[i] if w not in stopwords.words('english')]"
   ]
  },
  {
   "cell_type": "code",
   "execution_count": 29,
   "id": "5167ff05",
   "metadata": {},
   "outputs": [],
   "source": [
    "import gensim\n",
    "# using pretrained model  \n",
    "model = gensim.models.KeyedVectors.load_word2vec_format(r'C:\\Users\\Taha Gandhi\\Desktop\\Desktop\\ML\\Prj\\input\\Pretrained\\GoogleNews-vec_neg.bin', binary=True)"
   ]
  },
  {
   "cell_type": "code",
   "execution_count": 30,
   "id": "b1992e0b",
   "metadata": {},
   "outputs": [
    {
     "data": {
      "text/plain": [
       "3000000"
      ]
     },
     "execution_count": 30,
     "metadata": {},
     "output_type": "execute_result"
    }
   ],
   "source": [
    "vocabulary = model.key_to_index  \n",
    "# using model to get length of vocabulary\n",
    "len(vocabulary)"
   ]
  },
  {
   "cell_type": "code",
   "execution_count": 31,
   "id": "e9ac9a24",
   "metadata": {},
   "outputs": [
    {
     "data": {
      "text/plain": [
       "[('fucking', 0.8137821555137634),\n",
       " ('f_*_ck', 0.8011547327041626),\n",
       " ('f_**_k', 0.7815893888473511),\n",
       " ('shit', 0.7604621648788452),\n",
       " ('fucked', 0.7501130700111389),\n",
       " ('fuckin', 0.7309141755104065),\n",
       " ('f_***', 0.7172754406929016),\n",
       " ('f_ck', 0.7121477127075195),\n",
       " ('f_---', 0.7099311351776123),\n",
       " ('Fuck', 0.7066987156867981)]"
      ]
     },
     "execution_count": 31,
     "metadata": {},
     "output_type": "execute_result"
    }
   ],
   "source": [
    "model.most_similar('fuck')"
   ]
  },
  {
   "cell_type": "code",
   "execution_count": 51,
   "id": "287ddfd8",
   "metadata": {},
   "outputs": [
    {
     "data": {
      "text/html": [
       "<div class=\"bk-root\">\n",
       "        <a href=\"https://bokeh.org\" target=\"_blank\" class=\"bk-logo bk-logo-small bk-logo-notebook\"></a>\n",
       "        <span id=\"1785\">Loading BokehJS ...</span>\n",
       "    </div>\n"
      ]
     },
     "metadata": {},
     "output_type": "display_data"
    },
    {
     "data": {
      "application/javascript": [
       "(function(root) {\n",
       "  function now() {\n",
       "    return new Date();\n",
       "  }\n",
       "\n",
       "  const force = true;\n",
       "\n",
       "  if (typeof root._bokeh_onload_callbacks === \"undefined\" || force === true) {\n",
       "    root._bokeh_onload_callbacks = [];\n",
       "    root._bokeh_is_loading = undefined;\n",
       "  }\n",
       "\n",
       "const JS_MIME_TYPE = 'application/javascript';\n",
       "  const HTML_MIME_TYPE = 'text/html';\n",
       "  const EXEC_MIME_TYPE = 'application/vnd.bokehjs_exec.v0+json';\n",
       "  const CLASS_NAME = 'output_bokeh rendered_html';\n",
       "\n",
       "  /**\n",
       "   * Render data to the DOM node\n",
       "   */\n",
       "  function render(props, node) {\n",
       "    const script = document.createElement(\"script\");\n",
       "    node.appendChild(script);\n",
       "  }\n",
       "\n",
       "  /**\n",
       "   * Handle when an output is cleared or removed\n",
       "   */\n",
       "  function handleClearOutput(event, handle) {\n",
       "    const cell = handle.cell;\n",
       "\n",
       "    const id = cell.output_area._bokeh_element_id;\n",
       "    const server_id = cell.output_area._bokeh_server_id;\n",
       "    // Clean up Bokeh references\n",
       "    if (id != null && id in Bokeh.index) {\n",
       "      Bokeh.index[id].model.document.clear();\n",
       "      delete Bokeh.index[id];\n",
       "    }\n",
       "\n",
       "    if (server_id !== undefined) {\n",
       "      // Clean up Bokeh references\n",
       "      const cmd_clean = \"from bokeh.io.state import curstate; print(curstate().uuid_to_server['\" + server_id + \"'].get_sessions()[0].document.roots[0]._id)\";\n",
       "      cell.notebook.kernel.execute(cmd_clean, {\n",
       "        iopub: {\n",
       "          output: function(msg) {\n",
       "            const id = msg.content.text.trim();\n",
       "            if (id in Bokeh.index) {\n",
       "              Bokeh.index[id].model.document.clear();\n",
       "              delete Bokeh.index[id];\n",
       "            }\n",
       "          }\n",
       "        }\n",
       "      });\n",
       "      // Destroy server and session\n",
       "      const cmd_destroy = \"import bokeh.io.notebook as ion; ion.destroy_server('\" + server_id + \"')\";\n",
       "      cell.notebook.kernel.execute(cmd_destroy);\n",
       "    }\n",
       "  }\n",
       "\n",
       "  /**\n",
       "   * Handle when a new output is added\n",
       "   */\n",
       "  function handleAddOutput(event, handle) {\n",
       "    const output_area = handle.output_area;\n",
       "    const output = handle.output;\n",
       "\n",
       "    // limit handleAddOutput to display_data with EXEC_MIME_TYPE content only\n",
       "    if ((output.output_type != \"display_data\") || (!Object.prototype.hasOwnProperty.call(output.data, EXEC_MIME_TYPE))) {\n",
       "      return\n",
       "    }\n",
       "\n",
       "    const toinsert = output_area.element.find(\".\" + CLASS_NAME.split(' ')[0]);\n",
       "\n",
       "    if (output.metadata[EXEC_MIME_TYPE][\"id\"] !== undefined) {\n",
       "      toinsert[toinsert.length - 1].firstChild.textContent = output.data[JS_MIME_TYPE];\n",
       "      // store reference to embed id on output_area\n",
       "      output_area._bokeh_element_id = output.metadata[EXEC_MIME_TYPE][\"id\"];\n",
       "    }\n",
       "    if (output.metadata[EXEC_MIME_TYPE][\"server_id\"] !== undefined) {\n",
       "      const bk_div = document.createElement(\"div\");\n",
       "      bk_div.innerHTML = output.data[HTML_MIME_TYPE];\n",
       "      const script_attrs = bk_div.children[0].attributes;\n",
       "      for (let i = 0; i < script_attrs.length; i++) {\n",
       "        toinsert[toinsert.length - 1].firstChild.setAttribute(script_attrs[i].name, script_attrs[i].value);\n",
       "        toinsert[toinsert.length - 1].firstChild.textContent = bk_div.children[0].textContent\n",
       "      }\n",
       "      // store reference to server id on output_area\n",
       "      output_area._bokeh_server_id = output.metadata[EXEC_MIME_TYPE][\"server_id\"];\n",
       "    }\n",
       "  }\n",
       "\n",
       "  function register_renderer(events, OutputArea) {\n",
       "\n",
       "    function append_mime(data, metadata, element) {\n",
       "      // create a DOM node to render to\n",
       "      const toinsert = this.create_output_subarea(\n",
       "        metadata,\n",
       "        CLASS_NAME,\n",
       "        EXEC_MIME_TYPE\n",
       "      );\n",
       "      this.keyboard_manager.register_events(toinsert);\n",
       "      // Render to node\n",
       "      const props = {data: data, metadata: metadata[EXEC_MIME_TYPE]};\n",
       "      render(props, toinsert[toinsert.length - 1]);\n",
       "      element.append(toinsert);\n",
       "      return toinsert\n",
       "    }\n",
       "\n",
       "    /* Handle when an output is cleared or removed */\n",
       "    events.on('clear_output.CodeCell', handleClearOutput);\n",
       "    events.on('delete.Cell', handleClearOutput);\n",
       "\n",
       "    /* Handle when a new output is added */\n",
       "    events.on('output_added.OutputArea', handleAddOutput);\n",
       "\n",
       "    /**\n",
       "     * Register the mime type and append_mime function with output_area\n",
       "     */\n",
       "    OutputArea.prototype.register_mime_type(EXEC_MIME_TYPE, append_mime, {\n",
       "      /* Is output safe? */\n",
       "      safe: true,\n",
       "      /* Index of renderer in `output_area.display_order` */\n",
       "      index: 0\n",
       "    });\n",
       "  }\n",
       "\n",
       "  // register the mime type if in Jupyter Notebook environment and previously unregistered\n",
       "  if (root.Jupyter !== undefined) {\n",
       "    const events = require('base/js/events');\n",
       "    const OutputArea = require('notebook/js/outputarea').OutputArea;\n",
       "\n",
       "    if (OutputArea.prototype.mime_types().indexOf(EXEC_MIME_TYPE) == -1) {\n",
       "      register_renderer(events, OutputArea);\n",
       "    }\n",
       "  }\n",
       "  if (typeof (root._bokeh_timeout) === \"undefined\" || force === true) {\n",
       "    root._bokeh_timeout = Date.now() + 5000;\n",
       "    root._bokeh_failed_load = false;\n",
       "  }\n",
       "\n",
       "  const NB_LOAD_WARNING = {'data': {'text/html':\n",
       "     \"<div style='background-color: #fdd'>\\n\"+\n",
       "     \"<p>\\n\"+\n",
       "     \"BokehJS does not appear to have successfully loaded. If loading BokehJS from CDN, this \\n\"+\n",
       "     \"may be due to a slow or bad network connection. Possible fixes:\\n\"+\n",
       "     \"</p>\\n\"+\n",
       "     \"<ul>\\n\"+\n",
       "     \"<li>re-rerun `output_notebook()` to attempt to load from CDN again, or</li>\\n\"+\n",
       "     \"<li>use INLINE resources instead, as so:</li>\\n\"+\n",
       "     \"</ul>\\n\"+\n",
       "     \"<code>\\n\"+\n",
       "     \"from bokeh.resources import INLINE\\n\"+\n",
       "     \"output_notebook(resources=INLINE)\\n\"+\n",
       "     \"</code>\\n\"+\n",
       "     \"</div>\"}};\n",
       "\n",
       "  function display_loaded() {\n",
       "    const el = document.getElementById(\"1785\");\n",
       "    if (el != null) {\n",
       "      el.textContent = \"BokehJS is loading...\";\n",
       "    }\n",
       "    if (root.Bokeh !== undefined) {\n",
       "      if (el != null) {\n",
       "        el.textContent = \"BokehJS \" + root.Bokeh.version + \" successfully loaded.\";\n",
       "      }\n",
       "    } else if (Date.now() < root._bokeh_timeout) {\n",
       "      setTimeout(display_loaded, 100)\n",
       "    }\n",
       "  }\n",
       "\n",
       "  function run_callbacks() {\n",
       "    try {\n",
       "      root._bokeh_onload_callbacks.forEach(function(callback) {\n",
       "        if (callback != null)\n",
       "          callback();\n",
       "      });\n",
       "    } finally {\n",
       "      delete root._bokeh_onload_callbacks\n",
       "    }\n",
       "    console.debug(\"Bokeh: all callbacks have finished\");\n",
       "  }\n",
       "\n",
       "  function load_libs(css_urls, js_urls, callback) {\n",
       "    if (css_urls == null) css_urls = [];\n",
       "    if (js_urls == null) js_urls = [];\n",
       "\n",
       "    root._bokeh_onload_callbacks.push(callback);\n",
       "    if (root._bokeh_is_loading > 0) {\n",
       "      console.debug(\"Bokeh: BokehJS is being loaded, scheduling callback at\", now());\n",
       "      return null;\n",
       "    }\n",
       "    if (js_urls == null || js_urls.length === 0) {\n",
       "      run_callbacks();\n",
       "      return null;\n",
       "    }\n",
       "    console.debug(\"Bokeh: BokehJS not loaded, scheduling load and callback at\", now());\n",
       "    root._bokeh_is_loading = css_urls.length + js_urls.length;\n",
       "\n",
       "    function on_load() {\n",
       "      root._bokeh_is_loading--;\n",
       "      if (root._bokeh_is_loading === 0) {\n",
       "        console.debug(\"Bokeh: all BokehJS libraries/stylesheets loaded\");\n",
       "        run_callbacks()\n",
       "      }\n",
       "    }\n",
       "\n",
       "    function on_error(url) {\n",
       "      console.error(\"failed to load \" + url);\n",
       "    }\n",
       "\n",
       "    for (let i = 0; i < css_urls.length; i++) {\n",
       "      const url = css_urls[i];\n",
       "      const element = document.createElement(\"link\");\n",
       "      element.onload = on_load;\n",
       "      element.onerror = on_error.bind(null, url);\n",
       "      element.rel = \"stylesheet\";\n",
       "      element.type = \"text/css\";\n",
       "      element.href = url;\n",
       "      console.debug(\"Bokeh: injecting link tag for BokehJS stylesheet: \", url);\n",
       "      document.body.appendChild(element);\n",
       "    }\n",
       "\n",
       "    for (let i = 0; i < js_urls.length; i++) {\n",
       "      const url = js_urls[i];\n",
       "      const element = document.createElement('script');\n",
       "      element.onload = on_load;\n",
       "      element.onerror = on_error.bind(null, url);\n",
       "      element.async = false;\n",
       "      element.src = url;\n",
       "      console.debug(\"Bokeh: injecting script tag for BokehJS library: \", url);\n",
       "      document.head.appendChild(element);\n",
       "    }\n",
       "  };\n",
       "\n",
       "  function inject_raw_css(css) {\n",
       "    const element = document.createElement(\"style\");\n",
       "    element.appendChild(document.createTextNode(css));\n",
       "    document.body.appendChild(element);\n",
       "  }\n",
       "\n",
       "  const js_urls = [\"https://cdn.bokeh.org/bokeh/release/bokeh-2.4.3.min.js\", \"https://cdn.bokeh.org/bokeh/release/bokeh-gl-2.4.3.min.js\", \"https://cdn.bokeh.org/bokeh/release/bokeh-widgets-2.4.3.min.js\", \"https://cdn.bokeh.org/bokeh/release/bokeh-tables-2.4.3.min.js\", \"https://cdn.bokeh.org/bokeh/release/bokeh-mathjax-2.4.3.min.js\"];\n",
       "  const css_urls = [];\n",
       "\n",
       "  const inline_js = [    function(Bokeh) {\n",
       "      Bokeh.set_log_level(\"info\");\n",
       "    },\n",
       "function(Bokeh) {\n",
       "    }\n",
       "  ];\n",
       "\n",
       "  function run_inline_js() {\n",
       "    if (root.Bokeh !== undefined || force === true) {\n",
       "          for (let i = 0; i < inline_js.length; i++) {\n",
       "      inline_js[i].call(root, root.Bokeh);\n",
       "    }\n",
       "if (force === true) {\n",
       "        display_loaded();\n",
       "      }} else if (Date.now() < root._bokeh_timeout) {\n",
       "      setTimeout(run_inline_js, 100);\n",
       "    } else if (!root._bokeh_failed_load) {\n",
       "      console.log(\"Bokeh: BokehJS failed to load within specified timeout.\");\n",
       "      root._bokeh_failed_load = true;\n",
       "    } else if (force !== true) {\n",
       "      const cell = $(document.getElementById(\"1785\")).parents('.cell').data().cell;\n",
       "      cell.output_area.append_execute_result(NB_LOAD_WARNING)\n",
       "    }\n",
       "  }\n",
       "\n",
       "  if (root._bokeh_is_loading === 0) {\n",
       "    console.debug(\"Bokeh: BokehJS loaded, going straight to plotting\");\n",
       "    run_inline_js();\n",
       "  } else {\n",
       "    load_libs(css_urls, js_urls, function() {\n",
       "      console.debug(\"Bokeh: BokehJS plotting callback run at\", now());\n",
       "      run_inline_js();\n",
       "    });\n",
       "  }\n",
       "}(window));"
      ],
      "application/vnd.bokehjs_load.v0+json": "(function(root) {\n  function now() {\n    return new Date();\n  }\n\n  const force = true;\n\n  if (typeof root._bokeh_onload_callbacks === \"undefined\" || force === true) {\n    root._bokeh_onload_callbacks = [];\n    root._bokeh_is_loading = undefined;\n  }\n\n\n  if (typeof (root._bokeh_timeout) === \"undefined\" || force === true) {\n    root._bokeh_timeout = Date.now() + 5000;\n    root._bokeh_failed_load = false;\n  }\n\n  const NB_LOAD_WARNING = {'data': {'text/html':\n     \"<div style='background-color: #fdd'>\\n\"+\n     \"<p>\\n\"+\n     \"BokehJS does not appear to have successfully loaded. If loading BokehJS from CDN, this \\n\"+\n     \"may be due to a slow or bad network connection. Possible fixes:\\n\"+\n     \"</p>\\n\"+\n     \"<ul>\\n\"+\n     \"<li>re-rerun `output_notebook()` to attempt to load from CDN again, or</li>\\n\"+\n     \"<li>use INLINE resources instead, as so:</li>\\n\"+\n     \"</ul>\\n\"+\n     \"<code>\\n\"+\n     \"from bokeh.resources import INLINE\\n\"+\n     \"output_notebook(resources=INLINE)\\n\"+\n     \"</code>\\n\"+\n     \"</div>\"}};\n\n  function display_loaded() {\n    const el = document.getElementById(\"1785\");\n    if (el != null) {\n      el.textContent = \"BokehJS is loading...\";\n    }\n    if (root.Bokeh !== undefined) {\n      if (el != null) {\n        el.textContent = \"BokehJS \" + root.Bokeh.version + \" successfully loaded.\";\n      }\n    } else if (Date.now() < root._bokeh_timeout) {\n      setTimeout(display_loaded, 100)\n    }\n  }\n\n  function run_callbacks() {\n    try {\n      root._bokeh_onload_callbacks.forEach(function(callback) {\n        if (callback != null)\n          callback();\n      });\n    } finally {\n      delete root._bokeh_onload_callbacks\n    }\n    console.debug(\"Bokeh: all callbacks have finished\");\n  }\n\n  function load_libs(css_urls, js_urls, callback) {\n    if (css_urls == null) css_urls = [];\n    if (js_urls == null) js_urls = [];\n\n    root._bokeh_onload_callbacks.push(callback);\n    if (root._bokeh_is_loading > 0) {\n      console.debug(\"Bokeh: BokehJS is being loaded, scheduling callback at\", now());\n      return null;\n    }\n    if (js_urls == null || js_urls.length === 0) {\n      run_callbacks();\n      return null;\n    }\n    console.debug(\"Bokeh: BokehJS not loaded, scheduling load and callback at\", now());\n    root._bokeh_is_loading = css_urls.length + js_urls.length;\n\n    function on_load() {\n      root._bokeh_is_loading--;\n      if (root._bokeh_is_loading === 0) {\n        console.debug(\"Bokeh: all BokehJS libraries/stylesheets loaded\");\n        run_callbacks()\n      }\n    }\n\n    function on_error(url) {\n      console.error(\"failed to load \" + url);\n    }\n\n    for (let i = 0; i < css_urls.length; i++) {\n      const url = css_urls[i];\n      const element = document.createElement(\"link\");\n      element.onload = on_load;\n      element.onerror = on_error.bind(null, url);\n      element.rel = \"stylesheet\";\n      element.type = \"text/css\";\n      element.href = url;\n      console.debug(\"Bokeh: injecting link tag for BokehJS stylesheet: \", url);\n      document.body.appendChild(element);\n    }\n\n    for (let i = 0; i < js_urls.length; i++) {\n      const url = js_urls[i];\n      const element = document.createElement('script');\n      element.onload = on_load;\n      element.onerror = on_error.bind(null, url);\n      element.async = false;\n      element.src = url;\n      console.debug(\"Bokeh: injecting script tag for BokehJS library: \", url);\n      document.head.appendChild(element);\n    }\n  };\n\n  function inject_raw_css(css) {\n    const element = document.createElement(\"style\");\n    element.appendChild(document.createTextNode(css));\n    document.body.appendChild(element);\n  }\n\n  const js_urls = [\"https://cdn.bokeh.org/bokeh/release/bokeh-2.4.3.min.js\", \"https://cdn.bokeh.org/bokeh/release/bokeh-gl-2.4.3.min.js\", \"https://cdn.bokeh.org/bokeh/release/bokeh-widgets-2.4.3.min.js\", \"https://cdn.bokeh.org/bokeh/release/bokeh-tables-2.4.3.min.js\", \"https://cdn.bokeh.org/bokeh/release/bokeh-mathjax-2.4.3.min.js\"];\n  const css_urls = [];\n\n  const inline_js = [    function(Bokeh) {\n      Bokeh.set_log_level(\"info\");\n    },\nfunction(Bokeh) {\n    }\n  ];\n\n  function run_inline_js() {\n    if (root.Bokeh !== undefined || force === true) {\n          for (let i = 0; i < inline_js.length; i++) {\n      inline_js[i].call(root, root.Bokeh);\n    }\nif (force === true) {\n        display_loaded();\n      }} else if (Date.now() < root._bokeh_timeout) {\n      setTimeout(run_inline_js, 100);\n    } else if (!root._bokeh_failed_load) {\n      console.log(\"Bokeh: BokehJS failed to load within specified timeout.\");\n      root._bokeh_failed_load = true;\n    } else if (force !== true) {\n      const cell = $(document.getElementById(\"1785\")).parents('.cell').data().cell;\n      cell.output_area.append_execute_result(NB_LOAD_WARNING)\n    }\n  }\n\n  if (root._bokeh_is_loading === 0) {\n    console.debug(\"Bokeh: BokehJS loaded, going straight to plotting\");\n    run_inline_js();\n  } else {\n    load_libs(css_urls, js_urls, function() {\n      console.debug(\"Bokeh: BokehJS plotting callback run at\", now());\n      run_inline_js();\n    });\n  }\n}(window));"
     },
     "metadata": {},
     "output_type": "display_data"
    },
    {
     "name": "stderr",
     "output_type": "stream",
     "text": [
      "C:\\Users\\Taha Gandhi\\anaconda3\\lib\\site-packages\\sklearn\\manifold\\_t_sne.py:780: FutureWarning: The default initialization in TSNE will change from 'random' to 'pca' in 1.2.\n",
      "  warnings.warn(\n",
      "C:\\Users\\Taha Gandhi\\anaconda3\\lib\\site-packages\\sklearn\\manifold\\_t_sne.py:790: FutureWarning: The default learning rate in TSNE will change from 200.0 to 'auto' in 1.2.\n",
      "  warnings.warn(\n"
     ]
    },
    {
     "name": "stdout",
     "output_type": "stream",
     "text": [
      "[t-SNE] Computing 91 nearest neighbors...\n",
      "[t-SNE] Indexed 5000 samples in 0.006s...\n",
      "[t-SNE] Computed neighbors for 5000 samples in 0.864s...\n",
      "[t-SNE] Computed conditional probabilities for sample 1000 / 5000\n",
      "[t-SNE] Computed conditional probabilities for sample 2000 / 5000\n",
      "[t-SNE] Computed conditional probabilities for sample 3000 / 5000\n",
      "[t-SNE] Computed conditional probabilities for sample 4000 / 5000\n",
      "[t-SNE] Computed conditional probabilities for sample 5000 / 5000\n",
      "[t-SNE] Mean sigma: 0.913499\n",
      "[t-SNE] KL divergence after 250 iterations with early exaggeration: 106.439049\n",
      "[t-SNE] KL divergence after 1000 iterations: 2.411781\n"
     ]
    },
    {
     "data": {
      "text/html": [
       "\n",
       "  <div class=\"bk-root\" id=\"3e5fac70-9cd2-4e80-98da-2d41d1490326\" data-root-id=\"1786\"></div>\n"
      ]
     },
     "metadata": {},
     "output_type": "display_data"
    },
    {
     "data": {
      "application/javascript": [
       "(function(root) {\n",
       "  function embed_document(root) {\n",
       "  const docs_json = {\"09c9b18c-ff8d-4ca9-89b7-1a763f328081\":{\"defs\":[],\"roots\":{\"references\":[{\"attributes\":{\"height\":400,\"min_border\":1,\"renderers\":[{\"id\":\"1814\"}],\"title\":{\"id\":\"1787\"},\"toolbar\":{\"id\":\"1803\"},\"width\":500,\"x_range\":{\"id\":\"1789\"},\"x_scale\":{\"id\":\"1793\"},\"y_range\":{\"id\":\"1791\"},\"y_scale\":{\"id\":\"1795\"}},\"id\":\"1786\",\"subtype\":\"Figure\",\"type\":\"Plot\"},{\"attributes\":{\"overlay\":{\"id\":\"1802\"}},\"id\":\"1799\",\"type\":\"BoxZoomTool\"},{\"attributes\":{\"fill_alpha\":{\"value\":0.1},\"fill_color\":{\"value\":\"darkorange\"},\"hatch_alpha\":{\"value\":0.1},\"hatch_color\":{\"value\":\"darkorange\"},\"line_alpha\":{\"value\":0.1},\"line_color\":{\"value\":\"darkorange\"},\"x\":{\"field\":\"x\"},\"y\":{\"field\":\"y\"}},\"id\":\"1812\",\"type\":\"Scatter\"},{\"attributes\":{\"data\":{\"index\":[0,1,2,3,4,5,6,7,8,9,10,11,12,13,14,15,16,17,18,19,20,21,22,23,24,25,26,27,28,29,30,31,32,33,34,35,36,37,38,39,40,41,42,43,44,45,46,47,48,49,50,51,52,53,54,55,56,57,58,59,60,61,62,63,64,65,66,67,68,69,70,71,72,73,74,75,76,77,78,79,80,81,82,83,84,85,86,87,88,89,90,91,92,93,94,95,96,97,98,99,100,101,102,103,104,105,106,107,108,109,110,111,112,113,114,115,116,117,118,119,120,121,122,123,124,125,126,127,128,129,130,131,132,133,134,135,136,137,138,139,140,141,142,143,144,145,146,147,148,149,150,151,152,153,154,155,156,157,158,159,160,161,162,163,164,165,166,167,168,169,170,171,172,173,174,175,176,177,178,179,180,181,182,183,184,185,186,187,188,189,190,191,192,193,194,195,196,197,198,199,200,201,202,203,204,205,206,207,208,209,210,211,212,213,214,215,216,217,218,219,220,221,222,223,224,225,226,227,228,229,230,231,232,233,234,235,236,237,238,239,240,241,242,243,244,245,246,247,248,249,250,251,252,253,254,255,256,257,258,259,260,261,262,263,264,265,266,267,268,269,270,271,272,273,274,275,276,277,278,279,280,281,282,283,284,285,286,287,288,289,290,291,292,293,294,295,296,297,298,299,300,301,302,303,304,305,306,307,308,309,310,311,312,313,314,315,316,317,318,319,320,321,322,323,324,325,326,327,328,329,330,331,332,333,334,335,336,337,338,339,340,341,342,343,344,345,346,347,348,349,350,351,352,353,354,355,356,357,358,359,360,361,362,363,364,365,366,367,368,369,370,371,372,373,374,375,376,377,378,379,380,381,382,383,384,385,386,387,388,389,390,391,392,393,394,395,396,397,398,399,400,401,402,403,404,405,406,407,408,409,410,411,412,413,414,415,416,417,418,419,420,421,422,423,424,425,426,427,428,429,430,431,432,433,434,435,436,437,438,439,440,441,442,443,444,445,446,447,448,449,450,451,452,453,454,455,456,457,458,459,460,461,462,463,464,465,466,467,468,469,470,471,472,473,474,475,476,477,478,479,480,481,482,483,484,485,486,487,488,489,490,491,492,493,494,495,496,497,498,499,500,501,502,503,504,505,506,507,508,509,510,511,512,513,514,515,516,517,518,519,520,521,522,523,524,525,526,527,528,529,530,531,532,533,534,535,536,537,538,539,540,541,542,543,544,545,546,547,548,549,550,551,552,553,554,555,556,557,558,559,560,561,562,563,564,565,566,567,568,569,570,571,572,573,574,575,576,577,578,579,580,581,582,583,584,585,586,587,588,589,590,591,592,593,594,595,596,597,598,599,600,601,602,603,604,605,606,607,608,609,610,611,612,613,614,615,616,617,618,619,620,621,622,623,624,625,626,627,628,629,630,631,632,633,634,635,636,637,638,639,640,641,642,643,644,645,646,647,648,649,650,651,652,653,654,655,656,657,658,659,660,661,662,663,664,665,666,667,668,669,670,671,672,673,674,675,676,677,678,679,680,681,682,683,684,685,686,687,688,689,690,691,692,693,694,695,696,697,698,699,700,701,702,703,704,705,706,707,708,709,710,711,712,713,714,715,716,717,718,719,720,721,722,723,724,725,726,727,728,729,730,731,732,733,734,735,736,737,738,739,740,741,742,743,744,745,746,747,748,749,750,751,752,753,754,755,756,757,758,759,760,761,762,763,764,765,766,767,768,769,770,771,772,773,774,775,776,777,778,779,780,781,782,783,784,785,786,787,788,789,790,791,792,793,794,795,796,797,798,799,800,801,802,803,804,805,806,807,808,809,810,811,812,813,814,815,816,817,818,819,820,821,822,823,824,825,826,827,828,829,830,831,832,833,834,835,836,837,838,839,840,841,842,843,844,845,846,847,848,849,850,851,852,853,854,855,856,857,858,859,860,861,862,863,864,865,866,867,868,869,870,871,872,873,874,875,876,877,878,879,880,881,882,883,884,885,886,887,888,889,890,891,892,893,894,895,896,897,898,899,900,901,902,903,904,905,906,907,908,909,910,911,912,913,914,915,916,917,918,919,920,921,922,923,924,925,926,927,928,929,930,931,932,933,934,935,936,937,938,939,940,941,942,943,944,945,946,947,948,949,950,951,952,953,954,955,956,957,958,959,960,961,962,963,964,965,966,967,968,969,970,971,972,973,974,975,976,977,978,979,980,981,982,983,984,985,986,987,988,989,990,991,992,993,994,995,996,997,998,999,1000,1001,1002,1003,1004,1005,1006,1007,1008,1009,1010,1011,1012,1013,1014,1015,1016,1017,1018,1019,1020,1021,1022,1023,1024,1025,1026,1027,1028,1029,1030,1031,1032,1033,1034,1035,1036,1037,1038,1039,1040,1041,1042,1043,1044,1045,1046,1047,1048,1049,1050,1051,1052,1053,1054,1055,1056,1057,1058,1059,1060,1061,1062,1063,1064,1065,1066,1067,1068,1069,1070,1071,1072,1073,1074,1075,1076,1077,1078,1079,1080,1081,1082,1083,1084,1085,1086,1087,1088,1089,1090,1091,1092,1093,1094,1095,1096,1097,1098,1099,1100,1101,1102,1103,1104,1105,1106,1107,1108,1109,1110,1111,1112,1113,1114,1115,1116,1117,1118,1119,1120,1121,1122,1123,1124,1125,1126,1127,1128,1129,1130,1131,1132,1133,1134,1135,1136,1137,1138,1139,1140,1141,1142,1143,1144,1145,1146,1147,1148,1149,1150,1151,1152,1153,1154,1155,1156,1157,1158,1159,1160,1161,1162,1163,1164,1165,1166,1167,1168,1169,1170,1171,1172,1173,1174,1175,1176,1177,1178,1179,1180,1181,1182,1183,1184,1185,1186,1187,1188,1189,1190,1191,1192,1193,1194,1195,1196,1197,1198,1199,1200,1201,1202,1203,1204,1205,1206,1207,1208,1209,1210,1211,1212,1213,1214,1215,1216,1217,1218,1219,1220,1221,1222,1223,1224,1225,1226,1227,1228,1229,1230,1231,1232,1233,1234,1235,1236,1237,1238,1239,1240,1241,1242,1243,1244,1245,1246,1247,1248,1249,1250,1251,1252,1253,1254,1255,1256,1257,1258,1259,1260,1261,1262,1263,1264,1265,1266,1267,1268,1269,1270,1271,1272,1273,1274,1275,1276,1277,1278,1279,1280,1281,1282,1283,1284,1285,1286,1287,1288,1289,1290,1291,1292,1293,1294,1295,1296,1297,1298,1299,1300,1301,1302,1303,1304,1305,1306,1307,1308,1309,1310,1311,1312,1313,1314,1315,1316,1317,1318,1319,1320,1321,1322,1323,1324,1325,1326,1327,1328,1329,1330,1331,1332,1333,1334,1335,1336,1337,1338,1339,1340,1341,1342,1343,1344,1345,1346,1347,1348,1349,1350,1351,1352,1353,1354,1355,1356,1357,1358,1359,1360,1361,1362,1363,1364,1365,1366,1367,1368,1369,1370,1371,1372,1373,1374,1375,1376,1377,1378,1379,1380,1381,1382,1383,1384,1385,1386,1387,1388,1389,1390,1391,1392,1393,1394,1395,1396,1397,1398,1399,1400,1401,1402,1403,1404,1405,1406,1407,1408,1409,1410,1411,1412,1413,1414,1415,1416,1417,1418,1419,1420,1421,1422,1423,1424,1425,1426,1427,1428,1429,1430,1431,1432,1433,1434,1435,1436,1437,1438,1439,1440,1441,1442,1443,1444,1445,1446,1447,1448,1449,1450,1451,1452,1453,1454,1455,1456,1457,1458,1459,1460,1461,1462,1463,1464,1465,1466,1467,1468,1469,1470,1471,1472,1473,1474,1475,1476,1477,1478,1479,1480,1481,1482,1483,1484,1485,1486,1487,1488,1489,1490,1491,1492,1493,1494,1495,1496,1497,1498,1499,1500,1501,1502,1503,1504,1505,1506,1507,1508,1509,1510,1511,1512,1513,1514,1515,1516,1517,1518,1519,1520,1521,1522,1523,1524,1525,1526,1527,1528,1529,1530,1531,1532,1533,1534,1535,1536,1537,1538,1539,1540,1541,1542,1543,1544,1545,1546,1547,1548,1549,1550,1551,1552,1553,1554,1555,1556,1557,1558,1559,1560,1561,1562,1563,1564,1565,1566,1567,1568,1569,1570,1571,1572,1573,1574,1575,1576,1577,1578,1579,1580,1581,1582,1583,1584,1585,1586,1587,1588,1589,1590,1591,1592,1593,1594,1595,1596,1597,1598,1599,1600,1601,1602,1603,1604,1605,1606,1607,1608,1609,1610,1611,1612,1613,1614,1615,1616,1617,1618,1619,1620,1621,1622,1623,1624,1625,1626,1627,1628,1629,1630,1631,1632,1633,1634,1635,1636,1637,1638,1639,1640,1641,1642,1643,1644,1645,1646,1647,1648,1649,1650,1651,1652,1653,1654,1655,1656,1657,1658,1659,1660,1661,1662,1663,1664,1665,1666,1667,1668,1669,1670,1671,1672,1673,1674,1675,1676,1677,1678,1679,1680,1681,1682,1683,1684,1685,1686,1687,1688,1689,1690,1691,1692,1693,1694,1695,1696,1697,1698,1699,1700,1701,1702,1703,1704,1705,1706,1707,1708,1709,1710,1711,1712,1713,1714,1715,1716,1717,1718,1719,1720,1721,1722,1723,1724,1725,1726,1727,1728,1729,1730,1731,1732,1733,1734,1735,1736,1737,1738,1739,1740,1741,1742,1743,1744,1745,1746,1747,1748,1749,1750,1751,1752,1753,1754,1755,1756,1757,1758,1759,1760,1761,1762,1763,1764,1765,1766,1767,1768,1769,1770,1771,1772,1773,1774,1775,1776,1777,1778,1779,1780,1781,1782,1783,1784,1785,1786,1787,1788,1789,1790,1791,1792,1793,1794,1795,1796,1797,1798,1799,1800,1801,1802,1803,1804,1805,1806,1807,1808,1809,1810,1811,1812,1813,1814,1815,1816,1817,1818,1819,1820,1821,1822,1823,1824,1825,1826,1827,1828,1829,1830,1831,1832,1833,1834,1835,1836,1837,1838,1839,1840,1841,1842,1843,1844,1845,1846,1847,1848,1849,1850,1851,1852,1853,1854,1855,1856,1857,1858,1859,1860,1861,1862,1863,1864,1865,1866,1867,1868,1869,1870,1871,1872,1873,1874,1875,1876,1877,1878,1879,1880,1881,1882,1883,1884,1885,1886,1887,1888,1889,1890,1891,1892,1893,1894,1895,1896,1897,1898,1899,1900,1901,1902,1903,1904,1905,1906,1907,1908,1909,1910,1911,1912,1913,1914,1915,1916,1917,1918,1919,1920,1921,1922,1923,1924,1925,1926,1927,1928,1929,1930,1931,1932,1933,1934,1935,1936,1937,1938,1939,1940,1941,1942,1943,1944,1945,1946,1947,1948,1949,1950,1951,1952,1953,1954,1955,1956,1957,1958,1959,1960,1961,1962,1963,1964,1965,1966,1967,1968,1969,1970,1971,1972,1973,1974,1975,1976,1977,1978,1979,1980,1981,1982,1983,1984,1985,1986,1987,1988,1989,1990,1991,1992,1993,1994,1995,1996,1997,1998,1999,2000,2001,2002,2003,2004,2005,2006,2007,2008,2009,2010,2011,2012,2013,2014,2015,2016,2017,2018,2019,2020,2021,2022,2023,2024,2025,2026,2027,2028,2029,2030,2031,2032,2033,2034,2035,2036,2037,2038,2039,2040,2041,2042,2043,2044,2045,2046,2047,2048,2049,2050,2051,2052,2053,2054,2055,2056,2057,2058,2059,2060,2061,2062,2063,2064,2065,2066,2067,2068,2069,2070,2071,2072,2073,2074,2075,2076,2077,2078,2079,2080,2081,2082,2083,2084,2085,2086,2087,2088,2089,2090,2091,2092,2093,2094,2095,2096,2097,2098,2099,2100,2101,2102,2103,2104,2105,2106,2107,2108,2109,2110,2111,2112,2113,2114,2115,2116,2117,2118,2119,2120,2121,2122,2123,2124,2125,2126,2127,2128,2129,2130,2131,2132,2133,2134,2135,2136,2137,2138,2139,2140,2141,2142,2143,2144,2145,2146,2147,2148,2149,2150,2151,2152,2153,2154,2155,2156,2157,2158,2159,2160,2161,2162,2163,2164,2165,2166,2167,2168,2169,2170,2171,2172,2173,2174,2175,2176,2177,2178,2179,2180,2181,2182,2183,2184,2185,2186,2187,2188,2189,2190,2191,2192,2193,2194,2195,2196,2197,2198,2199,2200,2201,2202,2203,2204,2205,2206,2207,2208,2209,2210,2211,2212,2213,2214,2215,2216,2217,2218,2219,2220,2221,2222,2223,2224,2225,2226,2227,2228,2229,2230,2231,2232,2233,2234,2235,2236,2237,2238,2239,2240,2241,2242,2243,2244,2245,2246,2247,2248,2249,2250,2251,2252,2253,2254,2255,2256,2257,2258,2259,2260,2261,2262,2263,2264,2265,2266,2267,2268,2269,2270,2271,2272,2273,2274,2275,2276,2277,2278,2279,2280,2281,2282,2283,2284,2285,2286,2287,2288,2289,2290,2291,2292,2293,2294,2295,2296,2297,2298,2299,2300,2301,2302,2303,2304,2305,2306,2307,2308,2309,2310,2311,2312,2313,2314,2315,2316,2317,2318,2319,2320,2321,2322,2323,2324,2325,2326,2327,2328,2329,2330,2331,2332,2333,2334,2335,2336,2337,2338,2339,2340,2341,2342,2343,2344,2345,2346,2347,2348,2349,2350,2351,2352,2353,2354,2355,2356,2357,2358,2359,2360,2361,2362,2363,2364,2365,2366,2367,2368,2369,2370,2371,2372,2373,2374,2375,2376,2377,2378,2379,2380,2381,2382,2383,2384,2385,2386,2387,2388,2389,2390,2391,2392,2393,2394,2395,2396,2397,2398,2399,2400,2401,2402,2403,2404,2405,2406,2407,2408,2409,2410,2411,2412,2413,2414,2415,2416,2417,2418,2419,2420,2421,2422,2423,2424,2425,2426,2427,2428,2429,2430,2431,2432,2433,2434,2435,2436,2437,2438,2439,2440,2441,2442,2443,2444,2445,2446,2447,2448,2449,2450,2451,2452,2453,2454,2455,2456,2457,2458,2459,2460,2461,2462,2463,2464,2465,2466,2467,2468,2469,2470,2471,2472,2473,2474,2475,2476,2477,2478,2479,2480,2481,2482,2483,2484,2485,2486,2487,2488,2489,2490,2491,2492,2493,2494,2495,2496,2497,2498,2499,2500,2501,2502,2503,2504,2505,2506,2507,2508,2509,2510,2511,2512,2513,2514,2515,2516,2517,2518,2519,2520,2521,2522,2523,2524,2525,2526,2527,2528,2529,2530,2531,2532,2533,2534,2535,2536,2537,2538,2539,2540,2541,2542,2543,2544,2545,2546,2547,2548,2549,2550,2551,2552,2553,2554,2555,2556,2557,2558,2559,2560,2561,2562,2563,2564,2565,2566,2567,2568,2569,2570,2571,2572,2573,2574,2575,2576,2577,2578,2579,2580,2581,2582,2583,2584,2585,2586,2587,2588,2589,2590,2591,2592,2593,2594,2595,2596,2597,2598,2599,2600,2601,2602,2603,2604,2605,2606,2607,2608,2609,2610,2611,2612,2613,2614,2615,2616,2617,2618,2619,2620,2621,2622,2623,2624,2625,2626,2627,2628,2629,2630,2631,2632,2633,2634,2635,2636,2637,2638,2639,2640,2641,2642,2643,2644,2645,2646,2647,2648,2649,2650,2651,2652,2653,2654,2655,2656,2657,2658,2659,2660,2661,2662,2663,2664,2665,2666,2667,2668,2669,2670,2671,2672,2673,2674,2675,2676,2677,2678,2679,2680,2681,2682,2683,2684,2685,2686,2687,2688,2689,2690,2691,2692,2693,2694,2695,2696,2697,2698,2699,2700,2701,2702,2703,2704,2705,2706,2707,2708,2709,2710,2711,2712,2713,2714,2715,2716,2717,2718,2719,2720,2721,2722,2723,2724,2725,2726,2727,2728,2729,2730,2731,2732,2733,2734,2735,2736,2737,2738,2739,2740,2741,2742,2743,2744,2745,2746,2747,2748,2749,2750,2751,2752,2753,2754,2755,2756,2757,2758,2759,2760,2761,2762,2763,2764,2765,2766,2767,2768,2769,2770,2771,2772,2773,2774,2775,2776,2777,2778,2779,2780,2781,2782,2783,2784,2785,2786,2787,2788,2789,2790,2791,2792,2793,2794,2795,2796,2797,2798,2799,2800,2801,2802,2803,2804,2805,2806,2807,2808,2809,2810,2811,2812,2813,2814,2815,2816,2817,2818,2819,2820,2821,2822,2823,2824,2825,2826,2827,2828,2829,2830,2831,2832,2833,2834,2835,2836,2837,2838,2839,2840,2841,2842,2843,2844,2845,2846,2847,2848,2849,2850,2851,2852,2853,2854,2855,2856,2857,2858,2859,2860,2861,2862,2863,2864,2865,2866,2867,2868,2869,2870,2871,2872,2873,2874,2875,2876,2877,2878,2879,2880,2881,2882,2883,2884,2885,2886,2887,2888,2889,2890,2891,2892,2893,2894,2895,2896,2897,2898,2899,2900,2901,2902,2903,2904,2905,2906,2907,2908,2909,2910,2911,2912,2913,2914,2915,2916,2917,2918,2919,2920,2921,2922,2923,2924,2925,2926,2927,2928,2929,2930,2931,2932,2933,2934,2935,2936,2937,2938,2939,2940,2941,2942,2943,2944,2945,2946,2947,2948,2949,2950,2951,2952,2953,2954,2955,2956,2957,2958,2959,2960,2961,2962,2963,2964,2965,2966,2967,2968,2969,2970,2971,2972,2973,2974,2975,2976,2977,2978,2979,2980,2981,2982,2983,2984,2985,2986,2987,2988,2989,2990,2991,2992,2993,2994,2995,2996,2997,2998,2999,3000,3001,3002,3003,3004,3005,3006,3007,3008,3009,3010,3011,3012,3013,3014,3015,3016,3017,3018,3019,3020,3021,3022,3023,3024,3025,3026,3027,3028,3029,3030,3031,3032,3033,3034,3035,3036,3037,3038,3039,3040,3041,3042,3043,3044,3045,3046,3047,3048,3049,3050,3051,3052,3053,3054,3055,3056,3057,3058,3059,3060,3061,3062,3063,3064,3065,3066,3067,3068,3069,3070,3071,3072,3073,3074,3075,3076,3077,3078,3079,3080,3081,3082,3083,3084,3085,3086,3087,3088,3089,3090,3091,3092,3093,3094,3095,3096,3097,3098,3099,3100,3101,3102,3103,3104,3105,3106,3107,3108,3109,3110,3111,3112,3113,3114,3115,3116,3117,3118,3119,3120,3121,3122,3123,3124,3125,3126,3127,3128,3129,3130,3131,3132,3133,3134,3135,3136,3137,3138,3139,3140,3141,3142,3143,3144,3145,3146,3147,3148,3149,3150,3151,3152,3153,3154,3155,3156,3157,3158,3159,3160,3161,3162,3163,3164,3165,3166,3167,3168,3169,3170,3171,3172,3173,3174,3175,3176,3177,3178,3179,3180,3181,3182,3183,3184,3185,3186,3187,3188,3189,3190,3191,3192,3193,3194,3195,3196,3197,3198,3199,3200,3201,3202,3203,3204,3205,3206,3207,3208,3209,3210,3211,3212,3213,3214,3215,3216,3217,3218,3219,3220,3221,3222,3223,3224,3225,3226,3227,3228,3229,3230,3231,3232,3233,3234,3235,3236,3237,3238,3239,3240,3241,3242,3243,3244,3245,3246,3247,3248,3249,3250,3251,3252,3253,3254,3255,3256,3257,3258,3259,3260,3261,3262,3263,3264,3265,3266,3267,3268,3269,3270,3271,3272,3273,3274,3275,3276,3277,3278,3279,3280,3281,3282,3283,3284,3285,3286,3287,3288,3289,3290,3291,3292,3293,3294,3295,3296,3297,3298,3299,3300,3301,3302,3303,3304,3305,3306,3307,3308,3309,3310,3311,3312,3313,3314,3315,3316,3317,3318,3319,3320,3321,3322,3323,3324,3325,3326,3327,3328,3329,3330,3331,3332,3333,3334,3335,3336,3337,3338,3339,3340,3341,3342,3343,3344,3345,3346,3347,3348,3349,3350,3351,3352,3353,3354,3355,3356,3357,3358,3359,3360,3361,3362,3363,3364,3365,3366,3367,3368,3369,3370,3371,3372,3373,3374,3375,3376,3377,3378,3379,3380,3381,3382,3383,3384,3385,3386,3387,3388,3389,3390,3391,3392,3393,3394,3395,3396,3397,3398,3399,3400,3401,3402,3403,3404,3405,3406,3407,3408,3409,3410,3411,3412,3413,3414,3415,3416,3417,3418,3419,3420,3421,3422,3423,3424,3425,3426,3427,3428,3429,3430,3431,3432,3433,3434,3435,3436,3437,3438,3439,3440,3441,3442,3443,3444,3445,3446,3447,3448,3449,3450,3451,3452,3453,3454,3455,3456,3457,3458,3459,3460,3461,3462,3463,3464,3465,3466,3467,3468,3469,3470,3471,3472,3473,3474,3475,3476,3477,3478,3479,3480,3481,3482,3483,3484,3485,3486,3487,3488,3489,3490,3491,3492,3493,3494,3495,3496,3497,3498,3499,3500,3501,3502,3503,3504,3505,3506,3507,3508,3509,3510,3511,3512,3513,3514,3515,3516,3517,3518,3519,3520,3521,3522,3523,3524,3525,3526,3527,3528,3529,3530,3531,3532,3533,3534,3535,3536,3537,3538,3539,3540,3541,3542,3543,3544,3545,3546,3547,3548,3549,3550,3551,3552,3553,3554,3555,3556,3557,3558,3559,3560,3561,3562,3563,3564,3565,3566,3567,3568,3569,3570,3571,3572,3573,3574,3575,3576,3577,3578,3579,3580,3581,3582,3583,3584,3585,3586,3587,3588,3589,3590,3591,3592,3593,3594,3595,3596,3597,3598,3599,3600,3601,3602,3603,3604,3605,3606,3607,3608,3609,3610,3611,3612,3613,3614,3615,3616,3617,3618,3619,3620,3621,3622,3623,3624,3625,3626,3627,3628,3629,3630,3631,3632,3633,3634,3635,3636,3637,3638,3639,3640,3641,3642,3643,3644,3645,3646,3647,3648,3649,3650,3651,3652,3653,3654,3655,3656,3657,3658,3659,3660,3661,3662,3663,3664,3665,3666,3667,3668,3669,3670,3671,3672,3673,3674,3675,3676,3677,3678,3679,3680,3681,3682,3683,3684,3685,3686,3687,3688,3689,3690,3691,3692,3693,3694,3695,3696,3697,3698,3699,3700,3701,3702,3703,3704,3705,3706,3707,3708,3709,3710,3711,3712,3713,3714,3715,3716,3717,3718,3719,3720,3721,3722,3723,3724,3725,3726,3727,3728,3729,3730,3731,3732,3733,3734,3735,3736,3737,3738,3739,3740,3741,3742,3743,3744,3745,3746,3747,3748,3749,3750,3751,3752,3753,3754,3755,3756,3757,3758,3759,3760,3761,3762,3763,3764,3765,3766,3767,3768,3769,3770,3771,3772,3773,3774,3775,3776,3777,3778,3779,3780,3781,3782,3783,3784,3785,3786,3787,3788,3789,3790,3791,3792,3793,3794,3795,3796,3797,3798,3799,3800,3801,3802,3803,3804,3805,3806,3807,3808,3809,3810,3811,3812,3813,3814,3815,3816,3817,3818,3819,3820,3821,3822,3823,3824,3825,3826,3827,3828,3829,3830,3831,3832,3833,3834,3835,3836,3837,3838,3839,3840,3841,3842,3843,3844,3845,3846,3847,3848,3849,3850,3851,3852,3853,3854,3855,3856,3857,3858,3859,3860,3861,3862,3863,3864,3865,3866,3867,3868,3869,3870,3871,3872,3873,3874,3875,3876,3877,3878,3879,3880,3881,3882,3883,3884,3885,3886,3887,3888,3889,3890,3891,3892,3893,3894,3895,3896,3897,3898,3899,3900,3901,3902,3903,3904,3905,3906,3907,3908,3909,3910,3911,3912,3913,3914,3915,3916,3917,3918,3919,3920,3921,3922,3923,3924,3925,3926,3927,3928,3929,3930,3931,3932,3933,3934,3935,3936,3937,3938,3939,3940,3941,3942,3943,3944,3945,3946,3947,3948,3949,3950,3951,3952,3953,3954,3955,3956,3957,3958,3959,3960,3961,3962,3963,3964,3965,3966,3967,3968,3969,3970,3971,3972,3973,3974,3975,3976,3977,3978,3979,3980,3981,3982,3983,3984,3985,3986,3987,3988,3989,3990,3991,3992,3993,3994,3995,3996,3997,3998,3999,4000,4001,4002,4003,4004,4005,4006,4007,4008,4009,4010,4011,4012,4013,4014,4015,4016,4017,4018,4019,4020,4021,4022,4023,4024,4025,4026,4027,4028,4029,4030,4031,4032,4033,4034,4035,4036,4037,4038,4039,4040,4041,4042,4043,4044,4045,4046,4047,4048,4049,4050,4051,4052,4053,4054,4055,4056,4057,4058,4059,4060,4061,4062,4063,4064,4065,4066,4067,4068,4069,4070,4071,4072,4073,4074,4075,4076,4077,4078,4079,4080,4081,4082,4083,4084,4085,4086,4087,4088,4089,4090,4091,4092,4093,4094,4095,4096,4097,4098,4099,4100,4101,4102,4103,4104,4105,4106,4107,4108,4109,4110,4111,4112,4113,4114,4115,4116,4117,4118,4119,4120,4121,4122,4123,4124,4125,4126,4127,4128,4129,4130,4131,4132,4133,4134,4135,4136,4137,4138,4139,4140,4141,4142,4143,4144,4145,4146,4147,4148,4149,4150,4151,4152,4153,4154,4155,4156,4157,4158,4159,4160,4161,4162,4163,4164,4165,4166,4167,4168,4169,4170,4171,4172,4173,4174,4175,4176,4177,4178,4179,4180,4181,4182,4183,4184,4185,4186,4187,4188,4189,4190,4191,4192,4193,4194,4195,4196,4197,4198,4199,4200,4201,4202,4203,4204,4205,4206,4207,4208,4209,4210,4211,4212,4213,4214,4215,4216,4217,4218,4219,4220,4221,4222,4223,4224,4225,4226,4227,4228,4229,4230,4231,4232,4233,4234,4235,4236,4237,4238,4239,4240,4241,4242,4243,4244,4245,4246,4247,4248,4249,4250,4251,4252,4253,4254,4255,4256,4257,4258,4259,4260,4261,4262,4263,4264,4265,4266,4267,4268,4269,4270,4271,4272,4273,4274,4275,4276,4277,4278,4279,4280,4281,4282,4283,4284,4285,4286,4287,4288,4289,4290,4291,4292,4293,4294,4295,4296,4297,4298,4299,4300,4301,4302,4303,4304,4305,4306,4307,4308,4309,4310,4311,4312,4313,4314,4315,4316,4317,4318,4319,4320,4321,4322,4323,4324,4325,4326,4327,4328,4329,4330,4331,4332,4333,4334,4335,4336,4337,4338,4339,4340,4341,4342,4343,4344,4345,4346,4347,4348,4349,4350,4351,4352,4353,4354,4355,4356,4357,4358,4359,4360,4361,4362,4363,4364,4365,4366,4367,4368,4369,4370,4371,4372,4373,4374,4375,4376,4377,4378,4379,4380,4381,4382,4383,4384,4385,4386,4387,4388,4389,4390,4391,4392,4393,4394,4395,4396,4397,4398,4399,4400,4401,4402,4403,4404,4405,4406,4407,4408,4409,4410,4411,4412,4413,4414,4415,4416,4417,4418,4419,4420,4421,4422,4423,4424,4425,4426,4427,4428,4429,4430,4431,4432,4433,4434,4435,4436,4437,4438,4439,4440,4441,4442,4443,4444,4445,4446,4447,4448,4449,4450,4451,4452,4453,4454,4455,4456,4457,4458,4459,4460,4461,4462,4463,4464,4465,4466,4467,4468,4469,4470,4471,4472,4473,4474,4475,4476,4477,4478,4479,4480,4481,4482,4483,4484,4485,4486,4487,4488,4489,4490,4491,4492,4493,4494,4495,4496,4497,4498,4499,4500,4501,4502,4503,4504,4505,4506,4507,4508,4509,4510,4511,4512,4513,4514,4515,4516,4517,4518,4519,4520,4521,4522,4523,4524,4525,4526,4527,4528,4529,4530,4531,4532,4533,4534,4535,4536,4537,4538,4539,4540,4541,4542,4543,4544,4545,4546,4547,4548,4549,4550,4551,4552,4553,4554,4555,4556,4557,4558,4559,4560,4561,4562,4563,4564,4565,4566,4567,4568,4569,4570,4571,4572,4573,4574,4575,4576,4577,4578,4579,4580,4581,4582,4583,4584,4585,4586,4587,4588,4589,4590,4591,4592,4593,4594,4595,4596,4597,4598,4599,4600,4601,4602,4603,4604,4605,4606,4607,4608,4609,4610,4611,4612,4613,4614,4615,4616,4617,4618,4619,4620,4621,4622,4623,4624,4625,4626,4627,4628,4629,4630,4631,4632,4633,4634,4635,4636,4637,4638,4639,4640,4641,4642,4643,4644,4645,4646,4647,4648,4649,4650,4651,4652,4653,4654,4655,4656,4657,4658,4659,4660,4661,4662,4663,4664,4665,4666,4667,4668,4669,4670,4671,4672,4673,4674,4675,4676,4677,4678,4679,4680,4681,4682,4683,4684,4685,4686,4687,4688,4689,4690,4691,4692,4693,4694,4695,4696,4697,4698,4699,4700,4701,4702,4703,4704,4705,4706,4707,4708,4709,4710,4711,4712,4713,4714,4715,4716,4717,4718,4719,4720,4721,4722,4723,4724,4725,4726,4727,4728,4729,4730,4731,4732,4733,4734,4735,4736,4737,4738,4739,4740,4741,4742,4743,4744,4745,4746,4747,4748,4749,4750,4751,4752,4753,4754,4755,4756,4757,4758,4759,4760,4761,4762,4763,4764,4765,4766,4767,4768,4769,4770,4771,4772,4773,4774,4775,4776,4777,4778,4779,4780,4781,4782,4783,4784,4785,4786,4787,4788,4789,4790,4791,4792,4793,4794,4795,4796,4797,4798,4799,4800,4801,4802,4803,4804,4805,4806,4807,4808,4809,4810,4811,4812,4813,4814,4815,4816,4817,4818,4819,4820,4821,4822,4823,4824,4825,4826,4827,4828,4829,4830,4831,4832,4833,4834,4835,4836,4837,4838,4839,4840,4841,4842,4843,4844,4845,4846,4847,4848,4849,4850,4851,4852,4853,4854,4855,4856,4857,4858,4859,4860,4861,4862,4863,4864,4865,4866,4867,4868,4869,4870,4871,4872,4873,4874,4875,4876,4877,4878,4879,4880,4881,4882,4883,4884,4885,4886,4887,4888,4889,4890,4891,4892,4893,4894,4895,4896,4897,4898,4899,4900,4901,4902,4903,4904,4905,4906,4907,4908,4909,4910,4911,4912,4913,4914,4915,4916,4917,4918,4919,4920,4921,4922,4923,4924,4925,4926,4927,4928,4929,4930,4931,4932,4933,4934,4935,4936,4937,4938,4939,4940,4941,4942,4943,4944,4945,4946,4947,4948,4949,4950,4951,4952,4953,4954,4955,4956,4957,4958,4959,4960,4961,4962,4963,4964,4965,4966,4967,4968,4969,4970,4971,4972,4973,4974,4975,4976,4977,4978,4979,4980,4981,4982,4983,4984,4985,4986,4987,4988,4989,4990,4991,4992,4993,4994,4995,4996,4997,4998,4999],\"words\":[\"</s>\",\"in\",\"for\",\"that\",\"is\",\"on\",\"##\",\"The\",\"with\",\"said\",\"was\",\"the\",\"at\",\"not\",\"as\",\"it\",\"be\",\"from\",\"by\",\"are\",\"I\",\"have\",\"he\",\"will\",\"has\",\"####\",\"his\",\"an\",\"this\",\"or\",\"their\",\"who\",\"they\",\"but\",\"$\",\"had\",\"year\",\"were\",\"we\",\"more\",\"###\",\"up\",\"been\",\"you\",\"its\",\"one\",\"about\",\"would\",\"which\",\"out\",\"can\",\"It\",\"all\",\"also\",\"two\",\"after\",\"first\",\"He\",\"do\",\"time\",\"than\",\"when\",\"We\",\"over\",\"last\",\"new\",\"other\",\"her\",\"people\",\"into\",\"In\",\"our\",\"there\",\"A\",\"she\",\"could\",\"just\",\"years\",\"some\",\"U.S.\",\"three\",\"million\",\"them\",\"what\",\"But\",\"so\",\"no\",\"like\",\"if\",\"only\",\"percent\",\"get\",\"did\",\"him\",\"game\",\"back\",\"because\",\"now\",\"#.#\",\"before\",\"company\",\"any\",\"team\",\"against\",\"off\",\"This\",\"most\",\"made\",\"through\",\"make\",\"second\",\"state\",\"well\",\"day\",\"season\",\"says\",\"week\",\"where\",\"while\",\"down\",\"being\",\"government\",\"your\",\"#-#\",\"home\",\"going\",\"my\",\"good\",\"They\",\"'re\",\"should\",\"many\",\"way\",\"those\",\"four\",\"during\",\"such\",\"may\",\"very\",\"how\",\"since\",\"work\",\"take\",\"including\",\"high\",\"then\",\"%\",\"next\",\"#,###\",\"By\",\"much\",\"still\",\"go\",\"think\",\"old\",\"even\",\"#.##\",\"world\",\"see\",\"say\",\"business\",\"five\",\"told\",\"under\",\"us\",\"1\",\"these\",\"If\",\"right\",\"And\",\"me\",\"between\",\"play\",\"help\",\"##,###\",\"market\",\"That\",\"know\",\"end\",\"AP\",\"long\",\"information\",\"points\",\"does\",\"both\",\"There\",\"part\",\"around\",\"police\",\"want\",\"'ve\",\"based\",\"For\",\"got\",\"third\",\"school\",\"left\",\"another\",\"country\",\"need\",\"2\",\"best\",\"win\",\"quarter\",\"use\",\"today\",\"##.#\",\"same\",\"public\",\"run\",\"Friday\",\"set\",\"month\",\"top\",\"billion\",\"Tuesday\",\"come\",\"Monday\",\"She\",\"city\",\"place\",\"night\",\"six\",\"each\",\"Thursday\",\"###,###\",\"Wednesday\",\"here\",\"You\",\"group\",\"really\",\"found\",\"As\",\"used\",\"3\",\"lot\",\"'m\",\"money\",\"put\",\"games\",\"support\",\"program\",\"half\",\"report\",\"family\",\"months\",\"number\",\"officials\",\"am\",\"former\",\"own\",\"man\",\"Saturday\",\"too\",\"better\",\"days\",\"came\",\"lead\",\"life\",\"American\",\"##-##\",\"show\",\"past\",\"took\",\"added\",\"expected\",\"called\",\"great\",\"State\",\"services\",\"children\",\"hit\",\"area\",\"system\",\"every\",\"pm\",\"big\",\"service\",\"few\",\"per\",\"members\",\"Sunday\",\"early\",\"point\",\"start\",\"companies\",\"little\",\"&\",\"case\",\"ago\",\"local\",\"according\",\"never\",\"5\",\"without\",\"sales\",\"until\",\"went\",\"players\",\"##th\",\"New_York\",\"won\",\"financial\",\"news\",\"4\",\"When\",\"share\",\"several\",\"free\",\"away\",\"##.##\",\"already\",\"On\",\"industry\",\"'ll\",\"call\",\"With\",\"students\",\"line\",\"available\",\"County\",\"making\",\"held\",\"final\",\"#:##\",\"power\",\"plan\",\"might\",\"least\",\"look\",\"forward\",\"give\",\"At\",\"again\",\"later\",\"full\",\"must\",\"things\",\"major\",\"community\",\"announced\",\"open\",\"record\",\"reported\",\"court\",\"working\",\"able\",\"something\",\"president\",\"meeting\",\"keep\",\"March\",\"future\",\"far\",\"deal\",\"City\",\"May\",\"development\",\"University\",\"find\",\"times\",\"After\",\"office\",\"led\",\"among\",\"June\",\"increase\",\"China\",\"John\",\"whether\",\"cost\",\"security\",\"job\",\"less\",\"head\",\"seven\",\"growth\",\"lost\",\"pay\",\"looking\",\"provide\",\"6\",\"To\",\"plans\",\"products\",\"car\",\"recent\",\"hard\",\"always\",\"include\",\"women\",\"across\",\"tax\",\"water\",\"April\",\"continue\",\"important\",\"different\",\"close\",\"7\",\"One\",\"late\",\"decision\",\"current\",\"law\",\"within\",\"along\",\"played\",\"move\",\"United_States\",\"enough\",\"become\",\"side\",\"national\",\"Inc.\",\"results\",\"level\",\"loss\",\"economic\",\"coach\",\"near\",\"getting\",\"price\",\"Department\",\"event\",\"fourth\",\"change\",\"All\",\"small\",\"board\",\"National\",\"So\",\"goal\",\"taken\",\"field\",\"prices\",\"weeks\",\"men\",\"asked\",\"eight\",\"data\",\"shot\",\"New\",\"started\",\"July\",\"director\",\"President\",\"party\",\"federal\",\"done\",\"political\",\"minutes\",\"taking\",\"Company\",\"technology\",\"project\",\"center\",\"leading\",\"issue\",\"though\",\"having\",\"period\",\"likely\",\"scored\",\"8\",\"strong\",\"series\",\"military\",\"seen\",\"trying\",\"What\",\"coming\",\"process\",\"building\",\"behind\",\"performance\",\"management\",\"Iraq\",\"saying\",\"earlier\",\"believe\",\"oil\",\"given\",\"Police\",\"customers\",\"due\",\"following\",\"term\",\"others\",\"statement\",\"international\",\"economy\",\"health\",\"thing\",\"Obama\",\"return\",\"killed\",\"Washington\",\"further\",\"However\",\"doing\",\"face\",\"low\",\"higher\",\"site\",\"once\",\"yet\",\"hours\",\"America\",\"control\",\"received\",\"rate\",\"career\",\"Bush\",\"teams\",\"known\",\"offer\",\"race\",\"ever\",\"experience\",\"playing\",\"name\",\"possible\",\"countries\",\"Mr.\",\"average\",\"together\",\"using\",\"9\",\"cut\",\"While\",\"total\",\"round\",\"young\",\"nearly\",\"shares\",\"member\",\"campaign\",\"media\",\"needs\",\"why\",\"house\",\"issues\",\"costs\",\"fire\",\"##-#\",\"victory\",\"player\",\"began\",\"sure\",\"story\",\"per_cent\",\"North\",\"His\",\"staff\",\"order\",\"war\",\"large\",\"interest\",\"stock\",\"food\",\"research\",\"key\",\"India\",\"South\",\"morning\",\"conference\",\"senior\",\"global\",\"Center\",\"death\",\"person\",\"thought\",\"gave\",\"feel\",\"energy\",\"history\",\"recently\",\"largest\",\"No.\",\"general\",\"official\",\"released\",\"wanted\",\"meet\",\"short\",\"outside\",\"running\",\"live\",\"ball\",\"online\",\"real\",\"position\",\"fact\",\"fell\",\"nine\",\"December\",\"front\",\"action\",\"defense\",\"problem\",\"problems\",\"Mr\",\"nation\",\"needed\",\"special\",\"January\",\"almost\",\"chance\",\"'d\",\"result\",\"West\",\"September\",\"reports\",\"leader\",\"investment\",\"yesterday\",\"Some\",\"leaders\",\"ahead\",\"production\",\"comes\",\"No\",\"runs\",\"match\",\"role\",\"kind\",\"try\",\"ended\",\"risk\",\"areas\",\"election\",\"workers\",\"visit\",\"bring\",\"road\",\"music\",\"study\",\"makes\",\"often\",\"release\",\"woman\",\"vote\",\"care\",\"town\",\"clear\",\"comment\",\"budget\",\"potential\",\"single\",\"markets\",\"policy\",\"capital\",\"saw\",\"access\",\"weekend\",\"operations\",\"whose\",\"net\",\"House\",\"hand\",\"increased\",\"charges\",\"winning\",\"trade\",\"These\",\"income\",\"value\",\"involved\",\"Bank\",\"November\",\"bill\",\"compared\",\"anything\",\"manager\",\"Texas\",\"property\",\"stop\",\"annual\",\"private\",\"contract\",\"died\",\"Now\",\"hope\",\"product\",\"fans\",\"lower\",\"demand\",\"News\",\"David\",\"club\",\"comments\",\"film\",\"yards\",\"quality\",\"currently\",\"events\",\"addition\",\"couple\",\"schools\",\"attack\",\"region\",\"latest\",\"opportunity\",\"worked\",\"course\",\"bad\",\"fall\",\"Group\",\"October\",\"jobs\",\"list\",\"let\",\"however\",\"chief\",\"summer\",\"programs\",\"According\",\"revenue\",\"Our\",\"rose\",\"previous\",\"TV\",\"football\",\"biggest\",\"employees\",\"changes\",\"residents\",\"means\",\"agreement\",\"includes\",\"post\",\"Canada\",\"probably\",\"related\",\"training\",\"allowed\",\"class\",\"bit\",\"video\",\"Michael\",\"An\",\"sent\",\"education\",\"states\",\"straight\",\"love\",\"beat\",\"hold\",\"turn\",\"finished\",\"network\",\"Smith\",\"buy\",\"foreign\",\"especially\",\"groups\",\"wants\",\"title\",\"included\",\"turned\",\"bank\",\"Florida\",\"efforts\",\"personal\",\"businesses\",\"August\",\"California\",\"situation\",\"district\",\"allow\",\"helped\",\"body\",\"nothing\",\"soon\",\"safety\",\"officer\",\"cents\",\"Europe\",\"St.\",\"additional\",\"spokesman\",\"February\",\"wife\",\"showed\",\"leave\",\"investors\",\"parents\",\"medical\",\"spending\",\"non\",\"London\",\"Council\",\"matter\",\"spent\",\"child\",\"World\",\"effort\",\"opening\",\"either\",\"range\",\"question\",\"European\",\"goals\",\"administration\",\"friends\",\"himself\",\"shows\",\"difficult\",\"kids\",\"paid\",\"create\",\"cash\",\"age\",\"league\",\"form\",\"impact\",\"drive\",\"someone\",\"became\",\"stay\",\"fight\",\"significant\",\"firm\",\"Senate\",\"hospital\",\"charged\",\"operating\",\"main\",\"book\",\"success\",\"son\",\"trading\",\"###-####\",\"focus\",\"room\",\"continued\",\"Congress\",\"everything\",\"Park\",\"agency\",\"brought\",\"talk\",\"break\",\"air\",\"software\",\"decided\",\"Do\",\"ready\",\"arrested\",\"track\",\"provides\",\"mother\",\"base\",\"trial\",\"phone\",\"My\",\"build\",\"conditions\",\"rest\",\"Johnson\",\"terms\",\"expect\",\"England\",\"Israel\",\"despite\",\"closed\",\"starting\",\"provided\",\"pressure\",\"lives\",\"step\",\"remain\",\"similar\",\"charge\",\"date\",\"whole\",\"land\",\"growing\",\"James\",\"Internet\",\"projects\",\"British\",\"cases\",\"ground\",\"legal\",\"International\",\"agreed\",\"tell\",\"test\",\"everyone\",\"pretty\",\"authorities\",\"Two\",\"above\",\"moved\",\"profit\",\"throughout\",\"inside\",\"ability\",\"overall\",\"pass\",\"officers\",\"rather\",\"Australia\",\"actually\",\"county\",\"amount\",\"scheduled\",\"themselves\",\"organization\",\"giving\",\"credit\",\"father\",\"drug\",\"investigation\",\"families\",\"Republican\",\"funds\",\"patients\",\"takes\",\"systems\",\"Japan\",\"complete\",\"sold\",\"practice\",\"calls\",\"\\u2022\",\"UK\",\"force\",\"student\",\"idea\",\"reached\",\"reason\",\"levels\",\"space\",\"competition\",\"forces\",\"sector\",\"Last\",\"tried\",\"common\",\"homes\",\"stage\",\"department\",\"named\",\"earnings\",\"offers\",\"star\",\"certain\",\"double\",\"longer\",\"followed\",\"cause\",\"Association\",\"signed\",\"committee\",\"hour\",\"college\",\"Pakistan\",\"users\",\"Iran\",\"sign\",\"living\",\"failed\",\"reach\",\"quickly\",\"receive\",\"debt\",\"sale\",\"Board\",\"Americans\",\"Road\",\"Brown\",\"insurance\",\"##:##\",\"anyone\",\"tournament\",\"More\",\"gas\",\"talks\",\"serious\",\"required\",\"sell\",\"construction\",\"evidence\",\"remains\",\"black\",\"below\",\"improve\",\"crisis\",\"address\",\"questions\",\"easy\",\"begin\",\"view\",\"School\",\"heard\",\"executive\",\"raised\",\"Paul\",\"store\",\"gets\",\"filed\",\"huge\",\"moving\",\"seems\",\"met\",\"####s\",\"thousands\",\"CEO\",\"solutions\",\"score\",\"content\",\"treatment\",\"offered\",\"built\",\"hits\",\"present\",\"Chicago\",\"attacks\",\"although\",\"social\",\"afternoon\",\"vehicle\",\"read\",\"example\",\"rise\",\"....\",\"minute\",\"banks\",\"council\",\"troops\",\"rates\",\"tough\",\"Chinese\",\"Even\",\"works\",\"fifth\",\"knew\",\"felt\",\"Street\",\"website\",\"fund\",\"issued\",\"immediately\",\"opened\",\"goes\",\"proposed\",\"happy\",\"guys\",\"response\",\"numbers\",\"benefits\",\"happened\",\"###.#\",\"light\",\"positive\",\"chairman\",\"claims\",\"People\",\"details\",\"Williams\",\"East\",\"accused\",\"equipment\",\"dropped\",\"dollars\",\"various\",\"worth\",\"judge\",\"considered\",\"commercial\",\"activities\",\"funding\",\"dollar\",\"plant\",\"mobile\",\"television\",\"rules\",\"rights\",\"review\",\"quite\",\"regular\",\"Dr.\",\"served\",\"kept\",\"marketing\",\"created\",\"heart\",\"wrote\",\"prison\",\"instead\",\"concerns\",\"offering\",\"returned\",\"benefit\",\"designed\",\"approved\",\"foot\",\"search\",\"miles\",\"planned\",\"Health\",\"Government\",\"driving\",\"Indian\",\"entire\",\"First\",\"providing\",\"host\",\"ask\",\"design\",\"hearing\",\"save\",\"looked\",\"Central\",\"travel\",\"_\",\"successful\",\"beginning\",\"movie\",\"adding\",\"forced\",\"toward\",\"ensure\",\"passed\",\"unit\",\"happen\",\"mean\",\"Associated_Press\",\"Many\",\"shooting\",\"gone\",\"winner\",\"hopes\",\"understand\",\"planning\",\"trip\",\"raise\",\"owner\",\"popular\",\"completed\",\"ways\",\"attention\",\"feet\",\"assets\",\"traffic\",\"Mike\",\"Since\",\"environment\",\"Both\",\"interview\",\"consumers\",\"Democrats\",\"Jones\",\"Not\",\"hands\",\"contact\",\"cars\",\"Although\",\"dead\",\"features\",\"challenge\",\"Canadian\",\"particularly\",\"basis\",\"violence\",\"stand\",\"consumer\",\"sense\",\"attorney\",\"driver\",\"highest\",\"\\u00a3\",\"posted\",\"finish\",\"limited\",\"source\",\"Hall\",\"serve\",\"Sept.\",\"spot\",\"Then\",\"advantage\",\"scoring\",\"words\",\"applications\",\"Russia\",\"reduce\",\"How\",\"white\",\"appeared\",\"itself\",\"fuel\",\"During\",\"Afghanistan\",\"simply\",\"fiscal\",\"Jackson\",\"plays\",\"account\",\"follow\",\"statements\",\"organizations\",\"pick\",\"continues\",\"session\",\"nuclear\",\"French\",\"seconds\",\"daughter\",\"co\",\"sports\",\"Most\",\"caused\",\"injury\",\"United\",\"College\",\"effect\",\"selling\",\"middle\",\"cuts\",\"drop\",\"facility\",\"true\",\"target\",\"consider\",\"watch\",\"noted\",\"Other\",\"resources\",\"opportunities\",\"strategy\",\"learn\",\"re\",\"Mexico\",\"message\",\"injured\",\"parties\",\"seeking\",\"missed\",\"wrong\",\"letter\",\"From\",\"looks\",\"individual\",\"approach\",\"damage\",\"else\",\"speed\",\"France\",\"mind\",\"Los_Angeles\",\"bid\",\"subject\",\"ran\",\"send\",\"Mark\",\"existing\",\"fun\",\"innings\",\"press\",\"voters\",\"championship\",\"leaving\",\"earned\",\"effective\",\"poor\",\"friend\",\"customer\",\"solution\",\"corporate\",\"independent\",\"leadership\",\"human\",\"Democratic\",\"shots\",\"believes\",\"computer\",\"s\",\"items\",\"confidence\",\"add\",\"health_care\",\"award\",\"parts\",\"cover\",\"missing\",\"fast\",\"Iraqi\",\"incident\",\"husband\",\"responsible\",\"looking_statements\",\"losses\",\"estimated\",\"approximately\",\"guy\",\"purchase\",\"Australian\",\"helping\",\"finally\",\"spend\",\"scene\",\"opposition\",\"develop\",\"Ohio\",\"certainly\",\"extra\",\"UN\",\"talking\",\"spring\",\"emergency\",\"station\",\"check\",\"Chris\",\"soldiers\",\"vehicles\",\"launch\",\"Business\",\"critical\",\"professional\",\"described\",\"choice\",\"moment\",\"size\",\"changed\",\"holding\",\"door\",\"declined\",\"R\",\"launched\",\"condition\",\"lose\",\"joined\",\"gives\",\"developed\",\"Also\",\"protect\",\"girls\",\"District\",\"operation\",\"necessary\",\"taxes\",\"sites\",\"Day\",\"beyond\",\"African\",\"daily\",\"yard\",\"calling\",\"Those\",\"options\",\"stocks\",\"newspaper\",\"peace\",\"proposal\",\"Jan.\",\"previously\",\"Microsoft\",\"owned\",\"regional\",\"Thomas\",\"hear\",\"housing\",\"owners\",\"exchange\",\"majority\",\"starts\",\"victims\",\"Times\",\"model\",\"struck\",\"tour\",\"basketball\",\"###-###-####\",\"published\",\"twice\",\"candidates\",\"Commission\",\"population\",\"evening\",\"lack\",\"north\",\"fighting\",\"reporters\",\"concerned\",\"south\",\"fine\",\"weather\",\"figures\",\"floor\",\"relationship\",\"activity\",\"remaining\",\"believed\",\"Scott\",\"confirmed\",\"anti\",\"placed\",\"caught\",\"crime\",\"crowd\",\"appear\",\"version\",\"Western\",\"Boston\",\"girl\",\"join\",\"discuss\",\"church\",\"original\",\"Michigan\",\"aid\",\"expectations\",\"White_House\",\"Bill\",\"clients\",\"located\",\"Germany\",\"Israeli\",\"gold\",\"killing\",\"specific\",\"Robert\",\"act\",\"High_School\",\"partner\",\"losing\",\"claim\",\"records\",\"Office\",\"offense\",\"Dec.\",\"Just\",\"alone\",\"Corp.\",\"facilities\",\"Another\",\"division\",\"Oct.\",\"Nov.\",\"retail\",\"worst\",\"legislation\",\"page\",\"Lee\",\"measures\",\"brand\",\"expects\",\"art\",\"Services\",\"standards\",\"application\",\"central\",\"sixth\",\"safe\",\"style\",\"elections\",\"*\",\"primary\",\"greater\",\"progress\",\"managed\",\"supply\",\"gain\",\"prior\",\"Committee\",\"wins\",\"recovery\",\"e_mail\",\"upon\",\"plus\",\"type\",\"paper\",\"attempt\",\"High\",\"focused\",\"claimed\",\"survey\",\"injuries\",\"street\",\"stores\",\"block\",\"analysts\",\"Big\",\"allows\",\"hundreds\",\"avoid\",\"Conference\",\"governor\",\"figure\",\"band\",\"option\",\"lines\",\"sources\",\"domestic\",\"NFL\",\"knows\",\"seem\",\"Open\",\"Republicans\",\"Britain\",\"feature\",\"walk\",\"broke\",\"factors\",\"battle\",\"developing\",\"threat\",\"worldwide\",\"Feb.\",\"written\",\"Christmas\",\"committed\",\"green\",\"agencies\",\"improved\",\"traditional\",\"###.##\",\"fair\",\"border\",\"About\",\"Reuters\",\"concern\",\"mark\",\"allowing\",\"capacity\",\"putting\",\"appears\",\"stories\",\"grow\",\"unique\",\"favorite\",\"nice\",\"Today\",\"vice_president\",\"measure\",\"debate\",\"direct\",\"stopped\",\"index\",\"drugs\",\"tied\",\"rising\",\"risks\",\"League\",\"Despite\",\"mid\",\"arrived\",\"communities\",\"Meanwhile\",\"increasing\",\"presented\",\"Her\",\"boy\",\"Court\",\"standard\",\"prevent\",\"mission\",\"deep\",\"Chief\",\"word\",\"identified\",\"pulled\",\"inning\",\"difference\",\"pair\",\"suffered\",\"perfect\",\"advanced\",\"prepared\",\"fully\",\"blood\",\"signs\",\"showing\",\"English\",\"####-##\",\"interested\",\"material\",\"article\",\"experts\",\"bottom\",\"answer\",\"D\",\"George\",\"usually\",\"wait\",\"spoke\",\"Davis\",\"laws\",\"request\",\"units\",\"loan\",\"directly\",\"union\",\"particular\",\"baseball\",\"loans\",\"pre\",\"born\",\"affected\",\"waiting\",\"simple\",\"Martin\",\"picked\",\"Arizona\",\"faces\",\"Russian\",\"names\",\"EU\",\"generation\",\"responsibility\",\"combined\",\"audience\",\"hurt\",\"seemed\",\"red\",\"revenues\",\"candidate\",\"Under\",\"ranked\",\"cities\",\"places\",\"ruling\",\"Green\",\"speak\",\"strike\",\"documents\",\"Year\",\"sometimes\",\"King\",\"seasons\",\"via\",\"carry\",\"boys\",\"facing\",\"learned\",\"hotel\",\"produced\",\"Google\",\"seeing\",\"seat\",\"produce\",\"millions\",\"box\",\"decisions\",\"coverage\",\"voice\",\"rule\",\"respect\",\"World_Cup\",\"cancer\",\"shown\",\"fired\",\"decades\",\"reasons\",\"tonight\",\"Aug.\",\"commitment\",\"alleged\",\"competitive\",\"rebounds\",\"Miller\",\"individuals\",\"thinking\",\"established\",\"books\",\"approval\",\"deliver\",\"remained\",\"guard\",\"Service\",\"God\",\"infrastructure\",\"appeal\",\"digital\",\"Web\",\"ordered\",\"citizens\",\"Research\",\"speech\",\"push\",\"highly\",\"Army\",\"decline\",\"holiday\",\"self\",\"Three\",\"accident\",\"radio\",\"require\",\"murder\",\"wide\",\"policies\",\"park\",\"Their\",\"champion\",\"platform\",\"pleased\",\"heavy\",\"eventually\",\"crash\",\"minister\",\"hot\",\"serving\",\"asking\",\"Detroit\",\"keeping\",\"provider\",\"partners\",\"remember\",\"seek\",\"manufacturing\",\"teachers\",\"towards\",\"buying\",\"warned\",\"Steve\",\"initial\",\"pounds\",\"brother\",\"panel\",\"becoming\",\"entered\",\"sides\",\"victim\",\"setting\",\"Co.\",\"environmental\",\"bus\",\"Is\",\"Asia\",\"note\",\"IT\",\"carried\",\"consecutive\",\"older\",\"criminal\",\"Richard\",\"bought\",\"Georgia\",\"Institute\",\"announcement\",\"Union\",\"Rs\",\"Division\",\"decade\",\"clean\",\"stated\",\"penalty\",\"boost\",\"attend\",\"separate\",\"enjoy\",\"Web_site\",\"table\",\"analysis\",\"Japanese\",\"German\",\"skills\",\"jail\",\"Valley\",\"protection\",\"analyst\",\"mostly\",\"paying\",\"draw\",\"Director\",\"Taylor\",\"perhaps\",\"reading\",\"cross\",\"commission\",\"drivers\",\"offices\",\"presence\",\"meetings\",\"votes\",\"strength\",\"Of\",\"delivery\",\"location\",\"positions\",\"regarding\",\"hoping\",\"Ryan\",\"offensive\",\"spread\",\"White\",\"whom\",\"deficit\",\"powerful\",\"Club\",\"continuing\",\"natural\",\"revealed\",\"feeling\",\"Jim\",\"grew\",\"watching\",\"suggested\",\"slow\",\"challenges\",\"Writer\",\"larger\",\"quick\",\"definitely\",\"flight\",\"university\",\"junior\",\"inflation\",\"ones\",\"Apple\",\"honor\",\"active\",\"voted\",\"Community\",\"solid\",\"Clinton\",\"Act\",\"determine\",\"reduced\",\"fees\",\"multiple\",\"decide\",\"advertising\",\"language\",\"expressed\",\"steps\",\"easily\",\"bringing\",\"physical\",\"throw\",\"forecast\",\"schedule\",\"denied\",\"finding\",\"ban\",\"Game\",\"agree\",\"section\",\"admitted\",\"actions\",\"normal\",\"devices\",\"Because\",\"squad\",\"creating\",\"walked\",\"chief_executive\",\"streets\",\"clearly\",\"complex\",\"lawyer\",\"elected\",\"increases\",\"Energy\",\"estimates\",\"excited\",\"helps\",\"relief\",\"determined\",\"maybe\",\"suspect\",\"Hill\",\"sound\",\"piece\",\"campus\",\"southern\",\"degree\",\"smaller\",\"status\",\"headed\",\"#-##\",\"healthy\",\"massive\",\"testing\",\"distribution\",\"Why\",\"completely\",\"onto\",\"hitting\",\"closing\",\"lawmakers\",\"fresh\",\"winter\",\"Tom\",\"contest\",\"outstanding\",\"exactly\",\"percentage\",\"Joe\",\"contributed\",\"movement\",\"storm\",\"seventh\",\"fear\",\"weight\",\"Minnesota\",\"McCain\",\"C\",\"secure\",\"conducted\",\"acquisition\",\"Over\",\"maintain\",\"rally\",\"knowledge\",\"recorded\",\"assistant\",\"doctors\",\"proud\",\"advice\",\"Secretary\",\"finance\",\"sex\",\"Peter\",\"WASHINGTON\",\"refused\",\"Miami\",\"agent\",\"draft\",\"pitch\",\"Justice\",\"supporters\",\"General\",\"user\",\"presidential\",\"tie\",\"Africa\",\"New_Zealand\",\"sort\",\"Houston\",\"disease\",\"tomorrow\",\"core\",\"willing\",\"patient\",\"Hospital\",\"considering\",\"firms\",\"Still\",\"technical\",\"trouble\",\"Its\",\"picture\",\"extremely\",\"confident\",\"count\",\"visitors\",\"extended\",\"Once\",\"reality\",\"expand\",\"Christian\",\"expansion\",\"lived\",\"Lake\",\"Palestinian\",\"downtown\",\"doubt\",\"nature\",\"listed\",\"leads\",\"opinion\",\"River\",\"row\",\"fellow\",\"corner\",\"author\",\"Development\",\"screen\",\"shareholders\",\"faced\",\"Illinois\",\"plants\",\"arrest\",\"society\",\"character\",\"labor\",\"gains\",\"science\",\"teacher\",\"web\",\"restaurant\",\"learning\",\"recession\",\"raising\",\"failure\",\"airport\",\"intelligence\",\"selected\",\"zone\",\"buildings\",\"industrial\",\"contracts\",\"advance\",\"fit\",\"assists\",\"tickets\",\"youth\",\"variety\",\"matches\",\"defensive\",\"package\",\"requirements\",\"connection\",\"writing\",\"ongoing\",\"Iowa\",\"explained\",\"accept\",\"lawsuit\",\"Wilson\",\"profile\",\"ending\",\"expenses\",\"employee\",\"resident\",\"myself\",\"stuff\",\"Supreme_Court\",\"Toronto\",\"standing\",\"Corporation\",\"covered\",\"Young\",\"politics\",\"aware\",\"Minister\",\"device\",\"display\",\"culture\",\"train\",\"driven\",\"closer\",\"real_estate\",\"illegal\",\"meant\",\"technologies\",\"card\",\"dog\",\"in.\",\"enter\",\"communications\",\"weapons\",\"gained\",\"supported\",\"eye\",\"NEW_YORK\",\"associated\",\"chances\",\"Instead\",\"centers\",\"dangerous\",\"views\",\"worse\",\"studies\",\"discussion\",\"Colorado\",\"Atlanta\",\"San_Francisco\",\"attended\",\"pace\",\"Virginia\",\"album\",\"entertainment\",\"camp\",\"Before\",\"trust\",\"strategic\",\"falling\",\"favor\",\"retired\",\"removed\",\"army\",\"balance\",\"plane\",\"quarterback\",\"Baghdad\",\"banking\",\"baby\",\"truck\",\"Ford\",\"sought\",\"write\",\"partnership\",\"nearby\",\"image\",\"stars\",\"volume\",\"effects\",\"Cup\",\"tests\",\"South_Africa\",\"Chairman\",\"interests\",\"occurred\",\"Philadelphia\",\"bond\",\"introduced\",\"sport\",\"spokeswoman\",\"behavior\",\"defeat\",\"treated\",\"direction\",\"Only\",\"bigger\",\"crew\",\"allegedly\",\"uses\",\"Avenue\",\"mortgage\",\"miss\",\"Among\",\"catch\",\"appearance\",\"welcome\",\"experienced\",\"ideas\",\"negotiations\",\"Foundation\",\"Asian\",\"authority\",\"slightly\",\"urged\",\"hole\",\"reform\",\"achieve\",\"Education\",\"Brian\",\"assistance\",\"delivered\",\"compete\",\"link\",\"choose\",\"possibility\",\"ruled\",\"interesting\",\"seats\",\"threw\",\"drove\",\"Anderson\",\"B\",\"immediate\",\"investments\",\"payments\",\"northern\",\"relations\",\"license\",\"discovered\",\"prove\",\"registered\",\"perform\",\"governments\",\"debut\",\"researchers\",\"accounts\",\"Well\",\"limit\",\"eyes\",\"deaths\",\"Here\",\"neighborhood\",\"handed\",\"veteran\",\"alternative\",\"basic\",\"manage\",\"tools\",\"negative\",\"Each\",\"secretary\",\"kill\",\"receiving\",\"Jr.\",\"collection\",\"coaches\",\"returns\",\"Black\",\"surgery\",\"gun\",\"replace\",\"fan\",\"institutions\",\"personnel\",\"golf\",\"happens\",\"surprise\",\"changing\",\"kick\",\"ceremony\",\"west\",\"resolution\",\"broken\",\"plenty\",\"nor\",\"easier\",\"passing\",\"pain\",\"Kevin\",\"bar\",\"Bob\",\"Federal\",\"everybody\",\"talent\",\"represent\",\"Former\",\"unless\",\"pull\",\"cast\",\"deals\",\"grade\",\"song\",\"filled\",\"wish\",\"begins\",\"affect\",\"nations\",\"fee\",\"Post\",\"largely\",\"New_Jersey\",\"apparently\",\"email\",\"NBA\",\"Management\",\"portfolio\",\"recognized\",\"speaking\",\"shut\",\"sit\",\"profits\",\"reporting\",\"holds\",\"represents\",\"dozen\",\"practices\",\"declared\",\"rich\",\"thanks\",\"#####\",\"supplies\",\"convicted\",\"native\",\"Dallas\",\"improvement\",\"amid\",\"classes\",\"participate\",\"accepted\",\"jump\",\"village\",\"aircraft\",\"poll\",\"abuse\",\"carrying\",\"east\",\"pro\",\"client\",\"equity\",\"sitting\",\"generally\",\"notes\",\"unable\",\"ice\",\"houses\",\"stake\",\"Carolina\",\"rain\",\"savings\",\"warning\",\"brings\",\"USA\",\"discussed\",\"Fed\",\"adults\",\"GM\",\"file\",\"Spain\",\"responded\",\"parking\",\"Let\",\"returning\",\"Sun\",\"orders\",\"telling\",\"encourage\",\"Like\",\"identify\",\"William\",\"pushed\",\"joint\",\"conduct\",\"suspended\",\"wind\",\"Tigers\",\"edge\",\"roads\",\"female\",\"sentence\",\"Wall_Street\",\"Oklahoma\",\"backed\",\"promote\",\"eighth\",\"influence\",\"organized\",\"Seattle\",\"cold\",\"bills\",\"payment\",\"properties\",\"scale\",\"Your\",\"rival\",\"religious\",\"retirement\",\"possibly\",\"turning\",\"civil\",\"moves\",\"currency\",\"Team\",\"aimed\",\"Italy\",\"breaking\",\"alcohol\",\"awards\",\"talked\",\"grant\",\"wall\",\"allegations\",\"requires\",\"Indiana\",\"mayor\",\"races\",\"struggling\",\"whatever\",\"readers\",\"appointed\",\"Matt\",\"voting\",\"Will\",\"Home\",\"significantly\",\"heat\",\"Information\",\"structure\",\"transfer\",\"supporting\",\"trend\",\"increasingly\",\"networks\",\"otherwise\",\"conflict\",\"cutting\",\"modern\",\"wearing\",\"executives\",\"entry\",\"Beijing\",\"playoff\",\"wireless\",\"T\",\"Fire\",\"Every\",\"M\",\"Centre\",\"meaning\",\"leg\",\"intended\",\"appropriate\",\"excellent\",\"North_Carolina\",\"involving\",\"stood\",\"heads\",\"rescue\",\"walking\",\"locations\",\"materials\",\"sending\",\"bodies\",\"snow\",\"fish\",\"feels\",\"Mayor\",\"deputy\",\"mile\",\"Olympic\",\"passengers\",\"except\",\"Fox\",\"Senior\",\"storage\",\"shop\",\"Lewis\",\"Middle_East\",\"supposed\",\"numerous\",\"songs\",\"awarded\",\"traded\",\"sister\",\"possession\",\"realize\",\"understanding\",\"ten\",\"justice\",\"rating\",\"expensive\",\"jumped\",\"improving\",\"fraud\",\"animals\",\"Howard\",\"Technology\",\"dedicated\",\"tight\",\"lawyers\",\"sets\",\"linked\",\"providers\",\"investigators\",\"stands\",\"terrorism\",\"arm\",\"freedom\",\"notice\",\"sentenced\",\"coalition\",\"touch\",\"Women\",\"exercise\",\"Global\",\"settlement\",\"disaster\",\"assist\",\"electronic\",\"playoffs\",\"combination\",\"apply\",\"shared\",\"doctor\",\"US\",\"comprehensive\",\"Andrew\",\"earn\",\"fill\",\"rock\",\"Fund\",\"giant\",\"please\",\"suit\",\"Life\",\"owns\",\"electricity\",\"exciting\",\"winners\",\"beating\",\"protest\",\"Though\",\"rejected\",\"ticket\",\"Church\",\"Charles\",\"farmers\",\"ride\",\"maker\",\"heading\",\"Yet\",\"regulations\",\"Kelly\",\"models\",\"ends\",\"Sports\",\"innovative\",\"Earlier\",\"upcoming\",\"writer\",\"performed\",\"films\",\"arms\",\"married\",\"prosecutors\",\"agents\",\"##s\",\"handle\",\"Market\",\"duty\",\"captain\",\"securities\",\"employment\",\"surprised\",\"Securities\",\"worried\",\"ninth\",\"Muslim\",\"Sen.\",\"pointed\",\"magazine\",\"threatened\",\"headquarters\",\"Italian\",\"participants\",\"visiting\",\"Oregon\",\"press_release\",\"fly\",\"Wisconsin\",\"Jordan\",\"primarily\",\"respectively\",\"Spanish\",\"New_Orleans\",\"transportation\",\"younger\",\"Media\",\"jury\",\"respond\",\"rural\",\"Ministry\",\"acting\",\"Party\",\"factor\",\"update\",\"island\",\"Afghan\",\"flat\",\"remove\",\"photo\",\"Mary\",\"selection\",\"scheme\",\"Facebook\",\"impressive\",\"becomes\",\"P\",\"indicated\",\"Yankees\",\"Jeff\",\"Financial\",\"photos\",\"professionals\",\"fewer\",\"shopping\",\"split\",\"San_Diego\",\"Public\",\"initiative\",\"Moore\",\"stretch\",\"monthly\",\"stronger\",\"bench\",\"racing\",\"Tennessee\",\"none\",\"values\",\"farm\",\"producer\",\"reduction\",\"famous\",\"Pennsylvania\",\"Brazil\",\"broadcast\",\"promised\",\"operate\",\"Allen\",\"acquired\",\"goods\",\"Paris\",\"relatively\",\"passes\",\"purpose\",\"movies\",\"directors\",\"Southern\",\"SEC\",\"clubs\",\"conservative\",\"Delhi\",\"Call\",\"comfortable\",\"replaced\",\"Clark\",\"matters\",\"hospitals\",\"Top\",\"Hollywood\",\"Democrat\",\"opponents\",\"targets\",\"suffering\",\"festival\",\"Network\",\"compensation\",\"guilty\",\"efficient\",\"managers\",\"truly\",\"faith\",\"scores\",\"busy\",\"extend\",\"faster\",\"yourself\",\"weak\",\"rare\",\"initially\",\"importance\",\"waste\",\"suspected\",\"margin\",\"watched\",\"meters\",\"Ireland\",\"franchise\",\"fashion\",\"pound\",\"professor\",\"Alabama\",\"multi\",\"grown\",\"Officials\",\"estimate\",\"document\",\"register\",\"cable\",\"obviously\",\"familiar\",\"scientists\",\"Cleveland\",\"artists\",\"invited\",\"#,###,###\",\"vs.\",\"crimes\",\"Gulf\",\"Hamas\",\"prepare\",\"volunteers\",\"cool\",\"financing\",\"images\",\"fixed\",\"hired\",\"enable\",\"camera\",\"Food\",\"memory\",\"historic\",\"dinner\",\"proved\",\"Arab\",\"sees\",\"telephone\",\"vision\",\"reportedly\",\"soccer\",\".###\",\"Irish\",\"ship\",\"path\",\"actor\",\"circumstances\",\"severe\",\"expert\",\"traveling\",\"engineering\",\"Manchester\",\"Four\",\"dance\",\"Taliban\",\"Jason\",\"Turkey\",\"Several\",\"overseas\",\"Thompson\",\"bridge\",\"lowest\",\"auto\",\"counts\",\"attempts\",\"reflect\",\"color\",\"Tim\",\"wounded\",\"secret\",\"visited\",\"greatest\",\"leaves\",\"types\",\"representatives\",\"worry\",\"internal\",\"Bay\",\"adds\",\"athletes\",\"Harris\",\"mix\",\"industries\",\"ministry\",\"signing\",\"Woods\",\"targeted\",\"tells\",\"Please\",\"serves\",\"interest_rates\",\"AP_Photo\",\"Local\",\"graduate\",\"quoted\",\"argued\",\"association\",\"lots\",\"announce\",\"shortly\",\"featured\",\"marriage\",\"contained\",\"Man\",\"priority\",\"terrorist\",\"Commerce\",\"Oil\",\"Pittsburgh\",\"unlikely\",\"causing\",\"directed\",\"code\",\"die\",\"category\",\"chosen\",\"shift\",\"Rangers\",\"Gaza\",\"maintenance\",\"apartment\",\"theater\",\"effectively\",\"Denver\",\"mine\",\"upset\",\"western\",\"nationwide\",\"GOP\",\"thinks\",\"Pacific\",\"euro\",\"Joseph\",\"Sales\",\"closely\",\"friendly\",\"channel\",\"brain\",\"custody\",\"barrel\",\"afford\",\"Who\",\"Yes\",\"dogs\",\"residential\",\"dream\",\"actual\",\"reaching\",\"transaction\",\"Kentucky\",\"finals\",\"#.###\",\"cooperation\",\"boat\",\"investigating\",\"communication\",\"freshman\",\"outlook\",\"deadline\",\"surface\",\"parent\",\"phase\",\"eat\",\"asset\",\"truth\",\"delay\",\"enjoyed\",\"shape\",\"anticipated\",\"representing\",\"purchased\",\"hoped\",\"Judge\",\"Rep.\",\"portion\",\"opposed\",\"Security\",\"enterprise\",\"animal\",\"controlled\",\"politicians\",\"Power\",\"North_Korea\",\"Dan\",\"cards\",\"suggest\",\"Family\",\"concert\",\"uncertainties\",\"Free\",\"granted\",\"beautiful\",\"recognize\",\"joining\",\"####-####\",\"flights\",\"absolutely\",\"Hamilton\",\"dealing\",\"cap\",\"turns\",\"Capital\",\"ties\",\"informed\",\"Jack\",\"#,###.##\",\"window\",\"'##\",\"Best\",\"pool\",\"Hong_Kong\",\"coaching\",\"titles\",\"blue\",\"amazing\",\"fears\",\"demands\",\"Missouri\",\"cited\",\"behalf\",\"Edwards\",\"bonds\",\"shoulder\",\"seriously\",\"districts\",\"aggressive\",\"alive\",\"Utah\",\"bomb\",\"suspects\",\"dark\",\"sea\",\"therefore\",\"overtime\",\"submitted\",\"agenda\",\"establish\",\"Kansas\",\"engine\",\"Program\",\"mainly\",\"NCAA\",\"maximum\",\"male\",\"pushing\",\"airline\",\"principal\",\"library\",\"pieces\",\"dispute\",\"corruption\",\"reserve\",\"Children\",\"sponsored\",\"militants\",\"reducing\",\"Massachusetts\",\"originally\",\"Championship\",\"sharing\",\"mixed\",\"complaint\",\"J.\",\"realized\",\"crucial\",\"province\",\"ultimately\",\"brands\",\"capabilities\",\"acknowledged\",\"distance\",\"struggle\",\"Or\",\"stations\",\"discussions\",\"judges\",\"Maybe\",\"extensive\",\"Award\",\"Giants\",\"manufacturers\",\"Jewish\",\"Egypt\",\"United_Nations\",\"achieved\",\"defeated\",\"assault\",\"worker\",\"criticism\",\"usual\",\"Patrick\",\"presentation\",\"improvements\",\"Of_course\",\"Anthony\",\"represented\",\"Such\",\"Shares\",\"Any\",\"findings\",\"counties\",\"stolen\",\"K\",\"expense\",\"Daniel\",\"Dr\",\"editor\",\"herself\",\"Drive\",\"complaints\",\"buyers\",\"A.\",\"mentioned\",\"stayed\",\"efficiency\",\"democracy\",\"knee\",\"connected\",\"Islamic\",\"Q\",\"terror\",\"operates\",\"law_enforcement\",\"prime_minister\",\"Series\",\"neighbors\",\"successfully\",\"permanent\",\"Tony\",\"parliament\",\"adult\",\"ages\",\"Eagles\",\"consistent\",\"proposals\",\"explain\",\"formed\",\"weekly\",\"supports\",\"coast\",\"broad\",\"iPhone\",\"relevant\",\"opener\",\"detailed\",\"Walker\",\"human_rights\",\"Iranian\",\"letters\",\"guess\",\"internet\",\"struggled\",\"entering\",\"widely\",\"recovered\",\"Law\",\"happening\",\"par\",\"protests\",\"II\",\"colleagues\",\"tool\",\"trees\",\"text\",\"capable\",\"Phoenix\",\"monitoring\",\"limits\",\"eligible\",\"#\",\"passenger\",\"expanded\",\"Ms.\",\"reputation\",\"brief\",\"motion\",\"St._Louis\",\"treat\",\"fought\",\"concluded\",\"gap\",\"unemployment\",\"restaurants\",\"ad\",\"surrounding\",\"stepped\",\"drew\",\"collected\",\"Gold\",\"#.####\",\"retailers\",\"preparing\",\"wear\",\"destroyed\",\"threats\",\"Chelsea\",\"Singapore\",\"invest\",\"Town\",\"concept\",\"recommended\",\"flying\",\"Kerry\",\"minimum\",\"flow\",\"resulted\",\"marked\",\"chain\",\"combat\",\"rookie\",\"Stephen\",\"noon\",\"performances\",\"Gary\",\"founded\",\"artist\",\"reporter\",\"celebrate\",\"featuring\",\"Air\",\"Star\",\"gathered\",\"potentially\",\"PC\",\"publicly\",\"Kennedy\",\"disappointed\",\"Agency\",\"pictures\",\"touchdowns\",\"fallen\",\"President_Barack_Obama\",\"depth\",\"auction\",\"wonderful\",\"criticized\",\"attacked\",\"essential\",\"damaged\",\"qualified\",\"banned\",\"suggests\",\"specifically\",\"sat\",\"Scotland\",\"Project\",\"loved\",\"dozens\",\"representative\",\"Authorities\",\"typically\",\"era\",\"Stewart\",\"singer\",\"thus\",\"creation\",\"teaching\",\"Sydney\",\"NHL\",\"acres\",\"challenging\",\"encouraged\",\"Las_Vegas\",\"Northern\",\"seniors\",\"quarters\",\"momentum\",\"Dave\",\"producing\",\"processing\",\"inches\",\"segment\",\"versus\",\"mining\",\"route\",\"expertise\",\"Five\",\"wing\",\"touchdown\",\"promise\",\"Wright\",\"healthcare\",\"Are\",\"yen\",\"integrated\",\"neither\",\"Robinson\",\"Academy\",\"puts\",\"Press\",\"foundation\",\"overnight\",\"armed\",\"ex\",\"outcome\",\"reaction\",\"producers\",\"follows\",\"fields\",\"stadium\",\"Be\",\"failing\",\"aside\",\"bed\",\"doors\",\"pilot\",\"E\",\"operators\",\"forms\",\"extension\",\"mass\",\"substantial\",\"obtained\",\"adopted\",\"reserves\",\"FBI\",\"carries\",\"NATO\",\"trained\",\"Dubai\",\"contain\",\"tackle\",\"temporary\",\"proven\",\"regulatory\",\"violent\",\"danger\",\"tree\",\"boss\",\"Frank\",\"Maryland\",\"apart\",\"gift\",\"musical\",\"warm\",\"creative\",\"Prime_Minister\",\"transport\",\"developers\",\"OK\",\"likes\",\"Henry\",\"Ben\",\"courts\",\"wake\",\"shoot\",\"lineup\",\"Report\",\"regulation\",\"kid\",\"task\",\"blog\",\"hosted\",\"Medical\",\"eastern\",\"South_Korea\",\"drawn\",\"Ave\",\"regime\",\"pending\",\"ourselves\",\"threatening\",\"mistake\",\"Through\",\"laid\",\"journalists\",\"cultural\",\"blame\",\"copy\",\"machine\",\"mail\",\"\\u00ae\",\"proper\",\"listen\",\"links\",\"Officer\",\"Columbia\",\"relationships\",\"natural_gas\",\"premium\",\"0\",\"assessment\",\"generated\",\"chose\",\"Campbell\",\"Second\",\"captured\",\"Can\",\"summit\",\"climate\",\"sophomore\",\"Connecticut\",\"keeps\",\"teammates\",\"dismissed\",\"Time\",\"generate\",\"hockey\",\"Vice_President\",\"vital\",\"E.\",\"territory\",\"Eastern\",\"elsewhere\",\"hair\",\"resulting\",\"Mississippi\",\"veterans\",\"recognition\",\"BP\",\"accounting\",\"polls\",\"holes\",\"initiatives\",\"amounts\",\"Treasury\",\"finishing\",\"See\",\"length\",\"birth\",\"rivals\",\"gay\",\"roughly\",\"performing\",\"futures\",\"Royal\",\"exports\",\"tested\",\"seed\",\"blow\",\"historical\",\"starter\",\"+\",\"guests\",\"river\",\"minor\",\"pop\",\"predicted\",\"roll\",\"acts\",\"recalled\",\"anybody\",\"strategies\",\"sharp\",\"horse\",\"Games\",\"prize\",\"valuable\",\"witness\",\"Regional\",\"drinking\",\"contribute\",\"Arkansas\",\"computers\",\"Louisiana\",\"guidelines\",\"funded\",\"delayed\",\"handling\",\"Austin\",\"Defense\",\"exclusive\",\"repeatedly\",\"academic\",\"Lebanon\",\"resource\",\"output\",\"Mitchell\",\"contributions\",\"background\",\"runner\",\"prospects\",\"filing\",\"questioned\",\"applied\",\"Test\",\"Manager\",\"ratings\",\"thank\",\"Eric\",\"Right\",\"characters\",\"wine\",\"saving\",\"lift\",\"civilians\",\"Bloomberg\",\"identity\",\"ownership\",\"obvious\",\"throwing\",\"settle\",\"tracks\",\"smart\",\"Stadium\",\"developments\",\"lunch\",\"Twitter\",\"Liverpool\",\"bail\",\"forget\",\"transition\",\"equal\",\"founder\",\"involvement\",\"gotten\",\"protesters\",\"Class\",\"ABC\",\"euros\",\"S.\",\"homer\",\"Music\",\"opponent\",\"Little\",\"competing\",\"submit\",\"projected\",\"cell\",\"monitor\",\"century\",\"sessions\",\"Parliament\",\"meets\",\"begun\",\"Navy\",\"metal\",\"critics\",\"forum\",\"honored\",\"ballot\",\"affairs\",\"desire\",\"RBI\",\"click\",\"expanding\",\"topic\",\"Following\",\"recommendations\",\"sectors\",\"Red\",\"causes\",\"Ontario\",\"ease\",\"marks\",\"consumption\",\"appointment\",\"officially\",\"argument\",\"newly\",\"Palestinians\",\"wonder\",\"`\",\"spirit\",\"Atlantic\",\"ring\",\"employers\",\"strongly\",\"registration\",\"gasoline\",\"Coach\",\"Total\",\"salary\",\"blocks\",\"classic\",\"Week\",\"educational\",\"feed\",\"managing\",\"cells\",\"stick\",\"exploration\",\"installed\",\"Gordon\",\"blamed\",\"insisted\",\"conversation\",\"trends\",\"elements\",\"guidance\",\"Baltimore\",\"charity\",\"emerged\",\"blocked\",\"replacement\",\"covering\",\"powers\",\"tourism\",\"enhance\",\"operator\",\"Roberts\",\"saved\",\"plate\",\"engaged\",\"expecting\",\"ranks\",\"donations\",\"mention\",\"immigration\",\"pension\",\"emerging\",\"moments\",\"testimony\",\"witnesses\",\"impossible\",\"LLC\",\"tries\",\"rounds\",\"exposure\",\"Trust\",\"celebration\",\"instance\",\"controversial\",\"Alex\",\"harder\",\"stress\",\"settled\",\"remarks\",\"articles\",\"false\",\"Get\",\"dominated\",\"Labor\",\"Pakistani\",\"Island\",\"Murray\",\"dramatic\",\"collapse\",\"attempted\",\"drama\",\"boards\",\"museum\",\"attract\",\"remote\",\"experiences\",\"Show\",\"chair\",\"Toyota\",\"anywhere\",\"messages\",\"developer\",\"Vancouver\",\"ads\",\"opens\",\"Journal\",\"confirm\",\"requested\",\"error\",\"Museum\",\"print\",\"pitcher\",\"contains\",\"Nelson\",\"decrease\",\"attending\",\"System\",\"integration\",\"thrown\",\"unusual\",\"stability\",\"Earth\",\"makers\",\"merger\",\"steel\",\"yield\",\"knocked\",\"square\",\"glass\",\"Lions\",\"Taiwan\",\"inspired\",\"flag\",\"Mumbai\",\"volunteer\",\"fishing\",\"activists\",\"Tokyo\",\"firefighters\",\"alongside\",\"aim\",\"guarantee\",\"clinical\",\"Good\",\"claiming\",\"staying\",\"Duke\",\"tremendous\",\"contribution\",\"terrorists\",\"wave\",\"electric\",\"restrictions\",\"recall\",\"implementation\",\"knowing\",\"skin\",\"utility\",\"CBS\",\"processes\",\"Highway\",\"halftime\",\"fix\",\"quarterly\",\"emotional\",\"maintained\",\"counter\",\"annually\",\"repair\",\"Craig\",\"Lady\",\"S_&\",\"obtain\",\"European_Union\",\"Indians\",\"abroad\",\"Mexican\",\"stable\",\"PM\",\"regions\",\"tradition\",\"totally\",\"opinions\",\"hosts\",\"citing\",\"Long\",\"pitched\",\"Larry\",\"necessarily\",\"beaten\",\"Adam\",\"reasonable\",\"drink\",\"poverty\",\"properly\",\"somebody\",\"canceled\",\"sounds\",\"sick\",\"saves\",\"Deputy\",\"Society\",\"Nick\",\"Carter\",\"lucky\",\"folks\",\"Nigeria\",\"Nevada\",\"defend\",\"Bell\",\"lights\",\"minority\",\"posting\",\"drilling\",\"differences\",\"Love\",\"regularly\",\"roster\",\"bankruptcy\",\"S\",\"participation\",\"Super_Bowl\",\"interim\",\"controls\",\"competitors\",\"stuck\",\"delivering\",\"viewers\",\"Catholic\",\"W.\",\"agreements\",\"subscribers\",\"Sometimes\",\"smoke\",\"War\",\"compliance\",\"manner\",\"trucks\",\"Back\",\"Wales\",\"yes\",\"Junior\",\"M.\",\"mistakes\",\"Gov.\",\"Baker\",\"formal\",\"investor\",\"Vietnam\",\"Oakland\",\"speculation\",\"Sam\",\"qualifying\",\"attorneys\",\"Next\",\"finds\",\"quiet\",\"cleared\",\"Everyone\",\"bag\",\"explosion\",\"taxpayers\",\"guide\",\"occur\",\"encouraging\",\"Net\",\"highway\",\"sleep\",\"recover\",\"interviews\",\"Rock\",\"Lincoln\",\"satellite\",\"entirely\",\"dry\",\"papers\",\"Where\",\"soldier\",\"covers\",\"exhibition\",\"Science\",\"blast\",\"capture\",\"FDA\",\"function\",\"availability\",\"Commissioner\",\"lending\",\"peak\",\"wild\",\"facts\",\"procedures\",\"lap\",\"awareness\",\"Up\",\"pursue\",\"edition\",\"studio\",\"correct\",\"inch\",\"Great\",\"Systems\",\"switch\",\"participating\",\"tend\",\"champions\",\"Kim\",\"Blue\",\"lay\",\"Trade\",\"purposes\",\"departments\",\"THE\",\"ranking\",\"addressed\",\"Olympics\",\"perspective\",\"Marshall\",\"Ltd.\",\"Moscow\",\"components\",\"Having\",\"seized\",\"clothing\",\"Kansas_City\",\"drawing\",\"resistance\",\"choices\",\"recording\",\"demanding\",\"urban\",\"pages\",\"Windows\",\"doubled\",\"suspension\",\"manufacturer\",\"innovation\",\"climbed\",\"Mobile\",\"Russell\",\"Adams\",\"Industry\",\"Cardinals\",\"port\",\"Panthers\",\"runners\",\"G\",\"brothers\",\"visits\",\"implement\",\"All_Star\",\"relatives\",\"al_Qaida\",\"atmosphere\",\"defined\",\"absence\",\"steady\",\"branch\",\"pitching\",\"NBC\",\"normally\",\"gathering\",\"signal\",\"administrative\",\"empty\",\"obligation\",\"Legislature\",\"commander\",\"prompted\",\"falls\",\"taught\",\"promotion\",\"Muslims\",\"incidents\",\"operational\",\"Water\",\"pricing\",\"silver\",\"subsidiary\",\"qualify\",\"Art\",\"escape\",\"wealth\",\"singles\",\"roof\",\"extent\",\"privacy\",\"Students\",\"spots\",\"tennis\",\"grants\",\"transactions\",\"Speaking\",\"scientific\",\"export\",\"Ray\",\"referring\",\"preliminary\",\"rooms\",\"sanctions\",\"degrees\",\"eating\",\"legislative\",\"Morgan\",\"resume\",\"involve\",\"resolve\",\"operated\",\"sexual\",\"prospect\",\"typical\",\"Bears\",\"membership\",\"Murphy\",\"hiring\",\"Rice\",\"consideration\",\"AT_&\",\"civilian\",\"fairly\",\"climate_change\",\"investigate\",\"violations\",\"pipeline\",\"seeks\",\"crore\",\"hire\",\"Investors\",\"Online\",\"Alaska\",\"###th\",\"theme\",\"stressed\",\"Exchange_Commission\",\"resort\",\"Tour\",\"walks\",\"roles\",\"rebound\",\"reference\",\"Analysts\",\"specialist\",\"timing\",\"Bureau\",\"imagine\",\"rapidly\",\"angry\",\"riding\",\"violation\",\"attitude\",\"guest\",\"select\",\"tech\",\"Cameron\",\"barrels\",\"sensitive\",\"hosting\",\"demanded\",\"Graham\",\"marijuana\",\"intent\",\"BBC\",\"@\",\"strengthen\",\"channels\",\"ministers\",\"newspapers\",\"referred\",\"Building\",\"testified\",\"column\",\"Ross\",\"Terry\",\"arrive\",\"Unfortunately\",\"rushed\",\"kilometers\",\"frame\",\"provision\",\"authorized\",\"fail\",\"completion\",\"traveled\",\"Daily\",\"heavily\",\"acquire\",\"striking\",\"virus\",\"DVD\",\"Index\",\"secured\",\"breaks\",\"Greg\",\"attractive\",\"Portland\",\"indeed\",\"approve\",\"survived\",\"intense\",\"somewhat\",\"aims\",\"crews\",\"protected\",\"checks\",\"distributed\",\"talented\",\"kicked\",\"permission\",\"Tech\",\"judgment\",\"IBM\",\"beer\",\"clothes\",\"Administration\",\"Maine\",\"coal\",\"Intel\",\"packed\",\"promoting\",\"flood\",\"approached\",\"Washington_DC\",\"towns\",\"disappointing\",\"Old\",\"collaboration\",\"hopefully\",\"streak\",\"Based\",\"balls\",\"pleaded_guilty\",\"sustained\",\"noticed\",\"permit\",\"beach\",\"Grant\",\"collect\",\"journey\",\"victories\",\"Greece\",\"statistics\",\"fantastic\",\"rail\",\"Take\",\"hundred\",\"pack\",\"broadband\",\"Air_Force\",\"cycle\",\"delays\",\"comedy\",\"thoughts\",\"hardware\",\"solar\",\"Finance\",\"bound\",\"Price\",\"proceeds\",\"Cincinnati\",\"suicide\",\"prisoners\",\"discovery\",\"dad\",\"searching\",\"longtime\",\"Pentagon\",\"premier\",\"command\",\"enables\",\"###-###\",\"ranging\",\"nobody\",\"actress\",\"aspects\",\"fled\",\"Melbourne\",\"Orange\",\"videos\",\"Federal_Reserve\",\"cricket\",\"Asked\",\"ratio\",\"birthday\",\"Radio\",\"restructuring\",\"episode\",\"Field\",\"Parker\",\"cameras\",\"persons\",\"championships\",\"answers\",\"promises\",\"unknown\",\"argue\",\"differ_materially\",\"Rose\",\"NYSE\",\"Evans\",\"surge\",\"focusing\",\"doubles\",\"Bruce\",\"donated\",\"ideal\",\"equivalent\",\"reliable\",\"sustainable\",\"factory\",\"Without\",\"scenes\",\"survive\",\"contacted\",\"mph\",\"residence\",\"trips\",\"hotels\",\"bat\",\"unclear\",\"gang\",\"grounds\",\"slipped\",\"carrier\",\"bases\",\"prosecutor\",\"categories\",\"liked\",\"accurate\",\"advised\",\"slowly\",\"Read\",\"abortion\",\"mom\",\"Mets\",\"tons\",\"Perhaps\",\"requests\",\"forcing\",\"frequently\",\"overcome\",\"inquiry\",\"situations\",\"apparent\",\"map\",\"universities\",\"bear\",\"Staff\",\"Whether\",\"stroke\",\"medicine\",\"drives\",\"reforms\",\"vendors\",\"defending\",\"teach\",\"medium\",\"prime\",\"Andy\",\"Governor\",\"basically\",\"exposed\",\"Hotel\",\"F\",\"Ms\",\"dialogue\",\"Indonesia\",\"stimulus\",\"Alliance\",\"probe\",\"Perry\",\"Ron\",\"methods\",\"shall\",\"landed\",\"stages\",\"credit_card\",\"luxury\",\"dates\",\"vulnerable\",\"preparation\",\"regulators\",\"indicate\",\"appearances\",\"theft\",\"appreciate\",\"complained\",\"Memorial\",\"Oh\",\"chemical\",\"relative\",\"Transportation\",\"consequences\",\"imposed\",\"rolled\",\"alert\",\"virtually\",\"provincial\",\"Sony\",\"forecasts\",\"Dean\",\"strikes\",\"athletic\",\"neck\",\"tourists\",\"cell_phone\",\"sad\",\"pct\",\"Arsenal\",\"prominent\",\"allies\",\"Josh\",\"writes\",\"alliance\",\"method\",\"meanwhile\",\"Simon\",\"Morris\",\"Beach\",\"crude\",\"suffer\",\"files\",\"quit\",\"Syria\",\"deployed\",\"Phillips\",\"shock\",\"Communications\",\"picking\",\"clock\",\"posts\",\"regard\",\"convention\",\"penalties\",\"backing\",\"rapid\",\"independence\",\"novel\",\"central_bank\",\"Korean\",\"scandal\",\"campaigns\",\"Assembly\",\"widespread\",\"species\",\"audio\",\"explains\",\"investing\",\"NASA\",\"Tickets\",\"welcomed\",\"detail\",\"unions\",\"moderate\",\"religion\",\"earthquake\",\"wedding\",\"grabbed\",\"Don\",\"Thailand\",\"Six\",\"restore\",\"plot\",\"Milwaukee\",\"lifted\",\"coffee\",\"Keep\",\"sun\",\"honest\",\"passion\",\"periods\",\"publication\",\"Saints\",\"swing\",\"Wood\",\"Calif.\",\"toll\",\"master\",\"useful\",\"eliminate\",\"answered\",\"congressional\",\"neighbor\",\"dropping\",\"weapon\",\"promising\",\"maintaining\",\"seeded\",\"arrival\",\"soft\",\"format\",\"honors\",\"trillion\",\"teen\",\"smoking\",\"Collins\",\"impressed\",\"consultant\",\"tiny\",\"temperatures\",\"adviser\",\"windows\",\"Cook\",\"shelter\",\"deadly\",\"label\",\"noting\",\"foul\",\"Form\",\"commissioner\",\"Sri_Lanka\",\"Rogers\",\"sheriff\",\"Stanford\",\"succeed\",\"nomination\",\"upgrade\",\"Montreal\",\"rely\",\"string\",\"trail\",\"aged\",\"traders\",\"triple\",\"personally\",\"implemented\",\"preferred\",\"winds\",\"lies\",\"Victoria\",\"Marketing\",\"exist\",\"Besides\",\"Labour\",\"Dutch\",\"Attorney_General\",\"proof\",\"tank\",\"etc.\",\"zero\",\"secondary\",\"Special\",\"consistently\",\"delighted\",\"Rodriguez\",\"defender\",\"suddenly\",\"Wayne\",\"Go\",\"garden\",\"e\",\"routine\",\"anonymity\",\"Barack_Obama\",\"postseason\",\"introduce\",\"venue\",\"teens\",\"free_throws\",\"affordable\",\"Others\",\"Franklin\",\"meat\",\"resigned\",\"Way\",\"attendance\",\"suppliers\",\"concrete\",\"#.##_ERA\",\"repeat\",\"anyway\",\"solve\",\"convinced\",\"McDonald\",\"St\",\"Charlotte\",\"legs\",\"uncertainty\",\"Given\",\"cheap\",\"programming\",\"Theatre\",\"neighboring\",\"Solutions\",\"helicopter\",\"demonstrated\",\"bright\",\"comeback\",\"offset\",\"forth\",\"harm\",\"##st\",\"protecting\",\"detained\",\"NY\",\"meter\",\"earning\",\"glad\",\"duties\",\"#:##.##\",\"rated\",\"upper\",\"dividend\",\"senator\",\"Jerry\",\"Haiti\",\"World_Series\",\"pulling\",\"organizers\",\"exit\",\"Ward\",\"shoes\",\"entitled\",\"viewed\",\"clash\",\"Madison\",\"courses\",\"Area\",\"Manhattan\",\"bike\",\"Insurance\",\"afraid\",\"billions\",\"\\u20ac\",\"hardly\",\"download\",\"Stock_Exchange\",\"petition\",\"bonus\",\"lying\",\"elderly\",\"reflects\",\"hate\",\"errors\",\"kinds\",\"Look\",\"Arts\",\"Chamber\",\"Medicare\",\"Lane\",\"Senator\",\"belief\",\"Hawaii\",\"Cooper\",\"assigned\",\"crazy\",\"arts\",\"Turner\",\"retain\",\"longest\",\"crashed\",\"TM\",\"guards\",\"Members\",\"assume\",\"mouth\",\"sufficient\",\"barely\",\"Libya\",\"sharply\",\"Yahoo\",\"connect\",\"offerings\",\"funeral\",\"express\",\"kitchen\",\"Wal_Mart\",\"purchases\",\"Youth\",\"averaged\",\"gaming\",\"disclosed\",\"kills\",\"investigations\",\"constitution\",\"flexibility\",\"Red_Sox\",\"Iraqis\",\"Boeing\",\"burning\",\"extreme\",\"updated\",\"Festival\",\"unprecedented\",\"Reid\",\"Al\",\"dealers\",\"acquisitions\",\"backup\",\"Lakers\",\"faculty\",\"prosecution\",\"tired\",\"Hughes\",\"ups\",\"Blair\",\"Zimbabwe\",\"optimistic\",\"pledged\",\"temperature\",\"Lawrence\",\"NASCAR\",\"Bulldogs\",\"funny\",\"Alan\",\"handful\",\"targeting\",\"broader\",\"rape\",\"intention\",\"super\",\"L.\",\"regardless\",\"nights\",\"abandoned\",\"Matthew\",\"birds\",\"sponsor\",\"Cuba\",\"airlines\",\"Buffalo\",\"tips\",\"conviction\",\"celebrated\",\"Revenue\",\"taste\",\"relating\",\"citizen\",\"locked\",\"Coast\",\"Sarah\",\"paint\",\"load\",\"essentially\",\"symptoms\",\"horses\",\"#-#-#\",\"Steven\",\"reviewed\",\"guns\",\"Douglas\",\"handled\",\"Jets\",\"emissions\",\"hurricane\",\"walls\",\"counsel\",\"consensus\",\"DNA\",\"reveal\",\"everywhere\",\"occasion\",\"carefully\",\"understood\",\"inventory\",\"engage\",\"lease\",\"incredible\",\"constant\",\"sons\",\"compromise\",\"Authority\",\"Christopher\",\"Mountain\",\"shops\",\"Turkish\",\"worries\",\"raises\",\"Out\",\"Cabinet\",\"Obviously\",\"opposite\",\"fitness\",\"database\",\"Brandon\",\"diverse\",\"stops\",\"battery\",\"parks\",\"Medical_Center\",\"rush\",\"Constitution\",\"burden\",\"controversy\",\"departure\",\"luck\",\"rebels\",\"repeated\",\"involves\",\"firing\",\"troubled\",\"Korea\",\"benchmark\",\"backs\",\"anymore\",\"Tyler\",\"institution\",\"keen\",\"fighters\",\"rallied\",\"contrast\",\"Village\",\"invested\",\"Video\",\"assembly\",\"Ottawa\",\"LA\",\"intends\",\"Swiss\",\"Bryant\",\"plastic\",\"New_Hampshire\",\"converted\",\"depending\",\"Later\",\"ordinary\",\"West_Virginia\",\"credits\",\"flooding\",\"Indianapolis\",\"actors\",\"productivity\",\"democratic\",\"Sean\",\"transferred\",\"tip\",\"interactive\",\"County_Sheriff\",\"casino\",\"basket\",\"chip\",\"bet\",\"writers\",\"execution\",\"requirement\",\"automatically\",\"Jan\",\"Fame\",\"plea\",\"Richmond\",\"i\",\"Justin\",\"machines\",\"please_visit\",\"modest\",\"Malaysia\",\"procedure\",\"Mrs.\",\"calm\",\"updates\",\"unveiled\",\"Golden\",\"Warren\",\"Jefferson\",\"swept\",\"loose\",\"latter\",\"nervous\",\"agriculture\",\"valued\",\"pregnant\",\"Awards\",\"conclusion\",\"homeowners\",\"household\",\"prefer\",\"enforcement\",\"Lord\",\"Prosecutors\",\"requiring\",\"definition\",\"demonstrate\",\"parade\",\"Anyone\",\"'##s\",\"hero\",\"Sgt\",\"economists\",\"rushing\",\"explore\",\"decreased\",\"patrol\",\"surprising\",\"diabetes\",\"component\",\"anger\",\"incentives\",\"Channel\",\"Live\",\"Nebraska\",\"Premier_League\",\"Republic\",\"carriers\",\"Sullivan\",\"commented\",\"teammate\",\"legacy\",\"Argentina\",\"fleet\",\"fat\",\"presents\",\"vacation\",\"introduction\",\"discount\",\"Ken\",\"provisions\",\"GDP\",\"praised\",\"Note\",\"lane\",\"Saudi_Arabia\",\"sells\",\"enhanced\",\"insurgents\",\"copies\",\"pride\",\"odds\",\"employed\",\"challenged\",\"singing\",\"equally\",\"collapsed\",\"thousand\",\"Football\",\"landing\",\"techniques\",\"III\",\"BC\",\"Butler\",\"item\",\"objective\",\"Stars\",\"robbery\",\"planes\",\"supplier\",\"comparison\",\"Rick\",\"Until\",\"Investment\",\"Township\",\"gifts\",\"engineers\",\"San_Jose\",\"burned\",\"Attorney\",\"arrests\",\"Patriots\",\"feedback\",\"bags\",\"revised\",\"versions\",\"agricultural\",\"Plan\",\"extraordinary\",\"sight\",\"Neither\",\"Baseball\",\"recruiting\",\"attacking\",\"Chrysler\",\"describe\",\"retailer\",\"reflected\",\"conspiracy\",\"Point\",\"Islam\",\"Richardson\",\"Library\",\"calendar\",\"Finally\",\"creates\",\"Broadway\",\"minds\",\"Wildcats\",\"Have\",\"midnight\",\"Elizabeth\",\"functions\",\"Scottish\",\"virtual\",\"delivers\",\"resignation\",\"Tehran\",\"badly\",\"indication\",\"commit\",\"Orlando\",\"pitches\",\"gallon\",\"ultimate\",\"beauty\",\"spoken\",\"invasion\",\"fires\",\"concerning\",\"waters\",\"authors\",\"tea\",\"turnovers\",\"advisory\",\"Memphis\",\"buried\",\"rent\",\"HIV\",\"Rob\",\"Jonathan\",\"probation\",\"excess\",\"girlfriend\",\"striker\",\"colleges\",\"Did\",\"priced\",\"fastest\",\"robust\",\"tracking\",\"participated\",\"lie\",\"dating\",\"Super\",\"Shanghai\",\"bowl\",\"highlight\",\"guaranteed\",\"R.\",\"chapter\",\"Poor\",\"tape\",\"Express\",\"server\",\"deployment\",\"shareholder\",\"Marine\",\"enormous\",\"homeless\",\"illness\",\"hall\",\"exhibit\",\"soil\",\"##nd\",\"noise\",\"outs\",\"deserve\",\"Disney\",\"Currently\",\"CIA\",\"rolling\",\"rarely\",\"adoption\",\"peaceful\",\"C.\",\"containing\",\"felony\",\"Warriors\",\"elite\",\"cabinet\",\"sponsors\",\"World_War_II\",\"economies\",\"hike\",\"arena\",\"solo\",\"platforms\",\"liability\",\"outdoor\",\"somewhere\",\"Ed\",\"displayed\",\"Alexander\",\"divided\",\"context\",\"Keith\",\"clinic\",\"lifestyle\",\"flew\",\"Part\",\"de\",\"screening\",\"dramatically\",\"Pirates\",\"Watson\",\"classroom\",\"contractors\",\"fundamental\",\"partly\",\"ensuring\",\"Oscar\",\"Entertainment\",\"tackles\",\"Gates\",\"slide\",\"suggesting\",\"ill\",\"imports\",\"highlights\",\"Airport\",\"Garcia\",\"assured\",\"bunch\",\"constantly\",\"holidays\",\"touched\",\"attempting\",\"fate\",\"listening\",\"\\u00bb\",\"legislators\",\"decent\",\"Pat\",\"risen\",\"hanging\",\"certified\",\"nominated\",\"Executive\",\"lists\",\"averaging\",\"lessons\",\"closure\",\"lifetime\",\"CD\",\"Sudan\",\"Data\",\"Head\",\"Fisher\",\"wider\",\"shocked\",\"Chief_Executive_Officer\",\"RBIs\",\"destination\",\"tens\",\"recommendation\",\"buses\",\"phones\",\"Caribbean\",\"acre\",\"Delta\",\"observed\",\"trials\",\"subsequent\",\"scenario\",\"shipping\",\"liberal\",\"lab\",\"pet\",\"Todd\",\"milk\",\"rumors\",\"Kenya\",\"IP\",\"municipal\",\"Phil\",\"starters\",\"Prior\",\"2nd\",\"bombing\",\"popularity\",\"thirds\",\"bailout\",\"menu\",\"asks\",\"Aaron\",\"tragedy\",\"packages\",\"interviewed\",\"Companies\",\"licenses\",\"Check\",\"Additionally\",\"memories\",\"colors\",\"consulting\",\"constitutional\",\"welfare\",\"nonprofit\",\"designs\",\"verdict\",\"defendants\",\"ankle\",\"sparked\",\"Limited\",\"Investigators\",\"Contact\",\"##th_century\",\"remarkable\",\"accompanied\",\"briefly\",\"AFP\",\"Montana\",\"letting\",\"Hudson\",\"receiver\",\"Overall\",\"wore\",\"Kings\",\"dynamic\",\"Third\",\"1st\",\"Directors\",\"attached\",\"tone\",\"reverse\",\"Brazilian\",\"Columbus\",\"survival\",\"establishment\",\"meal\",\"joint_venture\",\"Country\",\"reception\",\"promoted\",\"memorial\",\"warrant\",\"complicated\",\"inmates\",\"Does\",\"rough\",\"earth\",\"merely\",\"eliminated\",\"smile\",\"Miss\",\"checked\",\"J\",\"adjusted\",\"sweep\",\"leverage\",\"Sacramento\",\"Annual\",\"external\",\"mountain\",\"amendment\",\"associate\",\"Plus\",\"preserve\",\"attracted\",\"defendant\",\"sorry\",\"recovering\",\"subjects\",\"Masters\",\"N.\",\"Peterson\",\"diagnosed\",\"enabling\",\"legitimate\",\"terrible\",\"Philippines\",\"studying\",\"shed\",\"achievement\",\"delegation\",\"launching\",\"Classic\",\"dress\",\"DC\",\"reward\",\"Jennifer\",\"circuit\",\"Birmingham\",\"boxes\",\"vast\",\"adopt\",\"affair\",\"formerly\",\"Men\",\"enjoying\",\"predict\",\"respective\",\"recommend\",\"Sweden\",\"permits\",\"pattern\",\"admits\",\"HP\",\"Dennis\",\"renewed\",\"Vikings\",\"Place\",\"Blues\",\"satisfied\",\"principles\",\"crossed\",\"travelers\",\"landscape\",\"deposits\",\"Construction\",\"aboard\",\"Susan\",\"LONDON\",\"narrow\",\"practical\",\"installation\",\"D.\",\"San_Antonio\",\"samples\",\"exception\",\"halt\",\"loaded\",\"Delaware\",\"Harrison\",\"Station\",\"Tribune\",\"vaccine\",\"cup\",\"websites\",\"Make\",\"urging\",\"unlike\",\"purchasing\",\"sudden\",\"lined\",\"Hunter\",\"tonnes\",\"Summit\",\"wood\",\"eager\",\"climb\",\"careful\",\"mode\",\"enemy\",\"wanting\",\"engineer\",\"desperate\",\"AIDS\",\"Further\",\"commissioners\",\"Enterprise\",\"powered\",\"dealt\",\"oldest\",\"Indeed\",\"admission\",\"Friends\",\"connections\",\"therapy\",\"Roy\",\"topics\",\"comfort\",\"hang\"],\"x\":{\"__ndarray__\":\"KgVaQB227z/kLzhAp4mlQEMZeEEZmLQ/hI4Rwt5TV0GoVChA5leRQej5eEGftj5AQnJTv3qKFUD079lAgxKVQMqNBUGkHSw+bLBlQC/1M0AxeHW/WOQNQVCrZ8FGBb1B/xsYQf4RFcFDP2zBzZkAQtPUEkAkMpQ/JPL8wPiDM8Ho1wHBoDKUQKwnCcKRfhRBfiBjwfVfQ0Dh10LAImCkwLhdDcL+7qbADdENQUWTuL/A2qZAVruePkAWKL8oA7hB03iQQJw2ksBSHrxBkQE7QUR/h8BRiulAp877weEzQkBAUQ7Ce9KCwdtE20AX7C3BaSmgwLMkST5dMwVBnK5iP3KML0CAMOxAsexswHnggsHU6UXBwzBHwH2PpkF34GLAsn6pv5y9UkHiZoPBTeG2QVohR79xpcTBbcC6wIH+JcJZOQDCuuEJwpoAB8G+69M/4h12QfloqEDCzp2+/SmfQI7iREDjqCdAQPsPwjkvL0JX/qJBXKFnwYBlV8IZeZDAopiwQJcOVEB7+hXC//ZAQBVGFUJNJx8/rEZXwkkKCUBnhprAZEI6QZDoNkHbv1lC55oSwEVTWUJpKhHCoSnzwdYo10BFI1PBzyFXwkI9kUGTsWLB5H6uv3r9XT+/M57A6f4UQSf+G8FXdw/ApjQrwopJ7MEKhM1BvMJywIuoFEAtOwVBMOPzP1pEuEE16r7AaPMWQbMA1MAJCwHCgV/bQXpZ70CuRrJBE99CQbPepT/3fwlArwa9QYq7REK3bjrAiOfRvrlCab2O7RDCG1mdQEeoCsJ5MWNBauOeQOPxdEDauStCCYYFQUIOhsLhi41Ab08bwoQwH8IyD1JB/nxGQaZYDkKQAALC/gKCQdz6nUL4IDnA4uEUwj6iycD9a3NBgX2swETSekHLVQvAEcD1P1KcVMLdGzJCpYYKwsoUKUI+yTpBILMTQYcv80HnUZHBMqhwQHan2EECzjLCTGqhQfKBg8A9YjtBC8KlQRxwScDPGE3B1zXYQXxa0T/rMpfBahmfQdSaLkJeeRLCzaLtwOafscEaJL8/eJAhwhlF7kGdGBbCvAwnwawlR8Lhf+TBWv1QQra/MsEH5RXCglDav+E3PD9ZY/XBHidQwUp3IEJ2jGLBg0IQwnKzCcJAAUvBzNYrQvIvS8EaY4PBmNH3wZ7J9MGg83LB9OUCwlurC8BOh0vB8tsKwrt8SsHsKOO/r8CTv4b/rT955L9A8ezjQe26h0EmYFJCu0QXwigd3sAGOLg9Zno8Qim/O0L//VfCk3Y+QgTmEUKfTefB6WVaQXfpjsIQV8PBbI0TwQ4Qc8GEILk+FuSEwrqy18AkQYLCAL1bwY1tEUEc5ZbAroHDwVmnJUKf7abB/EQKwtBlKsJvmijC12UPwAN5lT+tZERCrM6QQcUxt0EQEa5BHkOBQIH78cG9qwJCiyWJwjGI1sEOBwrCOgz4QU3kA8D3HITBIWkwwXSpAkJeAu/B0UIVwlxw90Dz71vBY8vuP6g2MMJd7fZBDOUYQtZUpUAWUxG/uR6Jwf6zUUDo0gHCWsezQdA3LED7XhXC7rWXPne4OUJoQvw//OElQprDYMKfaR3CkQJYwkaYQ8JbIQRCM+GRwVY5F8JtmZFBxMOcwE+J6MH4+FZB2Ie2wLx9HcL1BAVBGxTFQaAdHkJJ+8RB/7azQU6Ml0G+rhPBQKLMwRecUULncObBJohZQnA8PkJMkg3CeOmPwbhU0UF1Tv5BkLiyQRbULT4Ax1NBCECcP2/kTkL2lLJBxK8vPycGWkAuYpJBFfG3QUxDLEBpsDHBaIXdwb7wh0K1GQ5CYJvHQOVoSEG3CbbBdsy/QZH1yUFCBvQ/oV/dQDvu/MDgC1hC6OY+wRMFEUHM+pdAz9RoQu1a9sFj1D/BlQQhQrX3C8EzyOdBYtxWwQkxq0HmLwXC/VH/QXyAJ8A9yzrBZBSEQgwxPMIAK9TBUddDQEDqS0Jq5nPBNm24QZnyo8Cj5idB9bsDwh5Li0IrlRFCV+hTQo4KWEENulRCFIMWwiGjrUGDDQBCxOwRQvAF0cHFit0/nH8LPSNs+EAy1xtCZv92wuQzQMDdA7VBjWTRwX8+QcFSXwhCtUwWQrOtOMC0Kw1CtacXwivfREH9Pew/MieVQSlVCkEE93xB6REjPwE8zb41NlTC9PQYQp8FJ8KxPANCqixCQmYEt8H5DwvC5l9IQj2ZZkEXEoRBkIsQQsB55UHxC2rCLuGTwrtEL0JM2mNCgmSXwBlmNsAlMxPClzERQvFMkMB8XQXBxJlnP2gyDMJgm3hBw59GwgslRkKnfDLCJY9jQtkcw8EBdnfCMyWNQRTLA8JLxsxBL7wewogIuUAl4f1BsW85wQLP9kCgztlAcNJowRSa7sHYXbNAACRjwV+azMEVD0VCfAY+QgrZ6UELnBdCCj4Twh+rRcFcmqVBpRKVQJ0PFkFg2LjBW86yQRE8OcIYdxbCJFA7Qo31x8FO7snBpQLbQZuz5EHuVINBRYwrQmG58kGtKdjBNfMaQIuFJ0JaogxCZ4MEwtJMd0EhJy9A2xdEQY/7sEGz6VFCb4RQwfaZ/UG4TNlB5lz0Qenhi0C7niTBV3MGwSHjE8IFYuVBKiqOQB7jK0Dw7K/BPgG6wYT4E8LgaknC8CnZQJc3e0F/CbRAc9ShQohvp76JgPvA68sHwvx2MD8GRKdAHfzFwRHtKcJnegxAZuxdQjjVjUHqUVzCZZOsweMcWMLt/qFBP9VOQnlAXcIA6I1AN9btQdZwVMJ45lZBZiQyQfA7IMKBqpnBBfgUwobxgMCWBVJCRuMYwv1EikJ3HnlBca8DwkoqIMI+/HnCCi7ywW+jPkLCF/pAse2qQVGzi8G0+O1BO8YDQOyK7MFJUqVBWktMQhkBtcH17SrCV+1IwvZqYMLkXv5BG2YZQTflg8G6ERHCZdOcwlafq8AJvyTBWR0sQSdXvMGI3w7BQAiNQiS1PUKRY5jBSjWMQWIWGkL36zDClx2dwoXqYMErpe3A+wo6wo1eGML/GCPA8/EOwjfjVcHVgwtBapFNQt+hIkG42NJBv4R5vkZTG0H8+kvBSasZwgXHyUDevGjBQNNZQpCZ1kGWUzTBhdBoQLZMysF5ivLBB6IVwgf5UMLwkpVBP7uiQOaTQUEMf8lAS9xxQk0uBcKHZijB6qvHwQO+jkFBITfClOqeQf2dnkG9XYvBx58hwo4s8UGt6qtAUtkrwXkt7sEf1dy/9Bk1P+JA30FgOZ3CWicrwe24TkEBzYFA6PkkQhR+PMEQc+9AhKOQQKm3EUB3d0ZCbT4yQk61ab4gzfnBx5BfwnoC2EFT38JAQUHpQfwK9UGod7NB1GgKwq7eGMLl1qxBb4CzwTQzM0JltYjCwXKfv/rng0EEnFZCc4wlQcDQWULjpoLC34sewgv2vUDj6v/BWVWNQXZM7MAsGcJBhuUzQaEA48GFyihCjBDwQR0jIEJUo9lBok9MQhyRbcFmbzxCQlcvwTeP5MHh1WnBL7M+wXbWg0JWdaTBlL5DwuHpVELkfRFBBpi5QZywLUJQDB5CF4wDQtQ7M8FVSIlBJ8CMQC4uiD9/qfhAu4JVwlD300Eh4o7BuhEOweYxYD/mXmBCg34UwtjMiUF76vJBAwkSQl8xm8GU6fvAPXg/QrmsmMEW6+PBCzBWws3QBMFhvb/AjNQ+wgyHNkI8YrRAFjY7wB522UCVT/HB5dztwB3IBMJ8KgzCEre3QEJhBMCu4MFBj7bKwThnoz9pHnBCRWhMQLVKMMEcxsBBT2djwaLjp0FFM7FAKlR4QO9zgcFrLxJC0SS0QTs2P0Iqy67ATRl1QuAOHkD7pIpBEyNvwlGhRMF6Cq5BITsSQhTQ3sHa42pBT7xkQmZmHUKt94dAZhdpwsWbtEAYANxBz2dXwfXmPELmhtzB1GKnQGWgIUEvXuLBVf0AQtL0XULnRLXAI00YwqxrC8J3/7xAl6RNwm6gPkLBnx5CWrwywjh2rkHgbhfCJ251QiVEGcIkiS1Bs2xnPwtNzUE/F3DCEyscQluNH0L28QVCW6hXwvCpGEKAqtzAMgcQQj62L8H953jC+P2FQddE+sE9tjxCoeMzQj5vDMI1YX4/eSNDP08+hkAY0XxArPUawj0ON8J7MILBorfrQOL2XkHsmDPB0k2Uwu6U0EFwjarBJHwuQnVWisL9p59AIPC9QVTrmUFpmVrCte1SwGOem0HWKbpBNXaKwo5lG8I8qxhCYXANQrONmj+DyoDAOMpIQUhiN8JAi0bCbPf+wIHHkcKjCXLB+8rLQTSfgz/HFojCugNUQknFdEIeMj5CwauAwtHMWcJT7JBC9+y3QVOThcFNmqa+cEFCQgVbWEJvyIXB1jQYwQieFUKWDmzB8CgsQOpjssGDGkBCjANCQSW4D0GO5k1CFbySwnk4UEKzoURBfOEpQiC8CsJeIghClVpwwb0/iD7QSYDCzycUwG6FMULvo+7Aj6ofQjmeW0EtXuBBB/LtQVZAl0HNxO5BhnnDwXoGzL95Ok1CyoqRwi69v8DZUZTBtsqgQfglhcDYc21CKCSKQTc4UsAI0RfC4sZsQPYoq0Gg0WLCZwoQwlVpzkFhaBJCyhjuQT61VUItcJ1BFhUMwuy7E0InqVpCVGkDwI01pMHO4u1AtotbwEp00EGn6IBCIf3gwZOyk0Hg3xdCIEZZwvTXh8F0Ry3CtvpvwSc9E8Ju6u9BU6ZgQe0Up0HdAsy/F+xBQVp2dcEp/mvC6xUkwZjeHULdmkFCvTg6wEzkycFEbsVBMZkhQIuzMsLR5EjB0VlzQC7XTsLm5JtAPUvnwc46O8E+vwBCwLYLwRn3Jj/p405C8OQJQj16ksLcKRS/G6nDwXtUjcLH/YnBVyM5Qupf20BepEBCHRb3QdkIP8JJCdhBMjl4Qtj64UHYwrNBNtwjwP3sWcLq/M/BGFEUwV0Lp0GDf5BCeUVJQVYHhEF//WbBWmX3wQeA1sGEKhxCuTmsQeNe30H46BTCynfnwY+gzEHtnYrAeWbzQSgBQkJpbE1CVIZEwszcQ0H9mfzB73xaQO4w/0GGduBBqNDqv5uVfkIdi5W/ZvHGwXqaGsEk+yjCHhvuQe0yGsL1v6FBKSAUwqdUxUEbUpBCXwBQQUnUXUIkXA1C5/98Qq1MAD/fmVHByD2LwvoPFsJNKgdBOVqQwSdiQr/wEWfC0PK4wGiitkF0tWPB/w2XQQqDMEJOIXZCmX8WQjq3xEHC4lpC4Ewxwis7JMGHp4lC9mDfQZSiesBdv0hBnnw/v2jY/0HEiqvAZV7GwBca5MAhWQJBFQWaQlmi0sGMqQZCF3oxQqCOwUAn1ivBtHkcQoz+ZUHBfjPBpFEhwqK05sHNzepADa0DQgQhO8KNIoJBqkcEQQhJT0KD62xC2V4AwgfpKUL6q2PCLukDwpUtl0C5WmPBsW9jwVjI0cE90C9BlVdVQX9Ie0KOYM/BWk7MwcBuBkLty0XAyMLUwQYrjUE2J0g/kSw8ws0xbUE3wrtBMVEWwq5VDEHEoSFBIISIwu9wf0EYMDhCxStdQhNbwr6pMg1CYYAxQqY09EEQ3wm/a02NP9Q4/0FqPRTBjAQ8QphHKEB/kRXCCBREwmHjyUGY7ANBK8SDQXJ6UsGjhddBbXgUwponncIa4LHBvGbqQX61cUJ9EQXCuVmYwDnk974DzLDBeR3xQUJT6UHjXhVCTsw1Qv9BNMK+5dxBk3izQTqFiUEKa7ZBgSXCwHh6iUERYENBkZawwGIIfsGxsZ9CGXJYQinhFEKxZnVCcMHiwdgYUUErQ8jBLw9zQFA/HL/at09CrdG1wWL3O0L0HgpCPpg/QqSeaML0fFpBktRowoGuAEITYIdAmZAawY2mhcFZvS7CgSxdwNadtcGlJFRCR+0jQsXSjkHADiNCCFQKwf0zjkLD1kdBIfKewmYNx8GoQaPBj8NNQs/j7UEHncLAAGuRQa4W90EYB5JCL69uQp9qMMIY275AL95lQFdMakH2Q5PB2BHwQCzOHsJoZSlC2gk9wnui8kFBJjNBjx0CQlLBxsFC+plCIrgpQt6XScGN9NpBOjggQcX0tMHEtGjCuDIdQo78JMLxQNnBTSyaQW/vP0HeeftA3b35wJ1DAkLEbIzBH84Twmqd+T9m9z3BHkamQREczcH62HRBVnwSwheSGUJ/VmFATpdowm28LkF4YA5CetcUwXcnRsERWAJC0srOQFEOlMG6e3jBZN93wUahO8IWxidCqVEzwvqYIUBL8RhCfK8lwid6n0LOx1zBuJ/zwTtjj0GGZKjBWA06wqA+dsBSJP9BsKYowmi3iEK06IdB/sMxwgS4X0FRwbFARQexQQ0ht0F4YwHCLdVqQBnpxkEYVynC47pUwpo1s0HlZP9BiawLwXs0uz4HMylC2coIQsZIK8GlgRnCkPZJwk0Pz8GxLJLCTl1fQklcaMJGD/hAN/XkQeTpq8EvOsLAW3cKwWsruEFIoHlCEaoKwTsjiUJCDHNCNMESwgRK2EBDzClCamX5QYwm2sBTqKBBXlP/QCmaIEJaKiHAlOUBQpYDbcF7V9dAo6Q3wp7eVcGjVhrCRXdmwYAeFkKk4l7B6NeawDGTD8GMqTO+U19PQavDu8CN9INBc6Aewit36j8boVzCdqNJwuAUq8HQ4nDC4LaPQsL1wEEIkthABANeQj+w48Fqr/9AWJGBQNqjPcIz/Y3B4DgcwqCEbMLoE7DB71Z8QtILREK81GbBl1eSwrri/UE2+gNCusUMQtOH3MDiMXlA3UgFQcDIicG1zB7C5C2GQcsIz0FEi3hAjdgNwZpeOEJ6HTVC4G6vQOI7yUHEb4s/P+CgQrCLbcFNIGdBk4YIwsUv98FtUJTCtrIBQfRMv0HZhBBC8mL9wacC/sEOekk/xRx1QqD1T8Lt8TJCIPEhPwjgukEDUTXByJSlwQkKbkKxoW3CQOXcQBN17kBJegTCXNHtwNYGgsF3PKO/EKYTwpyU60E9mevBpHfRwZD/zcE55YNC91kMQoh0GkInxFlBf1erQWmS2UEumEDBlGPywLfiDkJsvD5CsQjywRbEmUEIiE/AvPODQnnaikEWmBFC1xgxQgrbS0KeP29C3pp8QRbIdELvgn/CXn79wWfFO0I2ywlCqd20QcrNB8Lz/QDBHIAdQah/O8K9mBnBJYI+wi8osUHlrQpB3aKOQfG4OEJwmKjBMJgqwrAL9EFvWV3BtC8WQWCXKUJmempCE5kJwvS8BMI/yePAycjeQV6rKULUvF5C/qD5wSeo9UF3RC7CuliwwU3rlEGV/83BFLnLwdeWcMK4V0VBh1ZYQQuaWsGpfhHCXA0MwJT60cEuZW3BOaz+QOKtlsKsVoXBkyiLwQoWSL8DupbC1M2RvuqzhMEgYgxBFizLwa/Re0IvYxVCbOj8weiDVkGABALC8JDFQQB1i0J3Qj5C3/mhwQefMMEN25LBQg5SQWy7dUFduKHCPq9hwkpbhMLUuzBCrfi0wKrgI8K58BNBlDxwwlqlWEJAWSxBmFKswbimxMGrpgJCa7KTwmf2R8Igfg/CCKmJwtxKFMKuq15BJ/TdweFSHEIUNMTAjOrmQOWREUJE6oNBcq/MQJmcqcCzGjrCMjhhwSTWiEF8TFA/hl9HQlS6EsKn/EVB6QukQBY8XsGTN2LBz7YGQrrkK8G0OIlB8Nh2QSEXD8LLIg1CyHgaQpZAw0FLHSbAkGUFQpN4oUEVUP9BWQ6dwl5TF8Ks1E1CrAVqQR62GMJSZizAG35AQbfS9sAEGVNCwSXWQSSWO0K3DWhCOhDUQSS8k7+Sh0fC1/qyQWHfV8H5SfvBthstwITDykAx2RRBfF7oQX5IM7/gAipCmbeGQQ2Fe0E/9avB43SDwmklB0LF7b3BB15/QcGihcIDPT1CO0LnwQ8Wqb9P0+fA5oA1wbA/DEHyyRrA9DSOQWZyzMHb8BhCPEsRwoyse8InjIBB4LxWQXz3S8LUhozBVdNZwqeXGUKEY4zBBHIiQgnotkGproXBSo5uQp3sE8BS1hjC8eFawRGCPkEWe5XB054NQl2COcIK3RDANbCKQtLa+L2a3h7C65MiQrLDmsIraL7AKBCawZwa8b6iNq5A0fI8Qj/rs0CmjDtCMFpoQazLg8EmyYBCMIkPQZT6MsEhPV9AynONQd2U7EBacQxCcp9ewUWGir/YV47BXL4IwjA5Db9GeSbCg/N7Qiqis0EPwFnC/JyRQfG3zT81DaLBlRPfwZzJg0EpyoNCXcEqQm+kp8CphITCPQ63waiKn0FeJZa/CgsVQq5UxMCrFndAdeh1wDxH+UFqajxCbOM8wn8SI8LaNPfBQcytQRYsAkH7Rh9CxFzvQaB11kC5xuDB9L+hQYC50EEbqUPC8lj8wPv0G0JPSgtCB/JMQbz4Z0EXBArC8w9TQWYFTsDAgtHB9LIeQbKdosDnmgbBtawbwmRCgEEIYYJBoWPAQLA0DUKAS2q/oOKgQfkPXUGzsHTC1iUNQkIU0kEgH5DC2rLEQSiYosC/hmq/8HELwvHVKEIu3XLC+uWhQtakKMIZF1hBfcwqwl8QG8IL1fpApOv9vxtnkMFkMJk+zbpiQWhENsKMUj9ConYRwpEHnkL4lRrC6A8Cwhrj+MEbd5hBAHgjwpn8DcEjP9PBkiEFQSZO7sBvCiNBknEvwiH8VsLw8tW/AnpOQgaff8J9i6FCQnBowWcmWT8WRmdCs2IjQub0U0FLfvnBEJ9nQpni5MHpB0/CNUOVQRLPoEKY+5ZCCU27QWb8fkFVvkjCpLk1QBk+1EEJOBnCyz3Fwal4SUHu00HB/wtYwRSYEEJ2Rq7Bk/71wTM3NsJFEhjCoYc+wfGL20Ctg3VClzARQU8oQEKWpl9CxIVaQmTWLMIAtwVCyvNywp8y9kEGp4nBhWqxQZjmi0G6NPpB5QHWwbysjUHjCRLBYY8lQiRxQ0FsjcLBsBp9QiqRl8FR09tBX4pswpaJ68Gw0nxByT8xQgb0DsKVLSPBZAHwQdk4f8I8P7nAKVFswgdTCUJ4ljY/7hE1wcWQkz9INurBWdiawJfEPcIIp59C5OyOQXKqZMJbBlhCpG0dQqBc40DEOuJA048XQnwl50FIDwLBIgeSQrVLeELwzp1BW8jewdGe0z/VkDTBpyeTwg4THb/sL0JCXx2XQhFntMGwQy7C99AgQqRFQkJ9+CFBXx/DwVA9hkEJ9jPC7PN9Qa9j6UF36E1CNbILwqWufMKW8YXBrq/dwRdJeEJvzl3CwBUVwKpc58BwJ6rCp/kewh7uoEBtusXB7iNcQrY0oUE6sqHBGBCHQnQ5VcERA2fAS/QTQUfCfkENicfBenmHQTQLP8INa0rChF74QYKHycHbKJHCReVzQvrHcEFp7ARBEzRUQhkCT0IVNcpAFr4YwoQcFUG6fi1BlNDhwYPJ579YM3jB6EcGwug/v0DZhADBclkewrnQOkJPPxLBfJtjQglSBcJVnEFB8TrOQd9F7kHiUwLCXb85wp0R0MGCkiXClKU0wbF6vUG0xSNByJlVwhdLB0L3sQJBA67KQXDuH0Hazc/B/U1+Qn4y2sAtybRB9710QQR7Y0B+EobB7OQDwc/tZ0E+6dZAAdiMQQkxE8G+/zzC2+zmQVQ+6sDU1xxC7PgDQuo/MEEDAwvCldHZwTKkO0JC8a3BgCyHQZNr0kHAQoZCrcVRQoBJ3cExJ9VBcYa9QQPCQ8Iyh73AFHcTQsuLRkE8HjNC4pOFQNc6oMEvnkFBf93IQO9rt0G3ludB3xGxwRItV8Jq2zpB3jW6wYIKlkEHy49BIB4CQd5MzUGwwHdBl1ZWwguNdUJKtIjBLwjtQNmHg8Jl++tAMGzRQV1LksEsd4HBrKCEQhMrzkH+lTJBbGWIP363N0JodFlCt9DMQbIJskBaIb/BsecowgWgLEFit4RBO4MdwczGmsLafFfCJKEDwdfBSEBxL7DBhmgkwtA6REKk0i7BhVWmQS1gMkISV4ZBm4SBQL8yYcA1XtfBFdEQQraaWcEqx95A2WeDwYFJ0cElZ/3B723RQB0r3z/RNwzC1C3JwULbJ0IQKBpAYW+NwB8FGMJDAJG/qqslwYX/csIKVrHBjwahv2AMbUKjCzVCyzp9QvZ0Cj/oeXxCnzzpwHSs+UHAGiNBxWAcQbe8mECn9/w+UFalwJuDT77NJAtCVMhTwmvY1sHk97LBWmKaQdFgVcIbM/XBJtGswQN5SMKFFrDBCEShwbr2xkDNae1BGt6ewT5tJsKmczzC4VVOwpgiw0BXtFfCMUYyQJ8EPcEd0hBCkjTcQfdn20BosPY/0+b5QVxHGELSyWFB+6ckQghtnEFrA8XAqje+QKaEQkGsYQLA5DKkwV5FqkGfWJRCDoaVQTHoxEDS2ItCMC3ewZyoi0LNpxPCEDSTwljlDcIy6vHBmKcVQUbDAEFo/1nBU2AAQh2gr8A2TJLCMAcJwuAJLsFfeL/BM/gnQbnSIELHzEHCeKM5QraAoUKxzm3CjsvbQRNdy8GNSoLBuk2VwY6KqkEHUmpCffleQepVAsENoIpBYLmuwc3gecHJROFBye+ZQsPlwkHzZY1B1yLKwaW77kHygAzCE+TbwW2W6EFsjGBCAvccQqKRlUImDDbCYDaswAJjecIjoJXAsFJfwlpMOcJG3CBCx02rQc2h8UGpGDtB8jwGQov4bsKVF5lBNmI+Qmf/hMGkNxfCRQeAQoaJ9EFyvk1CZ7ysQbvt4MG7NLW//ClKQNJpssGgKGvCzn1EwYZ9R0JF4qBCdLoUwk2RY8H4nERBgnCPwM9jzEE5kh5CmvV2wYS6v8E3IwdCy5oLQhoO3EFy4qbBADcHQr8m7EHtQp5BX7WiwcDqbsAeZ5dC4XrJQaDnGsElY2dCnaY7Qu3ewMGK/rLB+MLeQQSZj7/qKotBtTETwqutAsI7Fq/ADp6EwMSuhEE9QVrBICVxwuamW8KtzXHCchFUwX8yf0FiPmLC2MqsPxz4ZTvZRkvBKNCrQUjrLUL9GwNCsNNvQlUROUL9aIjCmNIrQVojysHUo5NCVPuGQc7IRsL2iAjChh8GQmnDjMJYWtTBi8gAwv5JFULFADpB7itwQsPUlMK00MdAxI9Ewi9KOELD6rdBI1Rmwgo2pkGVxEXCL8kBQe+JjUL5mRRAxnRdwtM+iUDA4YFCFiVowsM9X0Gy4o9BatZKwu4isEFNjojAazeRQYpaBcEgeTHBOtSuwTVUU0LASojCiAUMQjUEXcE8mwhBOPyhwVYoAUEVByVCjOvmQfccqkH2mmXB24SVvoaGM8IYMuvAvWJkQShDDEKvKlDCv1AEwgZIh0Jueb3AW27iwUKUWEIINmBCURL6wRpB7kGKGd1BfxUyQepkl0FOcGZAy4L5waKfncFsWNBA/g4awreesL9kMF2/ZgckQh7hTEJLxJrCgT16QpUBDcJNheRBHVXSQQhJmkKg/D9C8sgnwbZH6ECzrI1BBzizQYJ7UkGhyLlBGdTAwW3FDsJgXoFBUGX2wbh8T0JiTobCofuHQT0I/MCVn2hCmUwHQn7OyUGZ7w9BtM/QvSVRF8J5NF5CTvE1wXmQCELk/WfCdP69waSrJsJXrLRAoqQVwTt/XUK5n5vBVfazwC0/KME3SG3CrXJzQP5Ep0DvpA9CBEE/wVCjpcAAlpbC1ngJQiy2IkKbBNHA5rpoP+dzMr/MnjHCIRunQYaH48Fn4K7BK1bOwW7a7sGXW8W/9VF8wtYlGkL+o4TCsL4jQOJ2PUJLxgLBUjBpQmDn38EbCYE+Z/JiQhkv2UGphwBCIFrEQc1RIMJH0lFCuz6xwUL2/0DhSmrCna4nwPhjWMH933rCVhoMQhwwIkLoO/pBuqEOweDfFEIjOi7BXI1BQtWKRUHBT0FCwXoZQpX/8MGNVOJBmoCeQfRgPcH/98JB5XkMwsULO0L+krnBmnKQwmRWV8I+WI9C83TPQSc018Ed7ihCzmY+QpNpdELHCgLCCeiBQeFwHMJVaADBQxxOQtKalsIQaBXCmeICQp3/JkKOKy/Bds4gQYCGfUHOhclB9jMkwngg6MET8nBCjeJcwn2ChMHYd0RCYfOZQToEN0LmoCbCMPSxwFNa60GjpoPC2xv9wVz31UBeYEDCkAdqQcdSf8LKW6JBtE+3wYjds8GUJy5BDB5rQVu9GULIO6VB3j35Qe/s3MHnoyVCEYtkQl7wNEKXJrXBc637QX7ChsLLx63BdCGJwsEGbcI4ycPBbkwyQj1OaMLI+UFCbUiCQkl1GML+uhPCpDwrQrZAacLzQUTCEsaHQY3oTEKEJ9RBxUa4wCwGN8B7IeTBZgzqwQPtisLwoyJBW04fQlRIgMFApxhCqAU0wjBeVMIFlhZCqUFDwukNIkJBDlbBGxjKQbVV7sAEGDRCeyrewQrDo8HNezFCToVtwgyC2sCxp13Cd2PWQZ7ZKL6Q8jDB9ZeDwb0Q8sEMDB/CXBCdQaZR7MGWWnhBid9Dwlby2EHgMONAcN0gQpZsPUJHo5xBYJsnQfI/rkG0utw/3G+3wWtdikKDIQk/Sm8RwQZbD0IYRZhCePc9wpEBcMJgbbVBcauxvmt3s8HANBBBIu7avp0lJ8BeC1JBkh9Xwb3RCELnzQ1CsdzAQFVHX8K/ABdCH887wddMKkE/wldCzdCLweANBcJKUwtCBv9dQll8DMJQgITBhPiewdxbKUGUgtrAUlkTQHE4aMIexlzCx9mhQdo6HEB+7NrBLcQ5wi86n0HMLAFCrcQbwqQUHcJkgQNCCITiwZDdnj5lU1dCM9dQQueukcKwIevBd+whQd/f/0GvswLCMa2xwfwkiUG62k1Cr7dyQgFwikJaXAzBvsihwccbGMIdnOFBcwYJQusiD0JijY3Bx8IfQsdt40E8AhxC8ot+wYjHQsExNvXBqndHwX5C4sCdR9zAmcq7wamOhEDe9stAqnN1wpbE6EE/+hTCVnAwQuuTH8CrqzFCZJaxQd4PcMJggc+/c0BGQoCpx8AIQ5VAE5sjwhGL0UEqYunB0FJ8QnSyYkJCrTrAD3I1QijeoEGiZJhBNKKEwQYvB8J4lmpCtiHYQYtNYkC5ED3CE81Nwof0s8Ex83NB+Si7Qeasq8DP5SPCgpPXwV0IYMIDBubBcsInQh5LsMGWKHZBGnqzQSmzBsJt4JRBWVD6QW42ZsIW4ONBet6rQfIMvECK3mnBqeI/QrF1tcDOITHBAzCZwpMAi8FDKvXBMDNxwov5aEJhfSpCyrbwQVoHW8KL3CxC+OPBQS8qRkBT6yxC4lxSv1dHGcIZevrB11h/walEo0GBrVZBn3VAQbMaB8KsNUTCnyH6wO7pssEXW3fCf64HweKj1MHXM3LCpxjxwVOcC0FXqry/Ww5Cwu4cXcI6PIxB9498wglRhsHPSavBPNNvQW8FmcJ8eITA3rUaQpSXa8GIIrRB9PhfQUe1m8K5sv7Bx+NSQnX8K0EN3tdAzQnEwVPM5kHGHA1C3GxjQZyGqkD0/0FCtIshP6fdu0Epr4jCQ8XfwcU5A0INY9hA13RaQT9qscBgHQNCuKRRwsg2csLqW/M+4y4TQhbtFMKPjrvBLgwXwQtfpsAN+irCUSxgwsKOYsJaETo/q2AsQurqX8LzMk1CwN6FQh1MUMGBP2nCgVM5wjFAh0HJdgFC3txjQmvzGsJQyn1CIREXweWuS8K8PlFB0YIzwnfrC0Ik6rXAhqTYP830ocIcHzRC4FlWwjcKksFJvjDC/sa0QX8gI8AZz11C5jscwl9/oEEi+TZAmpYQwo2L3cCKG4jB9SiowUuxKUKbC65BS9wRwCDTrEFl0VFCTLG0wUM2Q0KaoA1CoUQOQRh0cEGQqjvCvw4swtpelEInzZ7AfeXlv5BNN0LPydxAOB8jQUOsEkJZlWJC8gu1wcp7CcLATtrA+LNuwmbjYcIGQmdCCzIwQRTQNcEJdQzB7tdgwigjoT/vM4BCoM34wS1lMkHKhwZB3vWaQsOskUGH1ddAkAPHP+ngjUFj91rC/jKtv2rLFUI5zQzCAh9lQGZiMcF0pd3BD7oLwqoE8UE0lQjAWM8+wtdYDkL/k9RABEQ9wswzxEFYcj1Cfb7wQLDCmMGyxJlANbItwTvFncF0XtNBkocVwpV8ikHrBJ5BkGoXQZH3L8Dj2G/CbHcmwgH0YcKuIfJBMXhwwQLWxcC/94hBhl+ZQRkIW0GrXMbBSJApQiJCeMIa12zCiA2Svw8W+cFSHvbB1m0mwibF30AQUBjC+MwWwkbRi8LhDnjB6GDKwU0UpMF5N+pBhZoNQt9VNcL8D93BsygawnmXCcJeCbLB6udAwd9CtcG3kAzBlk+3QK03db/+DBdBjjOfwpOnkEGZfmbCjAUewji7rr8wjhxCKEWLwIiafkLIOxvC+bYsQpA4ekH2aZhBP7ieQtlC6EEnLI7Bi6cBwkz3MMFdm4VBqN5qQUMES7/FttjAIBmIQiAyJcEa7xtCFwCawhW9kEIDhoHCIxwbQpKW9MGiuPNBkamvQWcjXMJlm7FB9vHkQc8JL8DfE8hBzGIYwgyMmsGcLO9BcQ8TQmmhh8LHDgzCnMiMQqrI8cELrkjAg6s2QRLCbcIEHULC3QNaQI48m8KsMA/C8vKLwRbDhEG0FqLCaDo2wvLJ1sHcuzlCOJhSQH5ghULBkJlBiQKzQCbQysG9iaNBYA3oQPfKgEH5S0xBdAWiwUEL30GoqeNAbUOXQGZOkEKehXdCNYVlwmsUbMLK2BrCh/FwQjvJ70HnTozBW3/IQXMYP8Ix60NBJXYMQW0IfEDd+IrC80XYQd7IA8KfNh1CvA7mQB+3EkLKZBRBIMqUQtHKuEE6aBpCY9d4Qod48EGtp6zBIvqCwX+gpUCe6jlC58t1wTi57EHbAaLBJ1YLQFYdV8FuqM9B4380wivN1sFNh51Blmi3QSX9jcJzSPe/B8u+QW7+VkFGJlNCzemqQPjE90HqEzFCTZH8wMgZj0HKV9lAT3UcwpW2YEINxoLClF4dQgupJEL6WnpC3D1PQcDSzcGckCDC7tHtwZYJBsGzzr9BYtFpQtwUQsInM2nCIEZxwkWMNcK7GaVA6GZwv4F9BEJ512rCxG+vQeKpBcE2+ArCRoeJQEvmZ8H1FJJBX/T4wc0yRULck4FAiEJzwkTK+sEBLb/B/Gsxwh3R2MG5d9dA280vwiiKN0IxrPBBIb90QiDeasJG0S7AtBoTQoVJB0FjsCjBJzuoQZEEbcIMoCVCBgyfQdxiTEB8qiRBP7+EQbPGbcGjkxLB3p2ZwSJTiMLHaixC2bjtwZ88iEKeNXTC7jIkQc11aMKVDsjAsJCcv46Xj8FscT/BVS0dQUIMGULqGBnC7WSlP7hMGkJrXfZBkKSYQa0vXsIPfIXB+XlnQS9JE8KVZl7BjtaywYObXUGPnM5BVXXMQQ5Vh8I/riZC4aMNwmmiGsLNfQTCgVyHQhWRS8JZyAXChYCpQRrbf8FWbN9AkYXJwVJRKkILsI9CSqxlQSV93cF0WBpC9kAdQYwzQEJQ2mY/XjZsQblw6MGDjPPAhK2XP5FgTkJawezB282AwVQKY8GM8YLBnPKKwpw9kMGFmipCtVo2wXhFlkHq8VhCAPdBQv/PmMGovGzB2GTzQbcV+sFpqH7AJAD1wcXjY0LVUFzBUgr1wJo2ycG9A5XC5jE1QW2bksGIFcHB3XAewdmsg8KRDoLCf96Fwr+rO0IcHfJBBIg6QY4TeEKYlxjB0SI7QmdXnsKQ5CrBVNocQqFbc0GptVLCSr/UQbN8GsJjDqDBGW4awqdNEMHYkPhALBiUQZXm1UEAUZdCHRz6QEX3uUH6FHVB6vtPQInRT8LQ+7PBRnEiwU22IMFWYgdCJpEyQDOlE0EJRba/FgJwwnLcb0Jd5LlBbgLawQimGcKrVKFBYf+LQqE8msEMtr5A8oE7QN2InMGgPGHCDbivQT9yisGhMaNBHGghwqaXyEFRLa/BmUa9Qfy6IsId5CBCHWJRQvZEa0KnRYrCJ2QhwojkCEJxa/BBeMcTwUEyIcLUbR/AgO55wpxAQ8K5JSFCAk//wXz5pUGRfQJCawfUwbS7scGYR6hB+x0HQlXH5UHJKdxBFPcPQpXXesECcVXC6ufjwZs7g8EMgCdCD8PZwdwPGUF+m6+/OVZtwXXwo8Bf7htCG6leQa7RtMFDKITBGDwmQbRt00Gw6LBAYiYEwvuKPkBHxSHAh0PSQHCXQMJ+3XdCXgezwXrhxMA06X9CfJuVQMyppEGSAAnCdNUYQiBkIMJ5D9nBZBqxwWDwtEF4Y15BDM0uwZ8cYsLR8hVC41TOQEpZ6cGhw71ADNH8wa5PH0HH0iDCIIESwnlpnMAGjtpAJNZ4Qg22gcFZ3lPCKFh5wje3gcIyDzNAhyIXQkU3dcI83aHCDHqHwi054cGjbTxCZ+7awTtpZ0JYxfVB5nZqwp7bksEAkm9ALh5Cwg6mcMHWVPZBw2ZtwjNCzsAdZkDCtzgIQrNoE8LT/6xANkMjQIiHOMLU7nZC6AhLP3/lEsKJKafAmco5QpMil8G7zza8OkVXwYNI8sBR+ITCU77WQeLf/kHkKE1CfGn6QXqxMcLy60BBfAeHQdsmxUF2zMHAFFIJwgko8sGw8/TA1h+fvwWqIUJFxpBC+E2VQhej6sGIgRbBd6RaQs3xe0K8lZnB6yZnwTiGUEIU5v3BotNXwZOfR8JF0JBClHGCwNmZksFozNZBo9IVQocgFsEeVv6/TJYyQPdDDEHqcsvBt+diwp4IxsArOYFCOoXjvwMIRMJ9eN5Bpcr0wPWGjEGLsihCSHTEQPO/fEEcGgPC2rL0wdrnt8FPAfNBG/QewiqyTMLnBV5BEUWwQQfbhsJms2hAx/pnQY8DJ0LsLYhAot2awo0TOMKMI09CjCCHwvVwJcGJWwNCQNBswA05QEE1kjfCzy2jQc4zPkInwInB3wZ0wS5RHUHriy9BcBSyQLV4VMHAVhRCxD8OQpt83cDIX+5BXSiCQD/LRMI6DnxCKka5Qdp9ZEL7/RnC9JCHQeS6cUJPnOxB4ywUwp2ctsGt705CJfSaQcklwMDn5j1Bj+s+wkuEcsK7/FhCAgtkwmEpu0F58ynBMqZxQgaXc8JD385Anz4YQodPPMGdUZq/Zgihwhn2q7/Y7vjB3e/iQX2iYMLLaYbCqNX5QUtm28GMoAFCvN8bwr4zUMKc0xJC2lA7wdLNFME+FDPCKilFQSC0ekDv1I3COsjkwd3FUcJ9IfrBnQ9AQosOTUIqWVrC+YtXQje3qUFfQyXCZm/Yvx6uLcF45EnCC7QpwMyUZj45DJLCpJiYQQDkYMCf67BBrt0wQsumHEKytd9AkNPmvueLAUK9s35BOgSQwQnYXMJry8JBUuoRQiEqj8G9SAjC8NFawdwXKkJhVWTC8g7OQezQXsIDSrNBILY2QtqYE0IdLWlCYW5Uwg3ou8Ehzf5AuJPUQJm0DcF87BXC0JUgQpL6RUJckBfCOLaDQlgv50E57TTCs55EQcOexEAjJohB01BGQkQKYcLM68NA2emJQYkbGUGnmfDBVRucwGdDlcGR7mbB89aNQhZXPUKymtfB5mlVwulXUUH6zG5C4C+MQfLgncEMojBChCrNv0BHY8BpkUJBrpIiQgvxncHFO2NB/JF4wnyu0cGNzOJAQ5nMQRglTsAzTBdBSLYkQvaRLUJVMrPBJzngwfMH2MHJmDrCmbA7wfdkO8KdvZK/7/6pwYbYg8I5ufnB1ZM3QtUZu0F1zyDCRuVvQk0PyME1IivBEJwewfG/NcHtUABCLnq8wSAWt8DELIHBC4rpwBPUA0JDjB/C6DRbQWth3kHu5jjCWRyFQUbki0J2/7FB5IauQY5G30GjGBxCDAQpwisk4EFXamvCspCUQv4R3EHjgEJCe96HwRP9qEBODWBBY24nQSV5DcKUVhlBNh7KwQCmYkFzKWbCDGaIQuf6tUHpGPhB5kmbQu1sr0HuM2vCnrx3wLldTkLdCr7B27VbQY9lAcGyBbPA4nrrwU2HaEJp0CDCB8p+wUZRi0A46olCaQYSwpE9HkEG0ZtBV+hTwQTOnUE+6rlB6sdAQaIhX8LM5Z8/bvVrQmDPh8GdO11CE+GgQjLo6sAiLK1BakCJQjm5IULg/wzCrvSNQr3izcHIWCBCaLGqQbwjGMKJWYFCuqiSQYFeoMIDRYvC/0JsQuV2RMEHFY7Blk6Pwf6EjT8YyElCww3uQVwkIMKZuCzBhb4vQpOfnMDyK1VBUx5fwWjG/cEZ/Ai/VUyfQeydMEJYYwvBVX5RQcxugMAkE2RBApDywJ+qF8FqeSjC51ebwuAoE8JeCX9BJo/9wV7r4EEd2WvCRMS0PwwSFEFmb1RCvr+NwgIs7UH0WhbAruQZQb4ZAcIy/4W/6PVVwUyzKEI+Y2zCRRy9QSosCEIMD63BBH/FQVU3hUE0EjzCXN4TQZupHEF8zkPCSteOQuktF8I/v4NCk81WwWW3AEKkKHdC13mdwTrV0ED/c0VCBElgwmsiKEKgwHxC82e5wF+yk0FfqtHBk8NOwgd22sGhy4TCuc05wqZHCkLEpak/RcEwwuMtCMDZrJ7BNR6OP9t8QcJhFLDBmRZdvYo4E0JV0k1CXEjpQAtXzj9rKIZBDEZYQuNdR8KZKWtA/d+DQmSS88HU5TC/DXfdQYknukE3kN5AvDR6QkUvFUER9fjBcVjdQRz21cHbN/NBp1mKwrr5LsKwj4xCOLNCQudTjEBMcntClhVZQq1P+sELtIxCaVP9wWtSYMIOCNA/e09cQpG8KsKPni3C7TwYwsnvN8IChkJCmx/4wGp2DMIK7h2/LRqCQDLMsMCbQCNCTAKwQfVgE8LV/UPCoPzRwUq6P0AoNE7CSX76wWEQDkIRL1zBwj+swfd16ECV30K+ICwWQtIIL0GrX5fBv5qPQvdzD0BA6gDAp9/wwcbAD8Ivg96/fG89waNOP8Jh1XXCOoUNwu2vI8IED0TCNrb4wSDEJ0IXM4tAlcUjwsxLEsIB6CVBEPpMwpj/g0LZysO9RXYlQsctfcKRPG1CRdENQBQw78FkHX/BodtfQm9hjMEiCN3BXY48wUNkZEKWtPBBCqlPQeO6rsGgkL3BCEl1Qv7IE0EEINLB+xL3wBBDY8LgzUpBTDs9wiBJNsHi9zfCsXo0wZG1DcLcxjZBhgctQotSOsLUn2/CQvsrwfYy8cF0+97BxAaOwbQ/nUDRH95BQ+8xwkE3g8ELcArAQ3pGwivZ7sHc/6lBnipSQpQIMEAu8BdCQ5R3wDB9icK0EgnCGoO3QXg66cDQhCzCszEpwkKYhkHod4FAS05EwmI4DUF5f4JBBfrMwVTqoEI8lxVB2sVcQcgu78FcJ09CZtUTQti0AEKtaFFC8s91vmwxC0Jk5+dBHXoTQAQv7kDUZetBbxVawpgtBELNNwnBPPkaQnVub0EqcqTA2H2VwOJ7asIKl2nC93UDQmJzFkLV3yhCep8vQaNJbMJAPg7CpvkowogzPkIsGFdCTScLQhJAhcBx3GBBh+sZwopMf8DnylzCM2KgwCewIcL08k5CiaQowqNisUGvdoRBGY5KQkKZMcFohWDC+yJPQq9gQEIj8ddBnsAiQUYGBEJ6AZnCpJh1QUeVKUKoD/rBLTe1wdthJkKTBeZBw4tzQnMUtEFa1wnCBZgewhtuH0Jcv4jC6y71Qf83h8IkpjTCBWK2vosClMIs9rfBjQh6QvmiTcLWxY/CuLX2wUT4Q0GiPV1Bq+b5QLkjP0J6YgXCsa1DwnbD1cGhFhZBFKyDwaxAg0HZK13CSme1wcU960EbGlLBZ5FFQHBw9kFXy2tCQuyBwUS7hEL2nvrBj4f3wQlKQEKoFdHB6zRiQul7icIy5k5CV8PawXLsJMBSlgHAg+RFwS87JcJvIebBxcC/QHbNZ8GXAR7BuarzwTfCbsLpOzRCr9N2QtlwFMF4JGBBiI5XQsLHxcGKo4xBXZObP+R7CsL6nyvByWRXwnfNA8LBo1zBVOoewpdaAkJvIhVCJa+IQuaUZUK1OFTCje1CQe8330ButobCTfMIQfscCMK+KsNBeYUCwnZdg0GJJBhCqxHPwdodTUEmtTlBwEuMwQVPMsJJ5r5Bs/MTQj/zHsLJqsNB/UIwQmFnmUF283vCQNQfwpwAFEKuK5xBuys0QgMKuD+tsMzBa9WPwdn810G6mqq+FRM+QWGEgkGIDFZBcWYYQaQJjsDWSwRBlyhbQZB4V0DqHubBAk8ywnJihUGl5G4+IhvgQbxI50Hr7B3C/uWlQWY9SUH3vCVCHqsDQhwaDsILx4S/zRkTQnLyV8LCV/K/53SIQggimkHDcqzAOMCmwZ2up0Ea5dTBAxGOwfpsSkE+zxjCAHf5wS6aocHucGdBvHMywt6XacIFrA/Bw6aTQTNKPkK3osBBtcTcQXZUxcFbXqfBpG3VQGiBfUIEls3BNDTmP/aLIUC0uwjCk/BsQuUTH0LAAt7BgGERQQYgacK5A/5AOLE/Qvdcx8HCkgBBM3xhQZ5UE0JvKjLBGRt0Qk3J6kGg7ltCilJ8wqA1P8ErHwPCLDzbQZW4kUFH1S9CyNxlwTKHMcEVHvLA/l91wjnRvkFUcC5CcU1jQtVlgkILo6rBUYGowM2pSsLSmQHCnR1xQFmdhsKudnBCjg34QZDcDsLEU5fBqexQwnJAusGv2apBJ1HbQfFaBcJPR6DCozMjwodBa0Jx6cvBiaRIwg10P8I6VQxBmJGUQBPLvcGLnUZCUqX6wWUoOsK7lrZBBs28wdDuIMGy9RFCX9lrwsrut0CD2N9B2OvYQeKeCkKOahnB0V8SwqgKPkJWE1vCynQLwllxRsLkPuhB2d6Qwv6UWkG7v4PCXgfCwfVVR8Hi9lHC5mo9Qm0xIsK5vmXAnWv7vkcPvsCAjbpBJJCqwZT7U8LvbjXCSqIfQRhr60HEmmfCxw2IQZCbFcL5x1LBY+t5QQ2jg0IZabzBJ0k1wlIqG8IHt/BAnOxEwV/obMIN0FBB7DgIQjmsnEG2hmFBkcfBQVxSGMKyv0ZCawIUwsKm8r7WBipCDUElwsOS+cGMPIBC5asFQbZOa8B9CEBCkHE3wds84kHWiLFBOxg3wd3jyMHwma/AOEdewj/18MEmRcTBMfBdP+SDSsK/YZNBsM4xwbjWe0IW4HBCg/qvQUpVwMCI847B9zSbwWq+30Av3T9CIMUNQhm6W0HIu0RBqRagweunj8LDwIjCkexVwCDPXUHDE4FBKEH3QY7jJUFFrIVCt7jDwYTihkFlE4xBMBtZQnskAMHmvU5C9B8dwZZJc0E6h+PBW12nQD+KhcHLUgTCheUeQriCDcKbqoDBGfr8QZ/jZUEW1efB5Tw0wRkUh0Bt3CrBdXDVPqUA0L+874vBwGhUwYrIQMIp5U5ChIIpQODAw8GUSh3CS5zawZ+SAUIJhbRBH6HXwf84zUEbzaNBDhdawkYI7UAZpSLBMoXxQS7aFUL30r1B2XACQaX79sBklR1BDeF+QeNzoMIk1z9BOntLQugngkDx3opBkdu0QaLfNUKa2zBCUuOXQSqb6MGOHBnCUhQpQuKcQEFg3QbCjETTwdWrbMK3p1rBhMiqQWQCokGeabo9gjATwj3kesL/XVbBGdC7QFhy+8GHOlRBIeOHQH1IAUJ/1fJAQS3xwdYgJMKdY6DCq92kQbWxr0FLlN5Ab/+hwXcgGMLU2IRCi1IQwpc7oUBBt81BSyQpQqQHE8GA7IxAoxZ8QQ7jeMHzoaHByURCQvQOakF0aOzAfGULQSwB60GMqzjCGJN2wZgiq0FKTazCBw9LwRm0osGKhyNB63SYQVTRIUL37WfBn8euwMEIJUJcMNZBn2KgQZf2L0IKlerBAvU8wOPymsJGQzhC8wrNwTw6P8JHf23C4v99QrOTl8EYYWXCTTQ9QhIigcF3m1RCa5JEwl0M/kAXxK9ASKy4waZDWEGKKoXCFfV3wc1mJ8J/W3rC4LISwUa8ikIpZxFCN6iKQgNWYEFFC3XBDAmVwpw+cULEzhnBuxkIQtNjekKqOSXCzFKXwc+bMkKtSR7CIT7OQcI4CcICBoPCTKauwZ6UEcIMWPE/2L5HQQHtAcGRKk/CHsA9QXF27cFzxSHC1Vt0wp8pA8J4Bx1C2pSXQUBvOsJ1VDpCvl9rvmerNMICPyHCNAfZwQgcQcIpCSRAdnkSwjvLkULS/mrCiORPQsmJ/cHPM4bC9CmBwtI7L0Ii9PzBsNQDQjsxekJ3kddBpuH7QaT8QsFWJVrCXuoUQtVf5L9W0oFB10QYwVxNTMKtkqfBGSrFQYFZTMIrDJvAkERKwvdIzkH2HK1AL7TfQBt4Nz9zkvHBlsFuwjReO0HEo//BiURiQUHgEsIc2bBBs7OhwHOuZMGWiLLBunJwwtHSgULo5v2/px6Dwnh+MsIB5UtCjB3ZQG9kKsJ0fJjBF/iWwassjcK7FGTBFlAjQiyw3sFzdj/CWGO2QEdtkEC/uIhCaCdpQcjcB8LKNILB0s5Gwi2FVsEPzS7AQ2ySQQ/eTkKJG5FBTr1DwMVLl8LJLQRCeF2HQRu03EHZ5jPCGZwHwpI33EE/WZbAInMrv/jAHcIfvHRC4sHDwVX2WcIt2m7CZFp8QuMgp75mgfNBL1EqwkKXhUHrugzBekdAQoDYecFtZ8HBUo4ownAadcKITz1CXscnwON9DUKkcAvCtO41wZk0cEIXzu5BGuZhwnuvL8LCJc7BAMIFwlR6V8KL6NXBF3sHQcXg1z6Ie+PBE9k6wuPGDUCSz5JBYwtFQvpFjcHuhEhCgLs/wSVtd8K0wg1CYMusQI6pO8Iy/AvBa6NUQQpEY8AWgIPAKYm5QD7Si8JjFXvB/kNwQZc7fsL7OhjC8KzTvzkTlkC4zV7AW6gSwprCfkL5JQfCulblwbZGFEINzyzCr6vuQOP9N0FcfdHBM5kGQldBEUCsTh3Ch4l2QcQYI0JNN/RBJ3EQQmhzn8KjrL3APZkOwkUgCEKk2HRCSQJ5whvKD8JPaSpAIADHQUWPGcKFjcPBByiSwUcQTkIw+IjCbOwIwrWwdkFs/CnCgxmSQcbPXEFl0hHAFHndQPhODsKRtsbBLc8lQpOdfUIg2+RBi9OBwpPPGsFjaIzBN1yOwTxWDMIuyqfAXR8ewpbnQ8KdzQnA8K4BQh8sT8LO+gfCaI5iwijzhsLXFoBAOEvewSJP7sFIvCxCXsAmwc+SDsKUGRNCwDqKQof2PMEUp0C/Xj9/wS+0sMFgje3BygWiwT57MEKPySvCYaefQVG7WMLAJ6DATbK5wSKlpcADPz5CuXtRQpsD1UHnd9TB/pSBwftpn8Iz4bjBRsmiwY1fZEKS64ZAtdZtQOc2kMF9Zy3CXFPowQbciUGR9RXBT5EVwgHDaELkLYfCR2k0QZ81jcBtV97B2VGSwbvPY0FIF51BMoTMQcqRFMCrVU/BUnSMQUnoOkG/GjlC4gwiQvNSXELZpqhAGtMXQQlPlMKq3mNBDxsiwJ7H5cGJLpDC3gQBQgx3JsIc4Wu/tOeaQo+SC8H8KPjAFw9VQQJyqMCYhYRAeJ/PQewDAsKXZxlBbzqTwX54yEGKiH7CTk7YP2uvLsL1PJLB+t7gQOhMb8Ggd5XBtUHnv6Bu6sHpm7hAYfIUQkk4GcIbDf4+RXA4wqbSlUHUUt3B7VZzQEO6BMKZ07PAHgLiQaLahsEGFunAAX+9QCLQAsL57CBCnYsdQUlLrMLX12rCyHZwwhFWxkEU6UzCxwMfwrFBmMB5d3XCY4dYwfRikL9oTqtBXCcPwq+XZcLfXS1Ciq2qwSUmW8LEatjAkJNAQmcUmcFr9ejBKxIhQpdrnMCB8KJB6bHYwWY7KUD82y3Cr4GHQviFi0DMIGjBRgV+QhqXq0FqjbU/KXA8weUWKMJddpDBa4ZEwmLIM7/m//3B4EqyQN1jT0HaNPjAyHNBwp8760EhDJvBHtQywtADYUGo24RClzYiwuKPJsJf8izCGCwwwk8UIcDHZI1AVeuwv/LBXsJa/Pi+qtyMwpsVzUHO26NBVHTkwTafcEJyUtdBnBxXwST5csLYRgDCWEgxQsq+mEExsd1B1bmCwOzY67+MZyHCafVdwrLRRMEcuIJBjrwxwrLNZkJ29YJCG8c/wUM7qEAuM0RAqjixQZJdVEBmNDFCOzWXQcOtF8LDL2zCuDV8wtFSk8Lx9K9BIh8EwmXFoEFOBGTCr0MpQQngOsItG89BjPn9wfhcKUJ2N57BtTWBQt8HbEJU1NLB9I2TQbOw40H9y6RBps9NwK/xiMKgnRvCr1V0Quk+ikLwFO7Bc34vQTqcb0Fkx3tAHHvDQZXAX0ASSpK+0lQ5Qd+P/cFLtPrBfQlvwm2918EJ4AFCqdoiwRQsbMJkGSjCdJsLwSpREkJ6JUvCjaTKwTu2gkGomyNCLGC7QP+d1sGsMJRBL9EnQuMe5sFLOoFCePEpQsXCdMI/tCnC5o+Ywf/HzMG2wobCAI8AQlOORsLlBEdBIN52QWv/XsJKKABCo2XOQM9xfkKsCJw+XXl1wtYTwUHkBQnCh+78wfkrQUGdIwpCS5UNQo6bm8HkoJnCX5H4wRIqD8KSmSRBa23KQBnliUFfJnNCUDo1wGb0qsGyL4fCKKsZQG0DfsGrBsHByHYAQqYVYsKOJhjA/y5bQmkslsH0chrCduj5QNYKwUFSRg1CdoJUwp4cSMIKNqxB0TGqQKactkAv3QHBDiC/wb5ztsHQXc5BQ/XYwWpTKEFOuoHBqdo8whVSNkFnpl7CS6cPwhY0WUILW3Q/GK3jweMk8MF+eMzBGyOcQGU7lMIjw27CVoj9wCGTk0GNUmlCZgwVwVDYPEIExG9CNu8pQg5LQsF0zh1ALe2LQs7UQMJnrjLCVhoUQkLTTUK/fz7BX43tQKieZ8Fk2TBByKx8QlRM30Fn0oRCom85QjBJvsEtMSXB7n90wg1xSUB97yTCzHoVQdYjLsJ/7R3CZpokQRoY8cFZXuBBxTkRwivUu0Ad4MnBxdowQgcoL0FI731CfnYuwpwYOcFWs5BCAryowa3FhMKa7A/CnCz4wPaVMEL6mb7Bt4nrQdfUhELSiD5BTtjiwY1UCULwgtU+ZvBvQq66sb8DY8vBV5oeQmxPEcIRqFHC6TtkQdYZ38HWRWRAWI4JwsTa0MEeAKNBoOtRwv9re0F/jHhBGjaKwk8pGcLUbvjA/oMWQhjp+8BqBAFBSbZuQoP48cCOPFc+cEeDwKbDAMKURG9C1eKzQdk6mMFOl1dCdRMUQswwjUGmqvHB5+5pQRAh4sDyvhlBzveYwd7WLEJ1luNBgW1DQJVO3cDpJNTBtbBXwfDPIEDlbMLBSt55QqdLy8BwLgRCmVv2QQhPDUGhamLBj88PwpAdd8HgxBJCxTs0waFID0BS5DvCRFnMQTTiKUGnDh/CuBEjwURqUEAc6uRABfk4wvNsBcJgTObBXTPfQbcVxMGS56ZBmukswq+3gcL9tvBA8rOqQTLMlMGvUexBYR+AQTNF90ET9JHBAwieQRC5pMFVZQLCe8mTwUH4K8FKj0DC2ui0QaLw88GqSN/BwidKwkRwr0E5wxrC3Zr9wf+YRcGdKP3B/NNPQhs5q8Eh2pNB/cf7wa0dGMAq3yBCPenYwECFGkI6AQ3CMdZMQSxydEEql5pAsG41wtkuPEFwaZLBl9tMQMo/+D6ItyJCI66YQVF4nsH4ZG7Blsr2Qes8T0IHb/3Be0apQVj6IML3j7dAGecDQki43b3g2JnBc/p3wjYJqUEa4ivCQK5GwoNUWkEkPhDBeH4xwnVOHEF6D7fBvMUawqsC6j+gUpBCbsBzQUB568CQQjjCNzJWwh+LzcEScO5Al5Wewc3AbkLIq5LC01k5wWPShELjsJ/C/Bb8wB1s0UH/b0bCtiORQSEuUj+BR2DCPCJpQGyOi0Ksd7/BMaefwUI07EE6UAI/bHQzQT4xMMJ8cVFC3150wvmyDcHEHxdBPqWOwqO4jkFl9RxBNUIkQTiFfUJ4mlNCh1uewXkiyrxC1rZBXcO7Qan2S8JLqDvBAoIiwh7ctkEukD1C9sgjQNmugz+6PD/CaJKIwYpLokIL0odC2lqjQKrrg0I6vGPCROoewQgzS8JrCoZBo/S4wXKvgELKCHbCFN9Owl7rIcFnEnxCYMWCQsbeDkH9ZHXCSlQUQUxusEEhKJrAVmoCQnHxRsKD5QXC9ueZQW6Tk0EP0y9CHALTwXUEE8JfKobCpzSKwlvuTcJ78Zu/CC8qQqjH4cGdJ6VBy8YGQcHrCEKBVhZCii3nQZFPusFUCbPBzY4uwaNEWEFr+4lC01U2wQNtVsICRKlB6dg8QNe2isEcNGRCx7ZowpLmIsKnbRTCdaO2wVZaOD98wyvCtPeFQUeIh0HO/gtC+tptQHWXd0KXEz5BVmwkQqGpG8LIBFbAN8+9wHNdwcAAEuNB3UR0Qih3jEGUFlVBze7fwU/b20FUGSpC7TfYQYkAcj8iwYRBTzoMwKBG70EPF1tCLdtgQlsSYcHS5HxBd0NOvs9aksLfAvJB8p4FQQGv6sFoc7JBoQ29wZw2y8A=\",\"dtype\":\"float32\",\"order\":\"little\",\"shape\":[5000]},\"y\":{\"__ndarray__\":\"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\",\"dtype\":\"float32\",\"order\":\"little\",\"shape\":[5000]}},\"selected\":{\"id\":\"1818\"},\"selection_policy\":{\"id\":\"1817\"}},\"id\":\"1809\",\"type\":\"ColumnDataSource\"},{\"attributes\":{\"source\":{\"id\":\"1809\"}},\"id\":\"1815\",\"type\":\"CDSView\"},{\"attributes\":{\"bottom_units\":\"screen\",\"coordinates\":null,\"fill_alpha\":0.5,\"fill_color\":\"lightgrey\",\"group\":null,\"left_units\":\"screen\",\"level\":\"overlay\",\"line_alpha\":1.0,\"line_color\":\"black\",\"line_dash\":[4,4],\"line_width\":2,\"right_units\":\"screen\",\"syncable\":false,\"top_units\":\"screen\"},\"id\":\"1802\",\"type\":\"BoxAnnotation\"},{\"attributes\":{},\"id\":\"1818\",\"type\":\"Selection\"},{\"attributes\":{},\"id\":\"1798\",\"type\":\"WheelZoomTool\"},{\"attributes\":{\"coordinates\":null,\"group\":null,\"text\":\"It's a map of 10000 word vectors\"},\"id\":\"1787\",\"type\":\"Title\"},{\"attributes\":{\"callback\":null,\"tooltips\":[[\"word\",\"@words\"]]},\"id\":\"1801\",\"type\":\"HoverTool\"},{\"attributes\":{},\"id\":\"1797\",\"type\":\"PanTool\"},{\"attributes\":{\"coordinates\":null,\"data_source\":{\"id\":\"1809\"},\"glyph\":{\"id\":\"1811\"},\"group\":null,\"hover_glyph\":null,\"muted_glyph\":{\"id\":\"1813\"},\"nonselection_glyph\":{\"id\":\"1812\"},\"view\":{\"id\":\"1815\"}},\"id\":\"1814\",\"type\":\"GlyphRenderer\"},{\"attributes\":{},\"id\":\"1795\",\"type\":\"LinearScale\"},{\"attributes\":{},\"id\":\"1817\",\"type\":\"UnionRenderers\"},{\"attributes\":{},\"id\":\"1789\",\"type\":\"DataRange1d\"},{\"attributes\":{\"fill_alpha\":{\"value\":0.2},\"fill_color\":{\"value\":\"darkorange\"},\"hatch_alpha\":{\"value\":0.2},\"hatch_color\":{\"value\":\"darkorange\"},\"line_alpha\":{\"value\":0.2},\"line_color\":{\"value\":\"darkorange\"},\"x\":{\"field\":\"x\"},\"y\":{\"field\":\"y\"}},\"id\":\"1813\",\"type\":\"Scatter\"},{\"attributes\":{},\"id\":\"1800\",\"type\":\"ResetTool\"},{\"attributes\":{},\"id\":\"1791\",\"type\":\"DataRange1d\"},{\"attributes\":{\"tools\":[{\"id\":\"1797\"},{\"id\":\"1798\"},{\"id\":\"1799\"},{\"id\":\"1800\"},{\"id\":\"1801\"}]},\"id\":\"1803\",\"type\":\"Toolbar\"},{\"attributes\":{},\"id\":\"1793\",\"type\":\"LinearScale\"},{\"attributes\":{\"fill_color\":{\"value\":\"darkorange\"},\"hatch_color\":{\"value\":\"darkorange\"},\"line_color\":{\"value\":\"darkorange\"},\"x\":{\"field\":\"x\"},\"y\":{\"field\":\"y\"}},\"id\":\"1811\",\"type\":\"Scatter\"}],\"root_ids\":[\"1786\"]},\"title\":\"Bokeh Application\",\"version\":\"2.4.3\"}};\n",
       "  const render_items = [{\"docid\":\"09c9b18c-ff8d-4ca9-89b7-1a763f328081\",\"root_ids\":[\"1786\"],\"roots\":{\"1786\":\"3e5fac70-9cd2-4e80-98da-2d41d1490326\"}}];\n",
       "  root.Bokeh.embed.embed_items_notebook(docs_json, render_items);\n",
       "  }\n",
       "  if (root.Bokeh !== undefined) {\n",
       "    embed_document(root);\n",
       "  } else {\n",
       "    let attempts = 0;\n",
       "    const timer = setInterval(function(root) {\n",
       "      if (root.Bokeh !== undefined) {\n",
       "        clearInterval(timer);\n",
       "        embed_document(root);\n",
       "      } else {\n",
       "        attempts++;\n",
       "        if (attempts > 100) {\n",
       "          clearInterval(timer);\n",
       "          console.log(\"Bokeh: ERROR: Unable to run BokehJS code because BokehJS library is missing\");\n",
       "        }\n",
       "      }\n",
       "    }, 10, root)\n",
       "  }\n",
       "})(window);"
      ],
      "application/vnd.bokehjs_exec.v0+json": ""
     },
     "metadata": {
      "application/vnd.bokehjs_exec.v0+json": {
       "id": "1786"
      }
     },
     "output_type": "display_data"
    }
   ],
   "source": [
    "# importing bokeh library for interactive dataviz\n",
    "import bokeh.plotting as bp\n",
    "from bokeh.models import HoverTool, BoxSelectTool\n",
    "from bokeh.plotting import figure, show, output_notebook\n",
    "\n",
    "# defining the chart\n",
    "output_notebook()\n",
    "plot_tfidf = bp.figure(plot_width=500, plot_height=400, title=\"It's a map of 10000 word vectors\",\n",
    "    tools=\"pan,wheel_zoom,box_zoom,reset,hover\",\n",
    "    x_axis_type=None, y_axis_type=None, min_border=1)\n",
    "\n",
    "# getting a list of word vectors. limit to 10000. each is of 300 dimensions\n",
    "word_vectors = [model[w] for w in list(model.key_to_index.keys())[:5000]]\n",
    "\n",
    "# dimensionality reduction. converting the vectors to 2d vectors\n",
    "from sklearn.manifold import TSNE\n",
    "tsne_model = TSNE(n_components=2, verbose=1, random_state=0)\n",
    "tsne_w2v = tsne_model.fit_transform(word_vectors)\n",
    "\n",
    "# putting everything in a dataframe\n",
    "tsne_df = pd.DataFrame(tsne_w2v, columns=['x', 'y'])\n",
    "tsne_df['words'] = list(model.key_to_index.keys())[:5000]\n",
    "\n",
    "# plotting. the corresponding word ppears when you hover on the data point.\n",
    "plot_tfidf.scatter(x='x', y='y', source=tsne_df,color = 'darkorange')\n",
    "hover = plot_tfidf.select(dict(type=HoverTool))\n",
    "hover.tooltips={\"word\": \"@words\"}\n",
    "show(plot_tfidf)"
   ]
  },
  {
   "cell_type": "code",
   "execution_count": 33,
   "id": "8ee720a6",
   "metadata": {},
   "outputs": [],
   "source": [
    "documents = []\n",
    "for x in comment_tokens:\n",
    "    document = [word for word in x if word in model.key_to_index]\n",
    "    documents.append(document)"
   ]
  },
  {
   "cell_type": "code",
   "execution_count": 34,
   "id": "8018a81c",
   "metadata": {},
   "outputs": [
    {
     "data": {
      "text/plain": [
       "23900"
      ]
     },
     "execution_count": 34,
     "metadata": {},
     "output_type": "execute_result"
    }
   ],
   "source": [
    "len(documents)"
   ]
  },
  {
   "cell_type": "code",
   "execution_count": 35,
   "id": "bc629a84",
   "metadata": {},
   "outputs": [
    {
     "data": {
      "text/plain": [
       "list"
      ]
     },
     "execution_count": 35,
     "metadata": {},
     "output_type": "execute_result"
    }
   ],
   "source": [
    "type(documents)"
   ]
  },
  {
   "cell_type": "code",
   "execution_count": 36,
   "id": "b5dc7047",
   "metadata": {},
   "outputs": [
    {
     "name": "stdout",
     "output_type": "stream",
     "text": [
      "30\n"
     ]
    }
   ],
   "source": [
    "#checking if there is any empty list inside documents\n",
    "counter = 0\n",
    "for i in range (0,len(documents)):\n",
    "    if documents[i] == []:\n",
    "        counter += 1\n",
    "print(counter)"
   ]
  },
  {
   "cell_type": "markdown",
   "id": "00b30184",
   "metadata": {},
   "source": [
    "> So there were in total this much empty vectors(output of above cell) which were form due to removal of words whch are not present in our pretrained model's vocab, now we will fill those vectors with zeros"
   ]
  },
  {
   "cell_type": "code",
   "execution_count": 37,
   "id": "2a5f1069",
   "metadata": {},
   "outputs": [],
   "source": [
    "list_v=[]\n",
    "for i in range (0,len(documents)):\n",
    "    if documents[i] == []:\n",
    "        list_v.append(np.zeros(300,))\n",
    "    else:\n",
    "        list_v.append(np.mean(model[documents[i]], axis=0))"
   ]
  },
  {
   "cell_type": "code",
   "execution_count": 38,
   "id": "4a9236e7",
   "metadata": {},
   "outputs": [
    {
     "data": {
      "text/plain": [
       "23900"
      ]
     },
     "execution_count": 38,
     "metadata": {},
     "output_type": "execute_result"
    }
   ],
   "source": [
    "len(list_v)"
   ]
  },
  {
   "cell_type": "code",
   "execution_count": 39,
   "id": "ef45f77f",
   "metadata": {},
   "outputs": [
    {
     "name": "stdout",
     "output_type": "stream",
     "text": [
      "Original dataset shape before smote Counter({0: 23000, 1: 900})\n",
      "Original dataset shape after smote Counter({0: 23000, 1: 23000})\n"
     ]
    }
   ],
   "source": [
    "from collections import Counter\n",
    "print('Original dataset shape before smote %s' % Counter(new['toxic']))\n",
    "from imblearn.over_sampling import SMOTE\n",
    "oversample = SMOTE()\n",
    "X, y = oversample.fit_resample(list_v, new['toxic'])\n",
    "print('Original dataset shape after smote %s' % Counter(y))"
   ]
  },
  {
   "cell_type": "code",
   "execution_count": 40,
   "id": "629498c9",
   "metadata": {},
   "outputs": [],
   "source": [
    "#test-train split\n",
    "from sklearn.model_selection import train_test_split\n",
    "Xw_train, Xw_test, yw_train, yw_test = train_test_split(X,y, test_size=0.33, random_state=20, stratify=y)"
   ]
  },
  {
   "cell_type": "code",
   "execution_count": 41,
   "id": "6fcfe2be",
   "metadata": {},
   "outputs": [
    {
     "data": {
      "text/plain": [
       "LogisticRegression(max_iter=100000)"
      ]
     },
     "execution_count": 41,
     "metadata": {},
     "output_type": "execute_result"
    }
   ],
   "source": [
    "from sklearn.linear_model import LogisticRegression\n",
    "clf=LogisticRegression(max_iter=100000)\n",
    "clf.fit(Xw_train,yw_train)"
   ]
  },
  {
   "cell_type": "code",
   "execution_count": 42,
   "id": "be5be7df",
   "metadata": {},
   "outputs": [
    {
     "data": {
      "text/plain": [
       "0.8822793148880106"
      ]
     },
     "execution_count": 42,
     "metadata": {},
     "output_type": "execute_result"
    }
   ],
   "source": [
    "predicted_res=clf.predict(Xw_test)\n",
    "from sklearn.metrics import accuracy_score\n",
    "accuracy=accuracy_score(yw_test,predicted_res)\n",
    "accuracy"
   ]
  }
 ],
 "metadata": {
  "kernelspec": {
   "display_name": "Python 3 (ipykernel)",
   "language": "python",
   "name": "python3"
  },
  "language_info": {
   "codemirror_mode": {
    "name": "ipython",
    "version": 3
   },
   "file_extension": ".py",
   "mimetype": "text/x-python",
   "name": "python",
   "nbconvert_exporter": "python",
   "pygments_lexer": "ipython3",
   "version": "3.9.13"
  }
 },
 "nbformat": 4,
 "nbformat_minor": 5
}
